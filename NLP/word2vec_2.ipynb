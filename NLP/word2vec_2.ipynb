{
  "nbformat": 4,
  "nbformat_minor": 0,
  "metadata": {
    "colab": {
      "provenance": []
    },
    "kernelspec": {
      "name": "python3",
      "display_name": "Python 3"
    },
    "language_info": {
      "name": "python"
    }
  },
  "cells": [
    {
      "cell_type": "code",
      "source": [
        "!python -m spacy download pt_core_news_sm"
      ],
      "metadata": {
        "colab": {
          "base_uri": "https://localhost:8080/"
        },
        "id": "txxviPVspJNU",
        "outputId": "07cad566-83de-4312-8755-daaa98736f28"
      },
      "execution_count": 1,
      "outputs": [
        {
          "output_type": "stream",
          "name": "stdout",
          "text": [
            "Collecting pt-core-news-sm==3.7.0\n",
            "  Downloading https://github.com/explosion/spacy-models/releases/download/pt_core_news_sm-3.7.0/pt_core_news_sm-3.7.0-py3-none-any.whl (13.0 MB)\n",
            "\u001b[2K     \u001b[90m━━━━━━━━━━━━━━━━━━━━━━━━━━━━━━━━━━━━━━━━\u001b[0m \u001b[32m13.0/13.0 MB\u001b[0m \u001b[31m38.1 MB/s\u001b[0m eta \u001b[36m0:00:00\u001b[0m\n",
            "\u001b[?25hRequirement already satisfied: spacy<3.8.0,>=3.7.0 in /usr/local/lib/python3.10/dist-packages (from pt-core-news-sm==3.7.0) (3.7.5)\n",
            "Requirement already satisfied: spacy-legacy<3.1.0,>=3.0.11 in /usr/local/lib/python3.10/dist-packages (from spacy<3.8.0,>=3.7.0->pt-core-news-sm==3.7.0) (3.0.12)\n",
            "Requirement already satisfied: spacy-loggers<2.0.0,>=1.0.0 in /usr/local/lib/python3.10/dist-packages (from spacy<3.8.0,>=3.7.0->pt-core-news-sm==3.7.0) (1.0.5)\n",
            "Requirement already satisfied: murmurhash<1.1.0,>=0.28.0 in /usr/local/lib/python3.10/dist-packages (from spacy<3.8.0,>=3.7.0->pt-core-news-sm==3.7.0) (1.0.10)\n",
            "Requirement already satisfied: cymem<2.1.0,>=2.0.2 in /usr/local/lib/python3.10/dist-packages (from spacy<3.8.0,>=3.7.0->pt-core-news-sm==3.7.0) (2.0.8)\n",
            "Requirement already satisfied: preshed<3.1.0,>=3.0.2 in /usr/local/lib/python3.10/dist-packages (from spacy<3.8.0,>=3.7.0->pt-core-news-sm==3.7.0) (3.0.9)\n",
            "Requirement already satisfied: thinc<8.3.0,>=8.2.2 in /usr/local/lib/python3.10/dist-packages (from spacy<3.8.0,>=3.7.0->pt-core-news-sm==3.7.0) (8.2.5)\n",
            "Requirement already satisfied: wasabi<1.2.0,>=0.9.1 in /usr/local/lib/python3.10/dist-packages (from spacy<3.8.0,>=3.7.0->pt-core-news-sm==3.7.0) (1.1.3)\n",
            "Requirement already satisfied: srsly<3.0.0,>=2.4.3 in /usr/local/lib/python3.10/dist-packages (from spacy<3.8.0,>=3.7.0->pt-core-news-sm==3.7.0) (2.4.8)\n",
            "Requirement already satisfied: catalogue<2.1.0,>=2.0.6 in /usr/local/lib/python3.10/dist-packages (from spacy<3.8.0,>=3.7.0->pt-core-news-sm==3.7.0) (2.0.10)\n",
            "Requirement already satisfied: weasel<0.5.0,>=0.1.0 in /usr/local/lib/python3.10/dist-packages (from spacy<3.8.0,>=3.7.0->pt-core-news-sm==3.7.0) (0.4.1)\n",
            "Requirement already satisfied: typer<1.0.0,>=0.3.0 in /usr/local/lib/python3.10/dist-packages (from spacy<3.8.0,>=3.7.0->pt-core-news-sm==3.7.0) (0.12.3)\n",
            "Requirement already satisfied: tqdm<5.0.0,>=4.38.0 in /usr/local/lib/python3.10/dist-packages (from spacy<3.8.0,>=3.7.0->pt-core-news-sm==3.7.0) (4.66.4)\n",
            "Requirement already satisfied: requests<3.0.0,>=2.13.0 in /usr/local/lib/python3.10/dist-packages (from spacy<3.8.0,>=3.7.0->pt-core-news-sm==3.7.0) (2.31.0)\n",
            "Requirement already satisfied: pydantic!=1.8,!=1.8.1,<3.0.0,>=1.7.4 in /usr/local/lib/python3.10/dist-packages (from spacy<3.8.0,>=3.7.0->pt-core-news-sm==3.7.0) (2.8.2)\n",
            "Requirement already satisfied: jinja2 in /usr/local/lib/python3.10/dist-packages (from spacy<3.8.0,>=3.7.0->pt-core-news-sm==3.7.0) (3.1.4)\n",
            "Requirement already satisfied: setuptools in /usr/local/lib/python3.10/dist-packages (from spacy<3.8.0,>=3.7.0->pt-core-news-sm==3.7.0) (67.7.2)\n",
            "Requirement already satisfied: packaging>=20.0 in /usr/local/lib/python3.10/dist-packages (from spacy<3.8.0,>=3.7.0->pt-core-news-sm==3.7.0) (24.1)\n",
            "Requirement already satisfied: langcodes<4.0.0,>=3.2.0 in /usr/local/lib/python3.10/dist-packages (from spacy<3.8.0,>=3.7.0->pt-core-news-sm==3.7.0) (3.4.0)\n",
            "Requirement already satisfied: numpy>=1.19.0 in /usr/local/lib/python3.10/dist-packages (from spacy<3.8.0,>=3.7.0->pt-core-news-sm==3.7.0) (1.25.2)\n",
            "Requirement already satisfied: language-data>=1.2 in /usr/local/lib/python3.10/dist-packages (from langcodes<4.0.0,>=3.2.0->spacy<3.8.0,>=3.7.0->pt-core-news-sm==3.7.0) (1.2.0)\n",
            "Requirement already satisfied: annotated-types>=0.4.0 in /usr/local/lib/python3.10/dist-packages (from pydantic!=1.8,!=1.8.1,<3.0.0,>=1.7.4->spacy<3.8.0,>=3.7.0->pt-core-news-sm==3.7.0) (0.7.0)\n",
            "Requirement already satisfied: pydantic-core==2.20.1 in /usr/local/lib/python3.10/dist-packages (from pydantic!=1.8,!=1.8.1,<3.0.0,>=1.7.4->spacy<3.8.0,>=3.7.0->pt-core-news-sm==3.7.0) (2.20.1)\n",
            "Requirement already satisfied: typing-extensions>=4.6.1 in /usr/local/lib/python3.10/dist-packages (from pydantic!=1.8,!=1.8.1,<3.0.0,>=1.7.4->spacy<3.8.0,>=3.7.0->pt-core-news-sm==3.7.0) (4.12.2)\n",
            "Requirement already satisfied: charset-normalizer<4,>=2 in /usr/local/lib/python3.10/dist-packages (from requests<3.0.0,>=2.13.0->spacy<3.8.0,>=3.7.0->pt-core-news-sm==3.7.0) (3.3.2)\n",
            "Requirement already satisfied: idna<4,>=2.5 in /usr/local/lib/python3.10/dist-packages (from requests<3.0.0,>=2.13.0->spacy<3.8.0,>=3.7.0->pt-core-news-sm==3.7.0) (3.7)\n",
            "Requirement already satisfied: urllib3<3,>=1.21.1 in /usr/local/lib/python3.10/dist-packages (from requests<3.0.0,>=2.13.0->spacy<3.8.0,>=3.7.0->pt-core-news-sm==3.7.0) (2.0.7)\n",
            "Requirement already satisfied: certifi>=2017.4.17 in /usr/local/lib/python3.10/dist-packages (from requests<3.0.0,>=2.13.0->spacy<3.8.0,>=3.7.0->pt-core-news-sm==3.7.0) (2024.7.4)\n",
            "Requirement already satisfied: blis<0.8.0,>=0.7.8 in /usr/local/lib/python3.10/dist-packages (from thinc<8.3.0,>=8.2.2->spacy<3.8.0,>=3.7.0->pt-core-news-sm==3.7.0) (0.7.11)\n",
            "Requirement already satisfied: confection<1.0.0,>=0.0.1 in /usr/local/lib/python3.10/dist-packages (from thinc<8.3.0,>=8.2.2->spacy<3.8.0,>=3.7.0->pt-core-news-sm==3.7.0) (0.1.5)\n",
            "Requirement already satisfied: click>=8.0.0 in /usr/local/lib/python3.10/dist-packages (from typer<1.0.0,>=0.3.0->spacy<3.8.0,>=3.7.0->pt-core-news-sm==3.7.0) (8.1.7)\n",
            "Requirement already satisfied: shellingham>=1.3.0 in /usr/local/lib/python3.10/dist-packages (from typer<1.0.0,>=0.3.0->spacy<3.8.0,>=3.7.0->pt-core-news-sm==3.7.0) (1.5.4)\n",
            "Requirement already satisfied: rich>=10.11.0 in /usr/local/lib/python3.10/dist-packages (from typer<1.0.0,>=0.3.0->spacy<3.8.0,>=3.7.0->pt-core-news-sm==3.7.0) (13.7.1)\n",
            "Requirement already satisfied: cloudpathlib<1.0.0,>=0.7.0 in /usr/local/lib/python3.10/dist-packages (from weasel<0.5.0,>=0.1.0->spacy<3.8.0,>=3.7.0->pt-core-news-sm==3.7.0) (0.18.1)\n",
            "Requirement already satisfied: smart-open<8.0.0,>=5.2.1 in /usr/local/lib/python3.10/dist-packages (from weasel<0.5.0,>=0.1.0->spacy<3.8.0,>=3.7.0->pt-core-news-sm==3.7.0) (7.0.4)\n",
            "Requirement already satisfied: MarkupSafe>=2.0 in /usr/local/lib/python3.10/dist-packages (from jinja2->spacy<3.8.0,>=3.7.0->pt-core-news-sm==3.7.0) (2.1.5)\n",
            "Requirement already satisfied: marisa-trie>=0.7.7 in /usr/local/lib/python3.10/dist-packages (from language-data>=1.2->langcodes<4.0.0,>=3.2.0->spacy<3.8.0,>=3.7.0->pt-core-news-sm==3.7.0) (1.2.0)\n",
            "Requirement already satisfied: markdown-it-py>=2.2.0 in /usr/local/lib/python3.10/dist-packages (from rich>=10.11.0->typer<1.0.0,>=0.3.0->spacy<3.8.0,>=3.7.0->pt-core-news-sm==3.7.0) (3.0.0)\n",
            "Requirement already satisfied: pygments<3.0.0,>=2.13.0 in /usr/local/lib/python3.10/dist-packages (from rich>=10.11.0->typer<1.0.0,>=0.3.0->spacy<3.8.0,>=3.7.0->pt-core-news-sm==3.7.0) (2.16.1)\n",
            "Requirement already satisfied: wrapt in /usr/local/lib/python3.10/dist-packages (from smart-open<8.0.0,>=5.2.1->weasel<0.5.0,>=0.1.0->spacy<3.8.0,>=3.7.0->pt-core-news-sm==3.7.0) (1.14.1)\n",
            "Requirement already satisfied: mdurl~=0.1 in /usr/local/lib/python3.10/dist-packages (from markdown-it-py>=2.2.0->rich>=10.11.0->typer<1.0.0,>=0.3.0->spacy<3.8.0,>=3.7.0->pt-core-news-sm==3.7.0) (0.1.2)\n",
            "Installing collected packages: pt-core-news-sm\n",
            "Successfully installed pt-core-news-sm-3.7.0\n",
            "\u001b[38;5;2m✔ Download and installation successful\u001b[0m\n",
            "You can now load the package via spacy.load('pt_core_news_sm')\n",
            "\u001b[38;5;3m⚠ Restart to reload dependencies\u001b[0m\n",
            "If you are in a Jupyter or Colab notebook, you may need to restart Python in\n",
            "order to load all the package's dependencies. You can do this by selecting the\n",
            "'Restart kernel' or 'Restart runtime' option.\n"
          ]
        }
      ]
    },
    {
      "cell_type": "markdown",
      "source": [
        "## A base de dados é uma base que mostra noticias e as categorias das noticias"
      ],
      "metadata": {
        "id": "-pDdpCXSO5hn"
      }
    },
    {
      "cell_type": "code",
      "source": [
        "import spacy\n",
        "nlp = spacy.load('pt_core_news_sm')"
      ],
      "metadata": {
        "id": "edTs_XC3oOMj"
      },
      "execution_count": 2,
      "outputs": []
    },
    {
      "cell_type": "code",
      "execution_count": 3,
      "metadata": {
        "id": "sd3yEWIik-r2"
      },
      "outputs": [],
      "source": [
        "import pandas as pd"
      ]
    },
    {
      "cell_type": "code",
      "source": [
        "dados_treino = pd.read_csv('/content/drive/MyDrive/Alura/ML_Avançada/NLP/treino.csv')\n",
        "dados_teste = pd.read_csv('/content/drive/MyDrive/Alura/ML_Avançada/NLP/teste.csv')"
      ],
      "metadata": {
        "id": "xTYO9RzZlBfp"
      },
      "execution_count": 4,
      "outputs": []
    },
    {
      "cell_type": "code",
      "source": [
        "dados_treino.head()"
      ],
      "metadata": {
        "colab": {
          "base_uri": "https://localhost:8080/",
          "height": 206
        },
        "id": "m_VVv0kwnFhA",
        "outputId": "771df6c4-cd66-41b0-cf3d-c9f860ff9ab0"
      },
      "execution_count": 5,
      "outputs": [
        {
          "output_type": "execute_result",
          "data": {
            "text/plain": [
              "                                               title  \\\n",
              "0  Após polêmica, Marine Le Pen diz que abomina n...   \n",
              "1  Macron e Le Pen vão ao 2º turno na França, em ...   \n",
              "2  Apesar de larga vitória nas legislativas, Macr...   \n",
              "3  Governo antecipa balanço, e Alckmin anuncia qu...   \n",
              "4  Após queda em maio, a atividade econômica sobe...   \n",
              "\n",
              "                                                text        date   category  \\\n",
              "0  A candidata da direita nacionalista à Presidên...  2017-04-28      mundo   \n",
              "1  O centrista independente Emmanuel Macron e a d...  2017-04-23      mundo   \n",
              "2  As eleições legislativas deste domingo (19) na...  2017-06-19      mundo   \n",
              "3  O número de ocorrências de homicídios dolosos ...  2015-07-24  cotidiano   \n",
              "4  A economia cresceu 0,25% no segundo trimestre,...  2017-08-17    mercado   \n",
              "\n",
              "  subcategory                                               link  \n",
              "0         NaN  http://www1.folha.uol.com.br/mundo/2017/04/187...  \n",
              "1         NaN  http://www1.folha.uol.com.br/mundo/2017/04/187...  \n",
              "2         NaN  http://www1.folha.uol.com.br/mundo/2017/06/189...  \n",
              "3         NaN  http://www1.folha.uol.com.br/cotidiano/2015/07...  \n",
              "4         NaN  http://www1.folha.uol.com.br/mercado/2017/08/1...  "
            ],
            "text/html": [
              "\n",
              "  <div id=\"df-665ed0fe-bf36-42fe-8916-b3b390dadacd\" class=\"colab-df-container\">\n",
              "    <div>\n",
              "<style scoped>\n",
              "    .dataframe tbody tr th:only-of-type {\n",
              "        vertical-align: middle;\n",
              "    }\n",
              "\n",
              "    .dataframe tbody tr th {\n",
              "        vertical-align: top;\n",
              "    }\n",
              "\n",
              "    .dataframe thead th {\n",
              "        text-align: right;\n",
              "    }\n",
              "</style>\n",
              "<table border=\"1\" class=\"dataframe\">\n",
              "  <thead>\n",
              "    <tr style=\"text-align: right;\">\n",
              "      <th></th>\n",
              "      <th>title</th>\n",
              "      <th>text</th>\n",
              "      <th>date</th>\n",
              "      <th>category</th>\n",
              "      <th>subcategory</th>\n",
              "      <th>link</th>\n",
              "    </tr>\n",
              "  </thead>\n",
              "  <tbody>\n",
              "    <tr>\n",
              "      <th>0</th>\n",
              "      <td>Após polêmica, Marine Le Pen diz que abomina n...</td>\n",
              "      <td>A candidata da direita nacionalista à Presidên...</td>\n",
              "      <td>2017-04-28</td>\n",
              "      <td>mundo</td>\n",
              "      <td>NaN</td>\n",
              "      <td>http://www1.folha.uol.com.br/mundo/2017/04/187...</td>\n",
              "    </tr>\n",
              "    <tr>\n",
              "      <th>1</th>\n",
              "      <td>Macron e Le Pen vão ao 2º turno na França, em ...</td>\n",
              "      <td>O centrista independente Emmanuel Macron e a d...</td>\n",
              "      <td>2017-04-23</td>\n",
              "      <td>mundo</td>\n",
              "      <td>NaN</td>\n",
              "      <td>http://www1.folha.uol.com.br/mundo/2017/04/187...</td>\n",
              "    </tr>\n",
              "    <tr>\n",
              "      <th>2</th>\n",
              "      <td>Apesar de larga vitória nas legislativas, Macr...</td>\n",
              "      <td>As eleições legislativas deste domingo (19) na...</td>\n",
              "      <td>2017-06-19</td>\n",
              "      <td>mundo</td>\n",
              "      <td>NaN</td>\n",
              "      <td>http://www1.folha.uol.com.br/mundo/2017/06/189...</td>\n",
              "    </tr>\n",
              "    <tr>\n",
              "      <th>3</th>\n",
              "      <td>Governo antecipa balanço, e Alckmin anuncia qu...</td>\n",
              "      <td>O número de ocorrências de homicídios dolosos ...</td>\n",
              "      <td>2015-07-24</td>\n",
              "      <td>cotidiano</td>\n",
              "      <td>NaN</td>\n",
              "      <td>http://www1.folha.uol.com.br/cotidiano/2015/07...</td>\n",
              "    </tr>\n",
              "    <tr>\n",
              "      <th>4</th>\n",
              "      <td>Após queda em maio, a atividade econômica sobe...</td>\n",
              "      <td>A economia cresceu 0,25% no segundo trimestre,...</td>\n",
              "      <td>2017-08-17</td>\n",
              "      <td>mercado</td>\n",
              "      <td>NaN</td>\n",
              "      <td>http://www1.folha.uol.com.br/mercado/2017/08/1...</td>\n",
              "    </tr>\n",
              "  </tbody>\n",
              "</table>\n",
              "</div>\n",
              "    <div class=\"colab-df-buttons\">\n",
              "\n",
              "  <div class=\"colab-df-container\">\n",
              "    <button class=\"colab-df-convert\" onclick=\"convertToInteractive('df-665ed0fe-bf36-42fe-8916-b3b390dadacd')\"\n",
              "            title=\"Convert this dataframe to an interactive table.\"\n",
              "            style=\"display:none;\">\n",
              "\n",
              "  <svg xmlns=\"http://www.w3.org/2000/svg\" height=\"24px\" viewBox=\"0 -960 960 960\">\n",
              "    <path d=\"M120-120v-720h720v720H120Zm60-500h600v-160H180v160Zm220 220h160v-160H400v160Zm0 220h160v-160H400v160ZM180-400h160v-160H180v160Zm440 0h160v-160H620v160ZM180-180h160v-160H180v160Zm440 0h160v-160H620v160Z\"/>\n",
              "  </svg>\n",
              "    </button>\n",
              "\n",
              "  <style>\n",
              "    .colab-df-container {\n",
              "      display:flex;\n",
              "      gap: 12px;\n",
              "    }\n",
              "\n",
              "    .colab-df-convert {\n",
              "      background-color: #E8F0FE;\n",
              "      border: none;\n",
              "      border-radius: 50%;\n",
              "      cursor: pointer;\n",
              "      display: none;\n",
              "      fill: #1967D2;\n",
              "      height: 32px;\n",
              "      padding: 0 0 0 0;\n",
              "      width: 32px;\n",
              "    }\n",
              "\n",
              "    .colab-df-convert:hover {\n",
              "      background-color: #E2EBFA;\n",
              "      box-shadow: 0px 1px 2px rgba(60, 64, 67, 0.3), 0px 1px 3px 1px rgba(60, 64, 67, 0.15);\n",
              "      fill: #174EA6;\n",
              "    }\n",
              "\n",
              "    .colab-df-buttons div {\n",
              "      margin-bottom: 4px;\n",
              "    }\n",
              "\n",
              "    [theme=dark] .colab-df-convert {\n",
              "      background-color: #3B4455;\n",
              "      fill: #D2E3FC;\n",
              "    }\n",
              "\n",
              "    [theme=dark] .colab-df-convert:hover {\n",
              "      background-color: #434B5C;\n",
              "      box-shadow: 0px 1px 3px 1px rgba(0, 0, 0, 0.15);\n",
              "      filter: drop-shadow(0px 1px 2px rgba(0, 0, 0, 0.3));\n",
              "      fill: #FFFFFF;\n",
              "    }\n",
              "  </style>\n",
              "\n",
              "    <script>\n",
              "      const buttonEl =\n",
              "        document.querySelector('#df-665ed0fe-bf36-42fe-8916-b3b390dadacd button.colab-df-convert');\n",
              "      buttonEl.style.display =\n",
              "        google.colab.kernel.accessAllowed ? 'block' : 'none';\n",
              "\n",
              "      async function convertToInteractive(key) {\n",
              "        const element = document.querySelector('#df-665ed0fe-bf36-42fe-8916-b3b390dadacd');\n",
              "        const dataTable =\n",
              "          await google.colab.kernel.invokeFunction('convertToInteractive',\n",
              "                                                    [key], {});\n",
              "        if (!dataTable) return;\n",
              "\n",
              "        const docLinkHtml = 'Like what you see? Visit the ' +\n",
              "          '<a target=\"_blank\" href=https://colab.research.google.com/notebooks/data_table.ipynb>data table notebook</a>'\n",
              "          + ' to learn more about interactive tables.';\n",
              "        element.innerHTML = '';\n",
              "        dataTable['output_type'] = 'display_data';\n",
              "        await google.colab.output.renderOutput(dataTable, element);\n",
              "        const docLink = document.createElement('div');\n",
              "        docLink.innerHTML = docLinkHtml;\n",
              "        element.appendChild(docLink);\n",
              "      }\n",
              "    </script>\n",
              "  </div>\n",
              "\n",
              "\n",
              "<div id=\"df-2eff0657-e577-4eb6-bc0a-ccccabb42fbd\">\n",
              "  <button class=\"colab-df-quickchart\" onclick=\"quickchart('df-2eff0657-e577-4eb6-bc0a-ccccabb42fbd')\"\n",
              "            title=\"Suggest charts\"\n",
              "            style=\"display:none;\">\n",
              "\n",
              "<svg xmlns=\"http://www.w3.org/2000/svg\" height=\"24px\"viewBox=\"0 0 24 24\"\n",
              "     width=\"24px\">\n",
              "    <g>\n",
              "        <path d=\"M19 3H5c-1.1 0-2 .9-2 2v14c0 1.1.9 2 2 2h14c1.1 0 2-.9 2-2V5c0-1.1-.9-2-2-2zM9 17H7v-7h2v7zm4 0h-2V7h2v10zm4 0h-2v-4h2v4z\"/>\n",
              "    </g>\n",
              "</svg>\n",
              "  </button>\n",
              "\n",
              "<style>\n",
              "  .colab-df-quickchart {\n",
              "      --bg-color: #E8F0FE;\n",
              "      --fill-color: #1967D2;\n",
              "      --hover-bg-color: #E2EBFA;\n",
              "      --hover-fill-color: #174EA6;\n",
              "      --disabled-fill-color: #AAA;\n",
              "      --disabled-bg-color: #DDD;\n",
              "  }\n",
              "\n",
              "  [theme=dark] .colab-df-quickchart {\n",
              "      --bg-color: #3B4455;\n",
              "      --fill-color: #D2E3FC;\n",
              "      --hover-bg-color: #434B5C;\n",
              "      --hover-fill-color: #FFFFFF;\n",
              "      --disabled-bg-color: #3B4455;\n",
              "      --disabled-fill-color: #666;\n",
              "  }\n",
              "\n",
              "  .colab-df-quickchart {\n",
              "    background-color: var(--bg-color);\n",
              "    border: none;\n",
              "    border-radius: 50%;\n",
              "    cursor: pointer;\n",
              "    display: none;\n",
              "    fill: var(--fill-color);\n",
              "    height: 32px;\n",
              "    padding: 0;\n",
              "    width: 32px;\n",
              "  }\n",
              "\n",
              "  .colab-df-quickchart:hover {\n",
              "    background-color: var(--hover-bg-color);\n",
              "    box-shadow: 0 1px 2px rgba(60, 64, 67, 0.3), 0 1px 3px 1px rgba(60, 64, 67, 0.15);\n",
              "    fill: var(--button-hover-fill-color);\n",
              "  }\n",
              "\n",
              "  .colab-df-quickchart-complete:disabled,\n",
              "  .colab-df-quickchart-complete:disabled:hover {\n",
              "    background-color: var(--disabled-bg-color);\n",
              "    fill: var(--disabled-fill-color);\n",
              "    box-shadow: none;\n",
              "  }\n",
              "\n",
              "  .colab-df-spinner {\n",
              "    border: 2px solid var(--fill-color);\n",
              "    border-color: transparent;\n",
              "    border-bottom-color: var(--fill-color);\n",
              "    animation:\n",
              "      spin 1s steps(1) infinite;\n",
              "  }\n",
              "\n",
              "  @keyframes spin {\n",
              "    0% {\n",
              "      border-color: transparent;\n",
              "      border-bottom-color: var(--fill-color);\n",
              "      border-left-color: var(--fill-color);\n",
              "    }\n",
              "    20% {\n",
              "      border-color: transparent;\n",
              "      border-left-color: var(--fill-color);\n",
              "      border-top-color: var(--fill-color);\n",
              "    }\n",
              "    30% {\n",
              "      border-color: transparent;\n",
              "      border-left-color: var(--fill-color);\n",
              "      border-top-color: var(--fill-color);\n",
              "      border-right-color: var(--fill-color);\n",
              "    }\n",
              "    40% {\n",
              "      border-color: transparent;\n",
              "      border-right-color: var(--fill-color);\n",
              "      border-top-color: var(--fill-color);\n",
              "    }\n",
              "    60% {\n",
              "      border-color: transparent;\n",
              "      border-right-color: var(--fill-color);\n",
              "    }\n",
              "    80% {\n",
              "      border-color: transparent;\n",
              "      border-right-color: var(--fill-color);\n",
              "      border-bottom-color: var(--fill-color);\n",
              "    }\n",
              "    90% {\n",
              "      border-color: transparent;\n",
              "      border-bottom-color: var(--fill-color);\n",
              "    }\n",
              "  }\n",
              "</style>\n",
              "\n",
              "  <script>\n",
              "    async function quickchart(key) {\n",
              "      const quickchartButtonEl =\n",
              "        document.querySelector('#' + key + ' button');\n",
              "      quickchartButtonEl.disabled = true;  // To prevent multiple clicks.\n",
              "      quickchartButtonEl.classList.add('colab-df-spinner');\n",
              "      try {\n",
              "        const charts = await google.colab.kernel.invokeFunction(\n",
              "            'suggestCharts', [key], {});\n",
              "      } catch (error) {\n",
              "        console.error('Error during call to suggestCharts:', error);\n",
              "      }\n",
              "      quickchartButtonEl.classList.remove('colab-df-spinner');\n",
              "      quickchartButtonEl.classList.add('colab-df-quickchart-complete');\n",
              "    }\n",
              "    (() => {\n",
              "      let quickchartButtonEl =\n",
              "        document.querySelector('#df-2eff0657-e577-4eb6-bc0a-ccccabb42fbd button');\n",
              "      quickchartButtonEl.style.display =\n",
              "        google.colab.kernel.accessAllowed ? 'block' : 'none';\n",
              "    })();\n",
              "  </script>\n",
              "</div>\n",
              "\n",
              "    </div>\n",
              "  </div>\n"
            ],
            "application/vnd.google.colaboratory.intrinsic+json": {
              "type": "dataframe",
              "variable_name": "dados_treino",
              "summary": "{\n  \"name\": \"dados_treino\",\n  \"rows\": 90000,\n  \"fields\": [\n    {\n      \"column\": \"title\",\n      \"properties\": {\n        \"dtype\": \"string\",\n        \"num_unique_values\": 90000,\n        \"samples\": [\n          \"O que o Ir\\u00e3 tem a ganhar com fim de san\\u00e7\\u00f5es internacionais\",\n          \"Temer quer que Portugal seja 'voz do Brasil' para acordo com UE\",\n          \"Com propriet\\u00e1rios e jogadores unidos, NFL se insurge contra Trump\"\n        ],\n        \"semantic_type\": \"\",\n        \"description\": \"\"\n      }\n    },\n    {\n      \"column\": \"text\",\n      \"properties\": {\n        \"dtype\": \"string\",\n        \"num_unique_values\": 90000,\n        \"samples\": [\n          \"As san\\u00e7\\u00f5es internacionais contra o Ir\\u00e3 foram revogadas ap\\u00f3s a confirma\\u00e7\\u00e3o de que o pa\\u00eds cumpriu suas obriga\\u00e7\\u00f5es no acordo nuclear assinado com seis pot\\u00eancias mundiais em julho.  Ap\\u00f3s uma reuni\\u00e3o com a Ag\\u00eancia Internacional de Energia At\\u00f4mica (AIEA) em Viena, na \\u00c1ustria, a chefe de pol\\u00edtica externa da Uni\\u00e3o Europeia, Federica Mogherini anunciou o fim das san\\u00e7\\u00f5es econ\\u00f4micas, que dever\\u00e3o liberar bilh\\u00f5es de d\\u00f3lares em bens do Ir\\u00e3 em outros pa\\u00edses e permitir que o petr\\u00f3leo iraniano seja vendido internacionalmente.  \\\"Como o Ir\\u00e3 cumpriu seus compromissos, hoje, san\\u00e7\\u00f5es econ\\u00f4micas e multilaterais financeiras relacionadas ao programa nuclear ser\\u00e3o retiradas, como prometido\\\", afirmou.  Mogherini disse ainda que o acordo \\u00e9 uma prova de que esfor\\u00e7os diplom\\u00e1ticos podem contribuir com a estabilidade da regi\\u00e3o e que o resultado \\u00e9 \\\"uma mensagem forte e encorajadora que a comunidade internacional deve ter em mente para tornar o mundo um lugar mais seguro\\\".  Horas antes, a AIEA afirmou que seus inspetores verificaram que o Ir\\u00e3 deu os passos necess\\u00e1rios para reduzir seu programa nuclear, de modo a dificultar a produ\\u00e7\\u00e3o de armas nucleares a partir do enriquecimento de ur\\u00e2nio, abrindo caminho para o fim das san\\u00e7\\u00f5es.  Leia tamb\\u00e9m: Ir\\u00e3 e But\\u00e3o podem ser os melhores lugares para se nascer?  Leia tamb\\u00e9m: Por que a crise entre Ir\\u00e3 e Ar\\u00e1bia Saudita \\u00e9 a mais perigosa em d\\u00e9cadas  Em pronunciamento, o secret\\u00e1rio de Estado americano, John Kerry, confirmou a implementa\\u00e7\\u00e3o do acordo, mas afirmou que o Ir\\u00e3 continuar\\u00e1 sendo observado nos pr\\u00f3ximos anos. Ele disse ainda que o fim das san\\u00e7\\u00f5es ir\\u00e1 expandir \\\"o horizonte de oportunidades do povo iraniano\\\".  \\\"Hoje, como resultado das nossas a\\u00e7\\u00f5es desde julho os Estados Unidos, nossos amigos e aliados no Oriente M\\u00e9dio e em todo o mundo est\\u00e3o mais seguros porque a amea\\u00e7a de uma arma nuclear foi reduzida\\\", afirmou.  As san\\u00e7\\u00f5es custaram ao Ir\\u00e3 mais de US$ 160 bilh\\u00f5es (R$ 646 bilh\\u00f5es) em rendimentos de petr\\u00f3leo desde 2012. O pa\\u00eds tem a quarta maior reserva de petr\\u00f3leo do mundo e a volta do produto ao mercado internacional deve reduzir ainda mais seus pre\\u00e7os.  O diretor-geral da AIEA Yukiya Amano disse que \\u00e9 \\\"um dia importante para a comunidade internacional\\\".  Pelo Twitter, o presidente iraniano Hassan Rouhani parabenizou a na\\u00e7\\u00e3o e disse \\\"agradecer a Deus por essa b\\u00ean\\u00e7\\u00e3o\\\". Escrevendo em farsi, ele disse que o an\\u00fancio se trata de uma \\\"vit\\u00f3ria gloriosa\\\" para o pa\\u00eds e que \\\"humildemente\\\" cumpriu o que prometeu ao assumir o cargo.  O governo iraniano sempre afirmou que seu programa nuclear era pac\\u00edfico, mas opositores do acordo - como alguns republicanos americanos e o governo israelense - disseram que ele n\\u00e3o fazia o suficiente para garantir que o pa\\u00eds n\\u00e3o conseguiria desenvolver uma bomba nuclear.  Leia tamb\\u00e9m: Rainha da Jord\\u00e2nia rebate charge de 'Charlie Hebdo' sobre menino s\\u00edrio afogado  Cr\\u00edticos afirmam que o fim das san\\u00e7\\u00f5es significar\\u00e1 que o Ir\\u00e3 ter\\u00e1 mais dinheiro - e consequentemente armas - para fornecer aos grupos armados que financia na regi\\u00e3o, como as mil\\u00edcias xiitas no Iraque e o Hezbollah, grupo liban\\u00eas que vem tamb\\u00e9m dando apoio ao aliado iraniano na S\\u00edria, Bashar Al-Assad.  Horas antes do an\\u00fancio deste s\\u00e1bado, o governo do Ir\\u00e3 libertou o jornalista do Washington Post Jason Rezaian e outros tr\\u00eas prisioneiros americanos em uma troca com os Estados Unidos.  Rezaian, de 39 anos, havia sido preso por acusa\\u00e7\\u00f5es como espionagem no \\u00faltimo m\\u00eas de novembro.  Os Estados Unidos afirmaram ter oferecido clem\\u00eancia a sete iranianos presos no pa\\u00eds por viola\\u00e7\\u00f5es da san\\u00e7\\u00e3o. Um quinto americano, Matthew Trevithick, tamb\\u00e9m foi libertado no s\\u00e1bado.  O acordo, assinado em julho com o chamado grupo P5+1 (formado por Estados Unidos, Gr\\u00e3-Bretanha, Fran\\u00e7a, China e R\\u00fassia mais a Alemanha) estabelece que:  Leia tamb\\u00e9m: A saudita negra com brev\\u00ea de piloto que se tornou s\\u00edmbolo na luta por direitos civis    Pre\\u00e7os do petr\\u00f3leo devem baixar ainda mais com volta do produto iraniano ao mercado  Em troca:  No entanto, san\\u00e7\\u00f5es n\\u00e3o relacionadas ao programa nuclear - envolvendo den\\u00fancias de apoio a extremistas e abusos de direitos humanos no Ir\\u00e3, por exemplo - n\\u00e3o ser\\u00e3o afetadas e podem continuar em pr\\u00e1tica.\",\n          \"O presidente Michel Temer afirmou nesta ter\\u00e7a-feira (1\\u00ba) que Portugal pode ser \\\"a voz do Brasil\\\" na Europa para que o acordo de livre com\\u00e9rcio entre o Mercosul e a Uni\\u00e3o Europeia seja finalmente assinado.  Segundo integrantes do governo brasileiro, o acordo \\u00e9 uma \\\"prioridade\\\", mas ainda h\\u00e1 resist\\u00eancias protecionistas por parte de alguns pa\\u00edses europeus. No Minist\\u00e9rio das Rela\\u00e7\\u00f5es Exteriores, comandado por Jos\\u00e9 Serra (PSDB), a expectativa \\u00e9 de que o tratado seja firmado em at\\u00e9 dois anos.  \\\"H\\u00e1 um tempo que tentamos formalizar esse acordo. E eu estava falando com o chanceler Jos\\u00e9 Serra que Portugal poderia ser a voz do Brasil perante a Uni\\u00e3o Europeia para formalizar o mais r\\u00e1pido poss\\u00edvel esse acordo entre Mercosul e Uni\\u00e3o Europeia\\\", disse Temer ap\\u00f3s a visita oficial do primeiro-ministro portugu\\u00eas, Ant\\u00f3nio Costa, a Bras\\u00edlia.  O presidente disse ainda que o governo espanhol acenou recentemente que \\\"ficaram facilitadas as negocia\\u00e7\\u00f5es\\\" para fechar o acordo.  Em r\\u00e1pida declara\\u00e7\\u00e3o \\u00e0 imprensa no Pal\\u00e1cio do Planalto, Temer afirmou que a rela\\u00e7\\u00e3o entre Brasil e Portugal \\\"n\\u00e3o ficou apenas nas palavras\\\", mas \\\"foi para a execu\\u00e7\\u00e3o\\\", com a assinatura de cinco acordos, tr\\u00eas deles de coopera\\u00e7\\u00e3o em ci\\u00eancia e tecnologia.  Os investimentos de empresas portuguesas na infraestrutura do Brasil, por exemplo, outro tema tratado na reuni\\u00e3o entre Temer e Costa, n\\u00e3o \\u00e9 novidade. O pa\\u00eds europeu j\\u00e1 tem 600 empresas instaladas em territ\\u00f3rio brasileiro, mas pretende expandir em \\\"novas oportunidades\\\" apontadas pelo governo do peemedebista.  Temer disse ainda que espera que Portugal \\\"encomende logo uma nova formanada de avi\\u00f5es da Embraer\\\". O governo portugu\\u00eas havia mostrado interesse em algumas aeronaves.  J\\u00e1 o primeiro-ministro portugu\\u00eas comemorou que as tratativas entre os pa\\u00edses avan\\u00e7ou al\\u00e9m da importa\\u00e7\\u00e3o e exporta\\u00e7\\u00e3o de petr\\u00f3leo e carne. \\\"Falamos de coopera\\u00e7\\u00e3o t\\u00e9cnica e cient\\u00edfica do mais alto n\\u00edvel\\\", declarou.  O BRASIL NO MUNDO\",\n          \"Com 32 times, a NFL, a liga de futebol norte-americano, \\u00e9 uma das competi\\u00e7\\u00f5es mais duras, equilibradas e lucrativas do mundo. A partir dos eventos marcantes deste final de semana, esses 32 clubes, liderados por empres\\u00e1rios bilion\\u00e1rios, com elencos numerosos, t\\u00eam um oponente em comum: o presidente dos Estados Unidos, Donald Trump.  Os EUA testemunharam no domingo (24) uma onda de protestos em suas gigantescas arenas, espalhadas de Leste a Oeste. Na verdade, at\\u00e9 mesmo Londres, onde jogaram Baltimore Ravens e Jacksonville Jaguars, foi palco para o crescente movimento entre os atletas, agora impulsionados tamb\\u00e9m por coment\\u00e1rios explosivos de Trump.  Na sexta, durante com\\u00edcio no estado de Alabama, o presidente pediu a demiss\\u00e3o de atletas que se manifestassem durante a execu\\u00e7\\u00e3o do hino nacional em cerimonial pr\\u00e9-jogo, com linguajar impr\\u00f3prio.  \\\"Quando algu\\u00e9m desrespeita nossa bandeira, voc\\u00eas n\\u00e3o amariam se os propriet\\u00e1rios da NFL ordenassem a retirada desse filho da puta de campo?\\\", questionou.  Pois tr\\u00eas donos de clube realmente foram a campo neste final de semana. Mas tomaram atitude bem diferente da sugerida. Os ataques de Trump colocaram donos e jogadores lado a lado. Shakid Khan (Jacksonvile Jaguars), Jeffrey Lurie (Philadelphia Eagles) e Daniel Snyder (Washington Redskins) perfilaram com seus atletas, num raro ato de unidade na liga.  Mesmo antigos aliados agora se veem contrariados. Sua campanha contou com doa\\u00e7\\u00f5es de dez propriet\\u00e1rios da NFL. Entre eles, estavam justamente Shakid (US$ 1 milh\\u00e3o) e Snyder (US$ 100 mil).  Segundo a revista \\\"Forbes\\\", o valor m\\u00e9dio de uma franquia da NFL \\u00e9 de US$ 2,5 bilh\\u00f5es (R$ 7,8 bilh\\u00f5es).  Tom Brady, um dos jogadores mais populares da NFL e quem Trump j\\u00e1 chamou de um \\\"amigo\\\" e entusiasta de sua candidatura, disse discordar da vis\\u00e3o do presidente.  \\\"Foi algo que procurou separar as pessoas\\\", afirmou o marido da modelo brasileira Gisele B\\u00fcndchen. \\\"Qualquer um tem o direito de fazer o que quiser. Se voc\\u00ea n\\u00e3o concorda, tudo bem. Pode manifestar sua disc\\u00f3rdia. Mas de modo pac\\u00edfico, respeitoso.\\\"  A liga, como institui\\u00e7\\u00e3o, tamb\\u00e9m saiu em ofensiva. O porta-voz da NFL, Joe Lockhart, disse nesta segunda (25) que nenhum atleta ser\\u00e1 punido. Nem mesmo aqueles que tenham ferido as regras da liga, como os jogadores de Pittsburgh Steelers, Seattle Seahawks e Tennessee Titans, que se recusaram a ir a campo para escutar o hino.  \\\"Os atletas t\\u00eam o direito de se expressarem. Foi um dia importante para a liga\\\", disse Lockhart, que j\\u00e1 foi o secret\\u00e1rio de imprensa da presid\\u00eancia de Bill Clinton (1993-2001).  PROTESTOS  Diversos clubes da NFL deram demonstra\\u00e7\\u00e3o de solidariedade antes dos jogos de domingo a jogadores t\\u00eam realizado protestos. Eles t\\u00eam se ajoelhado em campo, juntando os bra\\u00e7os ou mesmo ficando fora de campo durante o hino, em desafio ao apelo do presidente dos EUA..  Repetindo um gesto iniciado na temporada passada por Colin Kaepernick, \\u00e0 \\u00e9poca quarterback do San Francisco 49ers, v\\u00e1rios jogadores da NFL passaram a se apoiar em um joelho durante a execu\\u00e7\\u00e3o do hino, uma forma de chamar aten\\u00e7\\u00e3o ao que os esportistas veem como um padr\\u00e3o de racismo no tratamento dado pela pol\\u00edcia dos EUA a norte-americanos negros.    Em Detroit, v\\u00e1rios integrantes do Lions se ajoelharam e o cantor Rico Lavelle se apoiou em um joelho e ergueu um punho fechado no final de sua interpreta\\u00e7\\u00e3o do hino nacional dos EUA.  Na Filad\\u00e9lfia, policiais se uniram aos jogadores do Eagles e do New York Giants e ao propriet\\u00e1rio do Eagles, Jeffrey Lurie, juntando os bra\\u00e7os durante o hino como sinal de solidariedade.  Embora alguns norte-americanos simpatizem com os manifestantes, outros veem a recusa em permanecer de p\\u00e9 como um desrespeito pela bandeira e pelos membros das For\\u00e7as Armadas que se sacrificaram ou morreram na defesa do pa\\u00eds.  A controv\\u00e9rsia pode agradar a base conservadora de Trump no momento em que o presidente republicano se v\\u00ea \\u00e0s voltas com as amea\\u00e7as nucleares da Coreia do Norte, uma investiga\\u00e7\\u00e3o sobre a suposta interfer\\u00eancia da R\\u00fassia na elei\\u00e7\\u00e3o de 2016 e uma batalha para aprovar um reforma de sa\\u00fade no Congresso.  Mas a postura de Trump pareceu ter convencido jogadores, times e a liga a afirmarem o que veem como um direito de expressar suas convic\\u00e7\\u00f5es pol\\u00edticas livremente.  A NBA TAMB\\u00c9M Trump tirou o final de semana para entrar em controv\\u00e9rsia com atletas americanos em geral: al\\u00e9m da ofensa a membros da NFL, usou suas redes sociais para tamb\\u00e9m bater de frente com o armador Stephen Curry, um dos astros da NBA, a liga de basquete norte-americana.  Durante coletiva de reapresenta\\u00e7\\u00e3o na sexta-feira, Curry, eleito o melhor jogador da liga em 2014 e 2015, afirmou que se recusaria a visitar \\u00e0 Casa Branca durante o mandato de Trump.  Uma das tradi\\u00e7\\u00f5es da liga de basquete \\u00e9 que seu campe\\u00e3o v\\u00e1 \\u00e0 sede do governo para uma celebra\\u00e7\\u00e3o e foto oficial. Em resposta, o presidente disse que visitar a Casa Branca deveria ser uma \\\"honra\\\" e que teria cancelado o convite aos Warriors.  Rival de Curry em quadra, contra quem jogou as \\u00faltimas tr\\u00eas finais da liga, o ala LeBron James, do Cleveland Cavaliers, rebateu o presidente. Nesta segunda, na reapresenta\\u00e7\\u00e3o de sua equipe, manteve a linha ofensiva, classificando o presidente como um \\\"vagabundo\\\".  James tamb\\u00e9m falou sobre a import\\u00e2ncia de os atletas se pronunciarem politicamente: \\\"\\u00c9 o povo que manda no pa\\u00eds, e, n\\u00e3o, um indiv\\u00edduo. Muito menos ele\\\".  T\\u00e9cnico do San Antonio Spurs e da sele\\u00e7\\u00e3o norte-americana, Gregg Popovich afirmou que hoje os \\\"Estados Unidos passam vergonha no mundo\\\".\"\n        ],\n        \"semantic_type\": \"\",\n        \"description\": \"\"\n      }\n    },\n    {\n      \"column\": \"date\",\n      \"properties\": {\n        \"dtype\": \"object\",\n        \"num_unique_values\": 987,\n        \"samples\": [\n          \"2016-10-28\",\n          \"2017-03-13\",\n          \"2015-12-12\"\n        ],\n        \"semantic_type\": \"\",\n        \"description\": \"\"\n      }\n    },\n    {\n      \"column\": \"category\",\n      \"properties\": {\n        \"dtype\": \"category\",\n        \"num_unique_values\": 6,\n        \"samples\": [\n          \"mundo\",\n          \"cotidiano\",\n          \"colunas\"\n        ],\n        \"semantic_type\": \"\",\n        \"description\": \"\"\n      }\n    },\n    {\n      \"column\": \"subcategory\",\n      \"properties\": {\n        \"dtype\": \"category\",\n        \"num_unique_values\": 227,\n        \"samples\": [\n          \"carlosheitorcony\",\n          \"raquellandim\",\n          \"vladimirsafatle\"\n        ],\n        \"semantic_type\": \"\",\n        \"description\": \"\"\n      }\n    },\n    {\n      \"column\": \"link\",\n      \"properties\": {\n        \"dtype\": \"string\",\n        \"num_unique_values\": 90000,\n        \"samples\": [\n          \"http://www1.folha.uol.com.br/mundo/2016/01/1730395-o-que-o-ira-tem-a-ganhar-com-fim-de-sancoes-internacionais.shtml\",\n          \"http://www1.folha.uol.com.br/mercado/2016/11/1828463-temer-quer-que-portugal-seja-voz-do-brasil-para-acordo-com-ue.shtml\",\n          \"http://www1.folha.uol.com.br/esporte/2017/09/1921545-nfl-defende-jogadores-criticados-por-trump-apos-protestos-contra-racismo.shtml\"\n        ],\n        \"semantic_type\": \"\",\n        \"description\": \"\"\n      }\n    }\n  ]\n}"
            }
          },
          "metadata": {},
          "execution_count": 5
        }
      ]
    },
    {
      "cell_type": "markdown",
      "source": [
        "###Prever categoria e utilizar o titulo para cirar o modelo word2vec"
      ],
      "metadata": {
        "id": "0TOYL_Xenc2z"
      }
    },
    {
      "cell_type": "markdown",
      "source": [
        "#Pré Processamento"
      ],
      "metadata": {
        "id": "V4rCzbZzq9DF"
      }
    },
    {
      "cell_type": "markdown",
      "source": [
        "- Criando um gerador que converte todos os títulos de dados_treino['title'] para letras minúsculas.\n",
        "- A função trata_textos processa um documento tokenizado (ou seja, uma lista de tokens) e retorna uma string com os tokens válidos unidos por espaços."
      ],
      "metadata": {
        "id": "81TsQG-qpsdw"
      }
    },
    {
      "cell_type": "code",
      "source": [
        "textos_para_tratamento = (titulos.lower() for titulos in dados_treino['title'])\n",
        "\n",
        "def trata_textos(doc):\n",
        "  token_validos = []\n",
        "  for token in doc:\n",
        "    e_valido = not token.is_stop and token.is_alpha\n",
        "    if e_valido:\n",
        "      token_validos.append(token.text)\n",
        "\n",
        "  if len(token_validos) > 2:\n",
        "      return \" \".join(token_validos)"
      ],
      "metadata": {
        "id": "hKUu4zcoo5KO"
      },
      "execution_count": 6,
      "outputs": []
    },
    {
      "cell_type": "code",
      "source": [
        "texto = \"Rio de Janeiro é uma##$# 12313 (()) cidade maravilhosa\"\n",
        "doc = nlp(texto)"
      ],
      "metadata": {
        "id": "b5w2AUT9t0Bh"
      },
      "execution_count": 7,
      "outputs": []
    },
    {
      "cell_type": "code",
      "source": [
        "trata_textos(doc)"
      ],
      "metadata": {
        "colab": {
          "base_uri": "https://localhost:8080/",
          "height": 35
        },
        "id": "nR4FaX7luD9N",
        "outputId": "415187a6-8f7b-4188-acc7-cc9386ced359"
      },
      "execution_count": 8,
      "outputs": [
        {
          "output_type": "execute_result",
          "data": {
            "text/plain": [
              "'Rio Janeiro cidade maravilhosa'"
            ],
            "application/vnd.google.colaboratory.intrinsic+json": {
              "type": "string"
            }
          },
          "metadata": {},
          "execution_count": 8
        }
      ]
    },
    {
      "cell_type": "markdown",
      "source": [
        "###Tratamento para todos os títulos"
      ],
      "metadata": {
        "id": "BCHpP83WungE"
      }
    },
    {
      "cell_type": "markdown",
      "source": [
        "Leitura dos textos para tratar em batchs, no nosso caso, o algoritmo lê de mil em mil linhas"
      ],
      "metadata": {
        "id": "zbACvjnewEGX"
      }
    },
    {
      "cell_type": "code",
      "source": [
        "textos_tratados = [trata_textos(doc) for doc in nlp.pipe(textos_para_tratamento, batch_size = 1000, n_process = -1)]"
      ],
      "metadata": {
        "id": "AnB6bx_wuHwI"
      },
      "execution_count": 9,
      "outputs": []
    },
    {
      "cell_type": "code",
      "source": [
        "titulos_tratados = pd.DataFrame({'titulo': textos_tratados})\n",
        "titulos_tratados.head()"
      ],
      "metadata": {
        "colab": {
          "base_uri": "https://localhost:8080/",
          "height": 206
        },
        "id": "iURDckKXwCE7",
        "outputId": "28e70e35-7a06-4988-dafd-8b5bb6c75aaa"
      },
      "execution_count": 10,
      "outputs": [
        {
          "output_type": "execute_result",
          "data": {
            "text/plain": [
              "                                              titulo\n",
              "0  polêmica marine le pen abomina negacionistas h...\n",
              "1  macron le pen turno frança revés siglas tradic...\n",
              "2  apesar larga vitória legislativas macron terá ...\n",
              "3  governo antecipa balanço alckmin anuncia queda...\n",
              "4       queda maio atividade econômica sobe junho bc"
            ],
            "text/html": [
              "\n",
              "  <div id=\"df-07cbb0e1-31fe-4c79-91a3-6c497cb64867\" class=\"colab-df-container\">\n",
              "    <div>\n",
              "<style scoped>\n",
              "    .dataframe tbody tr th:only-of-type {\n",
              "        vertical-align: middle;\n",
              "    }\n",
              "\n",
              "    .dataframe tbody tr th {\n",
              "        vertical-align: top;\n",
              "    }\n",
              "\n",
              "    .dataframe thead th {\n",
              "        text-align: right;\n",
              "    }\n",
              "</style>\n",
              "<table border=\"1\" class=\"dataframe\">\n",
              "  <thead>\n",
              "    <tr style=\"text-align: right;\">\n",
              "      <th></th>\n",
              "      <th>titulo</th>\n",
              "    </tr>\n",
              "  </thead>\n",
              "  <tbody>\n",
              "    <tr>\n",
              "      <th>0</th>\n",
              "      <td>polêmica marine le pen abomina negacionistas h...</td>\n",
              "    </tr>\n",
              "    <tr>\n",
              "      <th>1</th>\n",
              "      <td>macron le pen turno frança revés siglas tradic...</td>\n",
              "    </tr>\n",
              "    <tr>\n",
              "      <th>2</th>\n",
              "      <td>apesar larga vitória legislativas macron terá ...</td>\n",
              "    </tr>\n",
              "    <tr>\n",
              "      <th>3</th>\n",
              "      <td>governo antecipa balanço alckmin anuncia queda...</td>\n",
              "    </tr>\n",
              "    <tr>\n",
              "      <th>4</th>\n",
              "      <td>queda maio atividade econômica sobe junho bc</td>\n",
              "    </tr>\n",
              "  </tbody>\n",
              "</table>\n",
              "</div>\n",
              "    <div class=\"colab-df-buttons\">\n",
              "\n",
              "  <div class=\"colab-df-container\">\n",
              "    <button class=\"colab-df-convert\" onclick=\"convertToInteractive('df-07cbb0e1-31fe-4c79-91a3-6c497cb64867')\"\n",
              "            title=\"Convert this dataframe to an interactive table.\"\n",
              "            style=\"display:none;\">\n",
              "\n",
              "  <svg xmlns=\"http://www.w3.org/2000/svg\" height=\"24px\" viewBox=\"0 -960 960 960\">\n",
              "    <path d=\"M120-120v-720h720v720H120Zm60-500h600v-160H180v160Zm220 220h160v-160H400v160Zm0 220h160v-160H400v160ZM180-400h160v-160H180v160Zm440 0h160v-160H620v160ZM180-180h160v-160H180v160Zm440 0h160v-160H620v160Z\"/>\n",
              "  </svg>\n",
              "    </button>\n",
              "\n",
              "  <style>\n",
              "    .colab-df-container {\n",
              "      display:flex;\n",
              "      gap: 12px;\n",
              "    }\n",
              "\n",
              "    .colab-df-convert {\n",
              "      background-color: #E8F0FE;\n",
              "      border: none;\n",
              "      border-radius: 50%;\n",
              "      cursor: pointer;\n",
              "      display: none;\n",
              "      fill: #1967D2;\n",
              "      height: 32px;\n",
              "      padding: 0 0 0 0;\n",
              "      width: 32px;\n",
              "    }\n",
              "\n",
              "    .colab-df-convert:hover {\n",
              "      background-color: #E2EBFA;\n",
              "      box-shadow: 0px 1px 2px rgba(60, 64, 67, 0.3), 0px 1px 3px 1px rgba(60, 64, 67, 0.15);\n",
              "      fill: #174EA6;\n",
              "    }\n",
              "\n",
              "    .colab-df-buttons div {\n",
              "      margin-bottom: 4px;\n",
              "    }\n",
              "\n",
              "    [theme=dark] .colab-df-convert {\n",
              "      background-color: #3B4455;\n",
              "      fill: #D2E3FC;\n",
              "    }\n",
              "\n",
              "    [theme=dark] .colab-df-convert:hover {\n",
              "      background-color: #434B5C;\n",
              "      box-shadow: 0px 1px 3px 1px rgba(0, 0, 0, 0.15);\n",
              "      filter: drop-shadow(0px 1px 2px rgba(0, 0, 0, 0.3));\n",
              "      fill: #FFFFFF;\n",
              "    }\n",
              "  </style>\n",
              "\n",
              "    <script>\n",
              "      const buttonEl =\n",
              "        document.querySelector('#df-07cbb0e1-31fe-4c79-91a3-6c497cb64867 button.colab-df-convert');\n",
              "      buttonEl.style.display =\n",
              "        google.colab.kernel.accessAllowed ? 'block' : 'none';\n",
              "\n",
              "      async function convertToInteractive(key) {\n",
              "        const element = document.querySelector('#df-07cbb0e1-31fe-4c79-91a3-6c497cb64867');\n",
              "        const dataTable =\n",
              "          await google.colab.kernel.invokeFunction('convertToInteractive',\n",
              "                                                    [key], {});\n",
              "        if (!dataTable) return;\n",
              "\n",
              "        const docLinkHtml = 'Like what you see? Visit the ' +\n",
              "          '<a target=\"_blank\" href=https://colab.research.google.com/notebooks/data_table.ipynb>data table notebook</a>'\n",
              "          + ' to learn more about interactive tables.';\n",
              "        element.innerHTML = '';\n",
              "        dataTable['output_type'] = 'display_data';\n",
              "        await google.colab.output.renderOutput(dataTable, element);\n",
              "        const docLink = document.createElement('div');\n",
              "        docLink.innerHTML = docLinkHtml;\n",
              "        element.appendChild(docLink);\n",
              "      }\n",
              "    </script>\n",
              "  </div>\n",
              "\n",
              "\n",
              "<div id=\"df-09808c66-db2c-4161-af01-00c28a202f05\">\n",
              "  <button class=\"colab-df-quickchart\" onclick=\"quickchart('df-09808c66-db2c-4161-af01-00c28a202f05')\"\n",
              "            title=\"Suggest charts\"\n",
              "            style=\"display:none;\">\n",
              "\n",
              "<svg xmlns=\"http://www.w3.org/2000/svg\" height=\"24px\"viewBox=\"0 0 24 24\"\n",
              "     width=\"24px\">\n",
              "    <g>\n",
              "        <path d=\"M19 3H5c-1.1 0-2 .9-2 2v14c0 1.1.9 2 2 2h14c1.1 0 2-.9 2-2V5c0-1.1-.9-2-2-2zM9 17H7v-7h2v7zm4 0h-2V7h2v10zm4 0h-2v-4h2v4z\"/>\n",
              "    </g>\n",
              "</svg>\n",
              "  </button>\n",
              "\n",
              "<style>\n",
              "  .colab-df-quickchart {\n",
              "      --bg-color: #E8F0FE;\n",
              "      --fill-color: #1967D2;\n",
              "      --hover-bg-color: #E2EBFA;\n",
              "      --hover-fill-color: #174EA6;\n",
              "      --disabled-fill-color: #AAA;\n",
              "      --disabled-bg-color: #DDD;\n",
              "  }\n",
              "\n",
              "  [theme=dark] .colab-df-quickchart {\n",
              "      --bg-color: #3B4455;\n",
              "      --fill-color: #D2E3FC;\n",
              "      --hover-bg-color: #434B5C;\n",
              "      --hover-fill-color: #FFFFFF;\n",
              "      --disabled-bg-color: #3B4455;\n",
              "      --disabled-fill-color: #666;\n",
              "  }\n",
              "\n",
              "  .colab-df-quickchart {\n",
              "    background-color: var(--bg-color);\n",
              "    border: none;\n",
              "    border-radius: 50%;\n",
              "    cursor: pointer;\n",
              "    display: none;\n",
              "    fill: var(--fill-color);\n",
              "    height: 32px;\n",
              "    padding: 0;\n",
              "    width: 32px;\n",
              "  }\n",
              "\n",
              "  .colab-df-quickchart:hover {\n",
              "    background-color: var(--hover-bg-color);\n",
              "    box-shadow: 0 1px 2px rgba(60, 64, 67, 0.3), 0 1px 3px 1px rgba(60, 64, 67, 0.15);\n",
              "    fill: var(--button-hover-fill-color);\n",
              "  }\n",
              "\n",
              "  .colab-df-quickchart-complete:disabled,\n",
              "  .colab-df-quickchart-complete:disabled:hover {\n",
              "    background-color: var(--disabled-bg-color);\n",
              "    fill: var(--disabled-fill-color);\n",
              "    box-shadow: none;\n",
              "  }\n",
              "\n",
              "  .colab-df-spinner {\n",
              "    border: 2px solid var(--fill-color);\n",
              "    border-color: transparent;\n",
              "    border-bottom-color: var(--fill-color);\n",
              "    animation:\n",
              "      spin 1s steps(1) infinite;\n",
              "  }\n",
              "\n",
              "  @keyframes spin {\n",
              "    0% {\n",
              "      border-color: transparent;\n",
              "      border-bottom-color: var(--fill-color);\n",
              "      border-left-color: var(--fill-color);\n",
              "    }\n",
              "    20% {\n",
              "      border-color: transparent;\n",
              "      border-left-color: var(--fill-color);\n",
              "      border-top-color: var(--fill-color);\n",
              "    }\n",
              "    30% {\n",
              "      border-color: transparent;\n",
              "      border-left-color: var(--fill-color);\n",
              "      border-top-color: var(--fill-color);\n",
              "      border-right-color: var(--fill-color);\n",
              "    }\n",
              "    40% {\n",
              "      border-color: transparent;\n",
              "      border-right-color: var(--fill-color);\n",
              "      border-top-color: var(--fill-color);\n",
              "    }\n",
              "    60% {\n",
              "      border-color: transparent;\n",
              "      border-right-color: var(--fill-color);\n",
              "    }\n",
              "    80% {\n",
              "      border-color: transparent;\n",
              "      border-right-color: var(--fill-color);\n",
              "      border-bottom-color: var(--fill-color);\n",
              "    }\n",
              "    90% {\n",
              "      border-color: transparent;\n",
              "      border-bottom-color: var(--fill-color);\n",
              "    }\n",
              "  }\n",
              "</style>\n",
              "\n",
              "  <script>\n",
              "    async function quickchart(key) {\n",
              "      const quickchartButtonEl =\n",
              "        document.querySelector('#' + key + ' button');\n",
              "      quickchartButtonEl.disabled = true;  // To prevent multiple clicks.\n",
              "      quickchartButtonEl.classList.add('colab-df-spinner');\n",
              "      try {\n",
              "        const charts = await google.colab.kernel.invokeFunction(\n",
              "            'suggestCharts', [key], {});\n",
              "      } catch (error) {\n",
              "        console.error('Error during call to suggestCharts:', error);\n",
              "      }\n",
              "      quickchartButtonEl.classList.remove('colab-df-spinner');\n",
              "      quickchartButtonEl.classList.add('colab-df-quickchart-complete');\n",
              "    }\n",
              "    (() => {\n",
              "      let quickchartButtonEl =\n",
              "        document.querySelector('#df-09808c66-db2c-4161-af01-00c28a202f05 button');\n",
              "      quickchartButtonEl.style.display =\n",
              "        google.colab.kernel.accessAllowed ? 'block' : 'none';\n",
              "    })();\n",
              "  </script>\n",
              "</div>\n",
              "\n",
              "    </div>\n",
              "  </div>\n"
            ],
            "application/vnd.google.colaboratory.intrinsic+json": {
              "type": "dataframe",
              "variable_name": "titulos_tratados",
              "summary": "{\n  \"name\": \"titulos_tratados\",\n  \"rows\": 90000,\n  \"fields\": [\n    {\n      \"column\": \"titulo\",\n      \"properties\": {\n        \"dtype\": \"string\",\n        \"num_unique_values\": 84466,\n        \"samples\": [\n          \"brasil chega recorde medalhas meta cob dif\\u00edcil alcan\\u00e7ada\",\n          \"kristen wiig melissa mccarthy trailer\",\n          \"ningu\\u00e9m barriga aluguel praticidade tet\\u00e9 ribeiro\"\n        ],\n        \"semantic_type\": \"\",\n        \"description\": \"\"\n      }\n    }\n  ]\n}"
            }
          },
          "metadata": {},
          "execution_count": 10
        }
      ]
    },
    {
      "cell_type": "markdown",
      "source": [
        "#Treinamento do modelo cbow"
      ],
      "metadata": {
        "id": "_5IcgnN_x9xY"
      }
    },
    {
      "cell_type": "markdown",
      "source": [
        "- sg=0:\n",
        "Define o algoritmo de treinamento. sg=0 usa o algoritmo CBOW (Continuous Bag of Words). Se fosse sg=1, o modelo usaria o algoritmo Skip-gram.\n",
        "- window=2:\n",
        "Define o tamanho da janela de contexto. Este parâmetro determina o número de palavras vizinhas consideradas à esquerda e à direita de uma palavra-alvo. Neste caso, a janela de contexto é de 2 palavras.\n",
        "- vector_size=300:\n",
        "Define o tamanho dos vetores de palavras. Cada palavra será representada por um vetor de 300 dimensões.\n",
        "- min_count=5:\n",
        "Define o limite mínimo de frequência para as palavras. Palavras que aparecem menos de 5 vezes no corpus serão ignoradas.\n",
        "- alpha=0.03:\n",
        "Define a taxa de aprendizado inicial. É o valor inicial da taxa de aprendizado usada pelo algoritmo de otimização.\n",
        "- min_alpha=0.007:\n",
        "Define a taxa de aprendizado mínima. Durante o treinamento, a taxa de aprendizado decai gradualmente até este valor mínimo."
      ],
      "metadata": {
        "id": "WYN59nC3pQ3l"
      }
    },
    {
      "cell_type": "code",
      "source": [
        "from gensim.models import Word2Vec\n",
        "\n",
        "w2v_modelo = Word2Vec(sg = 0, window = 2, vector_size = 300, min_count = 5, alpha = 0.03, min_alpha = 0.007)"
      ],
      "metadata": {
        "id": "oDvw0vIkx9A8"
      },
      "execution_count": 13,
      "outputs": []
    },
    {
      "cell_type": "markdown",
      "source": [
        "###Contruindo vocabulario word2vec\n",
        "- Para construir o vocabulario temos que dropar os valores nulos e duplicados"
      ],
      "metadata": {
        "id": "BnivMeArsmN6"
      }
    },
    {
      "cell_type": "code",
      "source": [
        "print(len(titulos_tratados))\n",
        "titulos_tratados = titulos_tratados.dropna().drop_duplicates()\n",
        "print(len(titulos_tratados))"
      ],
      "metadata": {
        "colab": {
          "base_uri": "https://localhost:8080/"
        },
        "id": "tzyIw46BtSFN",
        "outputId": "62a44f1c-8e63-4e0e-f9fe-5587a7db92e4"
      },
      "execution_count": 14,
      "outputs": [
        {
          "output_type": "stream",
          "name": "stdout",
          "text": [
            "90000\n",
            "84466\n"
          ]
        }
      ]
    },
    {
      "cell_type": "code",
      "source": [
        "lista_lista_tokens = [titulo.split(\" \") for titulo in titulos_tratados['titulo']]"
      ],
      "metadata": {
        "id": "I5JBntCXs54j"
      },
      "execution_count": 15,
      "outputs": []
    },
    {
      "cell_type": "code",
      "source": [
        "w2v_modelo.build_vocab(lista_lista_tokens)"
      ],
      "metadata": {
        "id": "Jo9ZYX2qsdE9"
      },
      "execution_count": 16,
      "outputs": []
    },
    {
      "cell_type": "markdown",
      "source": [
        "###Treino do modelo com 30 épocas."
      ],
      "metadata": {
        "id": "OtYV39xgp3Xa"
      }
    },
    {
      "cell_type": "code",
      "source": [
        "w2v_modelo.train(lista_lista_tokens, total_examples=w2v_modelo.corpus_count, epochs = 30)"
      ],
      "metadata": {
        "colab": {
          "base_uri": "https://localhost:8080/"
        },
        "id": "bsUilx5QuVLX",
        "outputId": "a1bac751-cac9-4afa-a2fb-7359f13b83ba"
      },
      "execution_count": 19,
      "outputs": [
        {
          "output_type": "execute_result",
          "data": {
            "text/plain": [
              "(14583517, 16207260)"
            ]
          },
          "metadata": {},
          "execution_count": 19
        }
      ]
    },
    {
      "cell_type": "markdown",
      "source": [
        "###Testando as palavras mais similares que o nosso modelo considera"
      ],
      "metadata": {
        "id": "KE3CmZiLveY1"
      }
    },
    {
      "cell_type": "code",
      "source": [
        "w2v_modelo.wv.most_similar(\"google\")"
      ],
      "metadata": {
        "colab": {
          "base_uri": "https://localhost:8080/"
        },
        "id": "0SN2HkZVuhW7",
        "outputId": "0a1b9130-65c9-4895-fcd4-83920ea9090f"
      },
      "execution_count": 20,
      "outputs": [
        {
          "output_type": "execute_result",
          "data": {
            "text/plain": [
              "[('apple', 0.5694851875305176),\n",
              " ('facebook', 0.5088313221931458),\n",
              " ('waze', 0.49313652515411377),\n",
              " ('uber', 0.47861722111701965),\n",
              " ('amazon', 0.4678192138671875),\n",
              " ('airbnb', 0.4597543776035309),\n",
              " ('canais', 0.4306645691394806),\n",
              " ('fbi', 0.4302992522716522),\n",
              " ('tesla', 0.4248991906642914),\n",
              " ('yahoo', 0.4239816665649414)]"
            ]
          },
          "metadata": {},
          "execution_count": 20
        }
      ]
    },
    {
      "cell_type": "code",
      "source": [
        "w2v_modelo.wv.most_similar(\"microsoft\")"
      ],
      "metadata": {
        "colab": {
          "base_uri": "https://localhost:8080/"
        },
        "id": "xWreRyydvTZ5",
        "outputId": "186068a6-759e-41a6-d04d-28c05ea59969"
      },
      "execution_count": 21,
      "outputs": [
        {
          "output_type": "execute_result",
          "data": {
            "text/plain": [
              "[('unilever', 0.5639453530311584),\n",
              " ('viajante', 0.5350008606910706),\n",
              " ('sky', 0.534398078918457),\n",
              " ('amazon', 0.5340562462806702),\n",
              " ('braskem', 0.5308745503425598),\n",
              " ('tesla', 0.5152236819267273),\n",
              " ('walmart', 0.5067993402481079),\n",
              " ('linkedin', 0.5037802457809448),\n",
              " ('pfizer', 0.48962146043777466),\n",
              " ('sony', 0.48724105954170227)]"
            ]
          },
          "metadata": {},
          "execution_count": 21
        }
      ]
    },
    {
      "cell_type": "code",
      "source": [
        "w2v_modelo.wv.most_similar(\"barcelona\")"
      ],
      "metadata": {
        "colab": {
          "base_uri": "https://localhost:8080/"
        },
        "id": "DTtmAO9evtg1",
        "outputId": "5c1da1fb-4d07-486b-c708-3da2ce4a251b"
      },
      "execution_count": 22,
      "outputs": [
        {
          "output_type": "execute_result",
          "data": {
            "text/plain": [
              "[('barça', 0.572942316532135),\n",
              " ('madrid', 0.5626287460327148),\n",
              " ('united', 0.5357410907745361),\n",
              " ('leicester', 0.533928632736206),\n",
              " ('bayern', 0.5268201231956482),\n",
              " ('juventus', 0.5209063291549683),\n",
              " ('munique', 0.5187647938728333),\n",
              " ('lazio', 0.5149582624435425),\n",
              " ('figueirense', 0.5021436810493469),\n",
              " ('chelsea', 0.5009716749191284)]"
            ]
          },
          "metadata": {},
          "execution_count": 22
        }
      ]
    },
    {
      "cell_type": "code",
      "source": [
        "w2v_modelo.wv.most_similar(\"neymar\")"
      ],
      "metadata": {
        "colab": {
          "base_uri": "https://localhost:8080/"
        },
        "id": "QjljJX4dvxOG",
        "outputId": "fa2fe0e0-03e2-4aeb-bd3f-7bdaad99d6a1"
      },
      "execution_count": 23,
      "outputs": [
        {
          "output_type": "execute_result",
          "data": {
            "text/plain": [
              "[('messi', 0.47795161604881287),\n",
              " ('romário', 0.45622503757476807),\n",
              " ('benzema', 0.4331664443016052),\n",
              " ('barça', 0.43154746294021606),\n",
              " ('cristiane', 0.41826656460762024),\n",
              " ('fred', 0.41625210642814636),\n",
              " ('suárez', 0.41623246669769287),\n",
              " ('psg', 0.40687295794487),\n",
              " ('ibrahimovic', 0.40646153688430786),\n",
              " ('fernandinho', 0.4019312560558319)]"
            ]
          },
          "metadata": {},
          "execution_count": 23
        }
      ]
    },
    {
      "cell_type": "code",
      "source": [
        "w2v_modelo.wv.most_similar(\"bmw\")"
      ],
      "metadata": {
        "colab": {
          "base_uri": "https://localhost:8080/"
        },
        "id": "VzYV1d_1v08U",
        "outputId": "622a3e0e-7ed4-47aa-865b-c9033e94285f"
      },
      "execution_count": 26,
      "outputs": [
        {
          "output_type": "execute_result",
          "data": {
            "text/plain": [
              "[('toyota', 0.5695067048072815),\n",
              " ('steel', 0.5438239574432373),\n",
              " ('tesla', 0.5360438227653503),\n",
              " ('renault', 0.5344973206520081),\n",
              " ('braskem', 0.5100235939025879),\n",
              " ('bélgica', 0.5011749267578125),\n",
              " ('reestrutura', 0.4941660463809967),\n",
              " ('embraer', 0.49150148034095764),\n",
              " ('chrysler', 0.488815575838089),\n",
              " ('honda', 0.4830126166343689)]"
            ]
          },
          "metadata": {},
          "execution_count": 26
        }
      ]
    },
    {
      "cell_type": "markdown",
      "source": [
        "#Treinamento do modelo SkipGram"
      ],
      "metadata": {
        "id": "-OcqostXwOkP"
      }
    },
    {
      "cell_type": "code",
      "source": [
        "w2v_modelo_sg = Word2Vec(sg = 1, window = 5, vector_size = 300, min_count = 5, alpha = 0.03, min_alpha = 0.007)\n",
        "w2v_modelo_sg.build_vocab(lista_lista_tokens, progress_per=5000)\n",
        "w2v_modelo_sg.train(lista_lista_tokens, total_examples=w2v_modelo.corpus_count, epochs = 30)"
      ],
      "metadata": {
        "colab": {
          "base_uri": "https://localhost:8080/"
        },
        "id": "c7yZJ5p2v50u",
        "outputId": "cfba9ef9-d31c-4d41-821b-9008fad71af3"
      },
      "execution_count": 27,
      "outputs": [
        {
          "output_type": "execute_result",
          "data": {
            "text/plain": [
              "(14584542, 16207260)"
            ]
          },
          "metadata": {},
          "execution_count": 27
        }
      ]
    },
    {
      "cell_type": "code",
      "source": [
        "w2v_modelo_sg.wv.most_similar(\"google\")"
      ],
      "metadata": {
        "colab": {
          "base_uri": "https://localhost:8080/"
        },
        "id": "36IJAMJfwl5c",
        "outputId": "940de7c8-2854-4e17-a46a-d0f88b9e389d"
      },
      "execution_count": 28,
      "outputs": [
        {
          "output_type": "execute_result",
          "data": {
            "text/plain": [
              "[('reguladores', 0.4383900761604309),\n",
              " ('android', 0.409042090177536),\n",
              " ('waze', 0.3890588581562042),\n",
              " ('facebook', 0.38825374841690063),\n",
              " ('apple', 0.38086363673210144),\n",
              " ('patentes', 0.3740023672580719),\n",
              " ('yahoo', 0.3591548502445221),\n",
              " ('toshiba', 0.35774341225624084),\n",
              " ('telefónica', 0.35612040758132935),\n",
              " ('anúncios', 0.3550843596458435)]"
            ]
          },
          "metadata": {},
          "execution_count": 28
        }
      ]
    },
    {
      "cell_type": "code",
      "source": [
        "w2v_modelo_sg.wv.most_similar(\"microsoft\")"
      ],
      "metadata": {
        "colab": {
          "base_uri": "https://localhost:8080/"
        },
        "id": "S9rXhU6gw_vV",
        "outputId": "70567c6d-ca61-4cfa-d028-b1d27565c786"
      },
      "execution_count": 29,
      "outputs": [
        {
          "output_type": "execute_result",
          "data": {
            "text/plain": [
              "[('linkedin', 0.5435748100280762),\n",
              " ('chips', 0.5097066760063171),\n",
              " ('verizon', 0.4678157866001129),\n",
              " ('telefónica', 0.46497559547424316),\n",
              " ('fertilizantes', 0.45646148920059204),\n",
              " ('silício', 0.4470959007740021),\n",
              " ('bitcoin', 0.44526156783103943),\n",
              " ('farmacêuticas', 0.4417784512042999),\n",
              " ('syngenta', 0.435330331325531),\n",
              " ('software', 0.4350524842739105)]"
            ]
          },
          "metadata": {},
          "execution_count": 29
        }
      ]
    },
    {
      "cell_type": "code",
      "source": [
        "w2v_modelo_sg.wv.most_similar(\"barcelona\")"
      ],
      "metadata": {
        "colab": {
          "base_uri": "https://localhost:8080/"
        },
        "id": "WhLRvNE5xBxg",
        "outputId": "63f5f2c6-ae54-42e0-a630-18bb17f7b821"
      },
      "execution_count": 30,
      "outputs": [
        {
          "output_type": "execute_result",
          "data": {
            "text/plain": [
              "[('celta', 0.5630292296409607),\n",
              " ('espanyol', 0.5102715492248535),\n",
              " ('supercopa', 0.4932115972042084),\n",
              " ('sevilla', 0.4893488585948944),\n",
              " ('villarreal', 0.475085586309433),\n",
              " ('athletic', 0.4677700698375702),\n",
              " ('wolfsburg', 0.46275776624679565),\n",
              " ('monaco', 0.4344217777252197),\n",
              " ('bilbao', 0.4333671033382416),\n",
              " ('barça', 0.43026888370513916)]"
            ]
          },
          "metadata": {},
          "execution_count": 30
        }
      ]
    },
    {
      "cell_type": "code",
      "source": [
        "w2v_modelo_sg.wv.most_similar(\"neymar\")"
      ],
      "metadata": {
        "colab": {
          "base_uri": "https://localhost:8080/"
        },
        "id": "1EHuNF4HxFK0",
        "outputId": "1156daa7-0273-4d81-b4e7-fb26031895d9"
      },
      "execution_count": 31,
      "outputs": [
        {
          "output_type": "execute_result",
          "data": {
            "text/plain": [
              "[('barça', 0.5479617118835449),\n",
              " ('suárez', 0.48216477036476135),\n",
              " ('cavani', 0.4816271960735321),\n",
              " ('messi', 0.44334566593170166),\n",
              " ('psg', 0.43018123507499695),\n",
              " ('cristiane', 0.4131641685962677),\n",
              " ('dedada', 0.4090251624584198),\n",
              " ('villarreal', 0.4056721031665802),\n",
              " ('benzema', 0.398384690284729),\n",
              " ('philippe', 0.3979870080947876)]"
            ]
          },
          "metadata": {},
          "execution_count": 31
        }
      ]
    },
    {
      "cell_type": "code",
      "source": [
        "w2v_modelo_sg.wv.most_similar(\"bmw\")"
      ],
      "metadata": {
        "colab": {
          "base_uri": "https://localhost:8080/"
        },
        "id": "q1BDKJcsxGcm",
        "outputId": "3db24e7c-24fc-4dec-bd06-bdb8de5ea247"
      },
      "execution_count": 32,
      "outputs": [
        {
          "output_type": "execute_result",
          "data": {
            "text/plain": [
              "[('reestrutura', 0.5664843320846558),\n",
              " ('audi', 0.5440587997436523),\n",
              " ('chrysler', 0.5049031972885132),\n",
              " ('intel', 0.49186399579048157),\n",
              " ('apreender', 0.48532843589782715),\n",
              " ('gm', 0.483180433511734),\n",
              " ('toyota', 0.4813898205757141),\n",
              " ('airbag', 0.47130122780799866),\n",
              " ('honda', 0.46935343742370605),\n",
              " ('chips', 0.46150386333465576)]"
            ]
          },
          "metadata": {},
          "execution_count": 32
        }
      ]
    },
    {
      "cell_type": "markdown",
      "source": [
        "###Salvando modelos"
      ],
      "metadata": {
        "id": "yD-TOOYZyX4C"
      }
    },
    {
      "cell_type": "code",
      "source": [
        "w2v_modelo.wv.save_word2vec_format('/content/drive/MyDrive/Alura/ML_Avançada/NLP/modelo_cbow.txt', binary = False)\n",
        "w2v_modelo_sg.wv.save_word2vec_format('/content/drive/MyDrive/Alura/ML_Avançada/NLP/modelo_skipgram.txt', binary = False)"
      ],
      "metadata": {
        "id": "b_-OfEa0x5Qy"
      },
      "execution_count": 36,
      "outputs": []
    }
  ]
}