{
  "nbformat": 4,
  "nbformat_minor": 0,
  "metadata": {
    "colab": {
      "provenance": []
    },
    "kernelspec": {
      "name": "python3",
      "display_name": "Python 3"
    },
    "language_info": {
      "name": "python"
    }
  },
  "cells": [
    {
      "cell_type": "markdown",
      "source": [
        "## A base de dados são noticias e suas categorias"
      ],
      "metadata": {
        "id": "iVAVOc2PFRFP"
      }
    },
    {
      "cell_type": "code",
      "execution_count": null,
      "metadata": {
        "id": "zOj5tFnJCYkS"
      },
      "outputs": [],
      "source": [
        "import pandas as pd\n",
        "\n",
        "treino = pd.read_csv(\"/content/drive/MyDrive/Alura/ML_Avançada/NLP/treino.csv\")\n",
        "teste = pd.read_csv(\"/content/drive/MyDrive/Alura/ML_Avançada/NLP/teste.csv\")"
      ]
    },
    {
      "cell_type": "code",
      "source": [
        "treino.head()"
      ],
      "metadata": {
        "colab": {
          "base_uri": "https://localhost:8080/",
          "height": 206
        },
        "id": "zuO-ERgOE5-6",
        "outputId": "7a449603-6abe-4f24-85f8-7ecd3d7f2930"
      },
      "execution_count": null,
      "outputs": [
        {
          "output_type": "execute_result",
          "data": {
            "text/plain": [
              "                                               title  \\\n",
              "0  Após polêmica, Marine Le Pen diz que abomina n...   \n",
              "1  Macron e Le Pen vão ao 2º turno na França, em ...   \n",
              "2  Apesar de larga vitória nas legislativas, Macr...   \n",
              "3  Governo antecipa balanço, e Alckmin anuncia qu...   \n",
              "4  Após queda em maio, a atividade econômica sobe...   \n",
              "\n",
              "                                                text        date   category  \\\n",
              "0  A candidata da direita nacionalista à Presidên...  2017-04-28      mundo   \n",
              "1  O centrista independente Emmanuel Macron e a d...  2017-04-23      mundo   \n",
              "2  As eleições legislativas deste domingo (19) na...  2017-06-19      mundo   \n",
              "3  O número de ocorrências de homicídios dolosos ...  2015-07-24  cotidiano   \n",
              "4  A economia cresceu 0,25% no segundo trimestre,...  2017-08-17    mercado   \n",
              "\n",
              "  subcategory                                               link  \n",
              "0         NaN  http://www1.folha.uol.com.br/mundo/2017/04/187...  \n",
              "1         NaN  http://www1.folha.uol.com.br/mundo/2017/04/187...  \n",
              "2         NaN  http://www1.folha.uol.com.br/mundo/2017/06/189...  \n",
              "3         NaN  http://www1.folha.uol.com.br/cotidiano/2015/07...  \n",
              "4         NaN  http://www1.folha.uol.com.br/mercado/2017/08/1...  "
            ],
            "text/html": [
              "\n",
              "  <div id=\"df-d2dae0db-b547-4a26-80e3-dbfb439e02e1\" class=\"colab-df-container\">\n",
              "    <div>\n",
              "<style scoped>\n",
              "    .dataframe tbody tr th:only-of-type {\n",
              "        vertical-align: middle;\n",
              "    }\n",
              "\n",
              "    .dataframe tbody tr th {\n",
              "        vertical-align: top;\n",
              "    }\n",
              "\n",
              "    .dataframe thead th {\n",
              "        text-align: right;\n",
              "    }\n",
              "</style>\n",
              "<table border=\"1\" class=\"dataframe\">\n",
              "  <thead>\n",
              "    <tr style=\"text-align: right;\">\n",
              "      <th></th>\n",
              "      <th>title</th>\n",
              "      <th>text</th>\n",
              "      <th>date</th>\n",
              "      <th>category</th>\n",
              "      <th>subcategory</th>\n",
              "      <th>link</th>\n",
              "    </tr>\n",
              "  </thead>\n",
              "  <tbody>\n",
              "    <tr>\n",
              "      <th>0</th>\n",
              "      <td>Após polêmica, Marine Le Pen diz que abomina n...</td>\n",
              "      <td>A candidata da direita nacionalista à Presidên...</td>\n",
              "      <td>2017-04-28</td>\n",
              "      <td>mundo</td>\n",
              "      <td>NaN</td>\n",
              "      <td>http://www1.folha.uol.com.br/mundo/2017/04/187...</td>\n",
              "    </tr>\n",
              "    <tr>\n",
              "      <th>1</th>\n",
              "      <td>Macron e Le Pen vão ao 2º turno na França, em ...</td>\n",
              "      <td>O centrista independente Emmanuel Macron e a d...</td>\n",
              "      <td>2017-04-23</td>\n",
              "      <td>mundo</td>\n",
              "      <td>NaN</td>\n",
              "      <td>http://www1.folha.uol.com.br/mundo/2017/04/187...</td>\n",
              "    </tr>\n",
              "    <tr>\n",
              "      <th>2</th>\n",
              "      <td>Apesar de larga vitória nas legislativas, Macr...</td>\n",
              "      <td>As eleições legislativas deste domingo (19) na...</td>\n",
              "      <td>2017-06-19</td>\n",
              "      <td>mundo</td>\n",
              "      <td>NaN</td>\n",
              "      <td>http://www1.folha.uol.com.br/mundo/2017/06/189...</td>\n",
              "    </tr>\n",
              "    <tr>\n",
              "      <th>3</th>\n",
              "      <td>Governo antecipa balanço, e Alckmin anuncia qu...</td>\n",
              "      <td>O número de ocorrências de homicídios dolosos ...</td>\n",
              "      <td>2015-07-24</td>\n",
              "      <td>cotidiano</td>\n",
              "      <td>NaN</td>\n",
              "      <td>http://www1.folha.uol.com.br/cotidiano/2015/07...</td>\n",
              "    </tr>\n",
              "    <tr>\n",
              "      <th>4</th>\n",
              "      <td>Após queda em maio, a atividade econômica sobe...</td>\n",
              "      <td>A economia cresceu 0,25% no segundo trimestre,...</td>\n",
              "      <td>2017-08-17</td>\n",
              "      <td>mercado</td>\n",
              "      <td>NaN</td>\n",
              "      <td>http://www1.folha.uol.com.br/mercado/2017/08/1...</td>\n",
              "    </tr>\n",
              "  </tbody>\n",
              "</table>\n",
              "</div>\n",
              "    <div class=\"colab-df-buttons\">\n",
              "\n",
              "  <div class=\"colab-df-container\">\n",
              "    <button class=\"colab-df-convert\" onclick=\"convertToInteractive('df-d2dae0db-b547-4a26-80e3-dbfb439e02e1')\"\n",
              "            title=\"Convert this dataframe to an interactive table.\"\n",
              "            style=\"display:none;\">\n",
              "\n",
              "  <svg xmlns=\"http://www.w3.org/2000/svg\" height=\"24px\" viewBox=\"0 -960 960 960\">\n",
              "    <path d=\"M120-120v-720h720v720H120Zm60-500h600v-160H180v160Zm220 220h160v-160H400v160Zm0 220h160v-160H400v160ZM180-400h160v-160H180v160Zm440 0h160v-160H620v160ZM180-180h160v-160H180v160Zm440 0h160v-160H620v160Z\"/>\n",
              "  </svg>\n",
              "    </button>\n",
              "\n",
              "  <style>\n",
              "    .colab-df-container {\n",
              "      display:flex;\n",
              "      gap: 12px;\n",
              "    }\n",
              "\n",
              "    .colab-df-convert {\n",
              "      background-color: #E8F0FE;\n",
              "      border: none;\n",
              "      border-radius: 50%;\n",
              "      cursor: pointer;\n",
              "      display: none;\n",
              "      fill: #1967D2;\n",
              "      height: 32px;\n",
              "      padding: 0 0 0 0;\n",
              "      width: 32px;\n",
              "    }\n",
              "\n",
              "    .colab-df-convert:hover {\n",
              "      background-color: #E2EBFA;\n",
              "      box-shadow: 0px 1px 2px rgba(60, 64, 67, 0.3), 0px 1px 3px 1px rgba(60, 64, 67, 0.15);\n",
              "      fill: #174EA6;\n",
              "    }\n",
              "\n",
              "    .colab-df-buttons div {\n",
              "      margin-bottom: 4px;\n",
              "    }\n",
              "\n",
              "    [theme=dark] .colab-df-convert {\n",
              "      background-color: #3B4455;\n",
              "      fill: #D2E3FC;\n",
              "    }\n",
              "\n",
              "    [theme=dark] .colab-df-convert:hover {\n",
              "      background-color: #434B5C;\n",
              "      box-shadow: 0px 1px 3px 1px rgba(0, 0, 0, 0.15);\n",
              "      filter: drop-shadow(0px 1px 2px rgba(0, 0, 0, 0.3));\n",
              "      fill: #FFFFFF;\n",
              "    }\n",
              "  </style>\n",
              "\n",
              "    <script>\n",
              "      const buttonEl =\n",
              "        document.querySelector('#df-d2dae0db-b547-4a26-80e3-dbfb439e02e1 button.colab-df-convert');\n",
              "      buttonEl.style.display =\n",
              "        google.colab.kernel.accessAllowed ? 'block' : 'none';\n",
              "\n",
              "      async function convertToInteractive(key) {\n",
              "        const element = document.querySelector('#df-d2dae0db-b547-4a26-80e3-dbfb439e02e1');\n",
              "        const dataTable =\n",
              "          await google.colab.kernel.invokeFunction('convertToInteractive',\n",
              "                                                    [key], {});\n",
              "        if (!dataTable) return;\n",
              "\n",
              "        const docLinkHtml = 'Like what you see? Visit the ' +\n",
              "          '<a target=\"_blank\" href=https://colab.research.google.com/notebooks/data_table.ipynb>data table notebook</a>'\n",
              "          + ' to learn more about interactive tables.';\n",
              "        element.innerHTML = '';\n",
              "        dataTable['output_type'] = 'display_data';\n",
              "        await google.colab.output.renderOutput(dataTable, element);\n",
              "        const docLink = document.createElement('div');\n",
              "        docLink.innerHTML = docLinkHtml;\n",
              "        element.appendChild(docLink);\n",
              "      }\n",
              "    </script>\n",
              "  </div>\n",
              "\n",
              "\n",
              "<div id=\"df-5b10cbff-59f8-4858-9662-4efc00e74960\">\n",
              "  <button class=\"colab-df-quickchart\" onclick=\"quickchart('df-5b10cbff-59f8-4858-9662-4efc00e74960')\"\n",
              "            title=\"Suggest charts\"\n",
              "            style=\"display:none;\">\n",
              "\n",
              "<svg xmlns=\"http://www.w3.org/2000/svg\" height=\"24px\"viewBox=\"0 0 24 24\"\n",
              "     width=\"24px\">\n",
              "    <g>\n",
              "        <path d=\"M19 3H5c-1.1 0-2 .9-2 2v14c0 1.1.9 2 2 2h14c1.1 0 2-.9 2-2V5c0-1.1-.9-2-2-2zM9 17H7v-7h2v7zm4 0h-2V7h2v10zm4 0h-2v-4h2v4z\"/>\n",
              "    </g>\n",
              "</svg>\n",
              "  </button>\n",
              "\n",
              "<style>\n",
              "  .colab-df-quickchart {\n",
              "      --bg-color: #E8F0FE;\n",
              "      --fill-color: #1967D2;\n",
              "      --hover-bg-color: #E2EBFA;\n",
              "      --hover-fill-color: #174EA6;\n",
              "      --disabled-fill-color: #AAA;\n",
              "      --disabled-bg-color: #DDD;\n",
              "  }\n",
              "\n",
              "  [theme=dark] .colab-df-quickchart {\n",
              "      --bg-color: #3B4455;\n",
              "      --fill-color: #D2E3FC;\n",
              "      --hover-bg-color: #434B5C;\n",
              "      --hover-fill-color: #FFFFFF;\n",
              "      --disabled-bg-color: #3B4455;\n",
              "      --disabled-fill-color: #666;\n",
              "  }\n",
              "\n",
              "  .colab-df-quickchart {\n",
              "    background-color: var(--bg-color);\n",
              "    border: none;\n",
              "    border-radius: 50%;\n",
              "    cursor: pointer;\n",
              "    display: none;\n",
              "    fill: var(--fill-color);\n",
              "    height: 32px;\n",
              "    padding: 0;\n",
              "    width: 32px;\n",
              "  }\n",
              "\n",
              "  .colab-df-quickchart:hover {\n",
              "    background-color: var(--hover-bg-color);\n",
              "    box-shadow: 0 1px 2px rgba(60, 64, 67, 0.3), 0 1px 3px 1px rgba(60, 64, 67, 0.15);\n",
              "    fill: var(--button-hover-fill-color);\n",
              "  }\n",
              "\n",
              "  .colab-df-quickchart-complete:disabled,\n",
              "  .colab-df-quickchart-complete:disabled:hover {\n",
              "    background-color: var(--disabled-bg-color);\n",
              "    fill: var(--disabled-fill-color);\n",
              "    box-shadow: none;\n",
              "  }\n",
              "\n",
              "  .colab-df-spinner {\n",
              "    border: 2px solid var(--fill-color);\n",
              "    border-color: transparent;\n",
              "    border-bottom-color: var(--fill-color);\n",
              "    animation:\n",
              "      spin 1s steps(1) infinite;\n",
              "  }\n",
              "\n",
              "  @keyframes spin {\n",
              "    0% {\n",
              "      border-color: transparent;\n",
              "      border-bottom-color: var(--fill-color);\n",
              "      border-left-color: var(--fill-color);\n",
              "    }\n",
              "    20% {\n",
              "      border-color: transparent;\n",
              "      border-left-color: var(--fill-color);\n",
              "      border-top-color: var(--fill-color);\n",
              "    }\n",
              "    30% {\n",
              "      border-color: transparent;\n",
              "      border-left-color: var(--fill-color);\n",
              "      border-top-color: var(--fill-color);\n",
              "      border-right-color: var(--fill-color);\n",
              "    }\n",
              "    40% {\n",
              "      border-color: transparent;\n",
              "      border-right-color: var(--fill-color);\n",
              "      border-top-color: var(--fill-color);\n",
              "    }\n",
              "    60% {\n",
              "      border-color: transparent;\n",
              "      border-right-color: var(--fill-color);\n",
              "    }\n",
              "    80% {\n",
              "      border-color: transparent;\n",
              "      border-right-color: var(--fill-color);\n",
              "      border-bottom-color: var(--fill-color);\n",
              "    }\n",
              "    90% {\n",
              "      border-color: transparent;\n",
              "      border-bottom-color: var(--fill-color);\n",
              "    }\n",
              "  }\n",
              "</style>\n",
              "\n",
              "  <script>\n",
              "    async function quickchart(key) {\n",
              "      const quickchartButtonEl =\n",
              "        document.querySelector('#' + key + ' button');\n",
              "      quickchartButtonEl.disabled = true;  // To prevent multiple clicks.\n",
              "      quickchartButtonEl.classList.add('colab-df-spinner');\n",
              "      try {\n",
              "        const charts = await google.colab.kernel.invokeFunction(\n",
              "            'suggestCharts', [key], {});\n",
              "      } catch (error) {\n",
              "        console.error('Error during call to suggestCharts:', error);\n",
              "      }\n",
              "      quickchartButtonEl.classList.remove('colab-df-spinner');\n",
              "      quickchartButtonEl.classList.add('colab-df-quickchart-complete');\n",
              "    }\n",
              "    (() => {\n",
              "      let quickchartButtonEl =\n",
              "        document.querySelector('#df-5b10cbff-59f8-4858-9662-4efc00e74960 button');\n",
              "      quickchartButtonEl.style.display =\n",
              "        google.colab.kernel.accessAllowed ? 'block' : 'none';\n",
              "    })();\n",
              "  </script>\n",
              "</div>\n",
              "\n",
              "    </div>\n",
              "  </div>\n"
            ],
            "application/vnd.google.colaboratory.intrinsic+json": {
              "type": "dataframe",
              "variable_name": "treino",
              "summary": "{\n  \"name\": \"treino\",\n  \"rows\": 90000,\n  \"fields\": [\n    {\n      \"column\": \"title\",\n      \"properties\": {\n        \"dtype\": \"string\",\n        \"num_unique_values\": 90000,\n        \"samples\": [\n          \"O que o Ir\\u00e3 tem a ganhar com fim de san\\u00e7\\u00f5es internacionais\",\n          \"Temer quer que Portugal seja 'voz do Brasil' para acordo com UE\",\n          \"Com propriet\\u00e1rios e jogadores unidos, NFL se insurge contra Trump\"\n        ],\n        \"semantic_type\": \"\",\n        \"description\": \"\"\n      }\n    },\n    {\n      \"column\": \"text\",\n      \"properties\": {\n        \"dtype\": \"string\",\n        \"num_unique_values\": 90000,\n        \"samples\": [\n          \"As san\\u00e7\\u00f5es internacionais contra o Ir\\u00e3 foram revogadas ap\\u00f3s a confirma\\u00e7\\u00e3o de que o pa\\u00eds cumpriu suas obriga\\u00e7\\u00f5es no acordo nuclear assinado com seis pot\\u00eancias mundiais em julho.  Ap\\u00f3s uma reuni\\u00e3o com a Ag\\u00eancia Internacional de Energia At\\u00f4mica (AIEA) em Viena, na \\u00c1ustria, a chefe de pol\\u00edtica externa da Uni\\u00e3o Europeia, Federica Mogherini anunciou o fim das san\\u00e7\\u00f5es econ\\u00f4micas, que dever\\u00e3o liberar bilh\\u00f5es de d\\u00f3lares em bens do Ir\\u00e3 em outros pa\\u00edses e permitir que o petr\\u00f3leo iraniano seja vendido internacionalmente.  \\\"Como o Ir\\u00e3 cumpriu seus compromissos, hoje, san\\u00e7\\u00f5es econ\\u00f4micas e multilaterais financeiras relacionadas ao programa nuclear ser\\u00e3o retiradas, como prometido\\\", afirmou.  Mogherini disse ainda que o acordo \\u00e9 uma prova de que esfor\\u00e7os diplom\\u00e1ticos podem contribuir com a estabilidade da regi\\u00e3o e que o resultado \\u00e9 \\\"uma mensagem forte e encorajadora que a comunidade internacional deve ter em mente para tornar o mundo um lugar mais seguro\\\".  Horas antes, a AIEA afirmou que seus inspetores verificaram que o Ir\\u00e3 deu os passos necess\\u00e1rios para reduzir seu programa nuclear, de modo a dificultar a produ\\u00e7\\u00e3o de armas nucleares a partir do enriquecimento de ur\\u00e2nio, abrindo caminho para o fim das san\\u00e7\\u00f5es.  Leia tamb\\u00e9m: Ir\\u00e3 e But\\u00e3o podem ser os melhores lugares para se nascer?  Leia tamb\\u00e9m: Por que a crise entre Ir\\u00e3 e Ar\\u00e1bia Saudita \\u00e9 a mais perigosa em d\\u00e9cadas  Em pronunciamento, o secret\\u00e1rio de Estado americano, John Kerry, confirmou a implementa\\u00e7\\u00e3o do acordo, mas afirmou que o Ir\\u00e3 continuar\\u00e1 sendo observado nos pr\\u00f3ximos anos. Ele disse ainda que o fim das san\\u00e7\\u00f5es ir\\u00e1 expandir \\\"o horizonte de oportunidades do povo iraniano\\\".  \\\"Hoje, como resultado das nossas a\\u00e7\\u00f5es desde julho os Estados Unidos, nossos amigos e aliados no Oriente M\\u00e9dio e em todo o mundo est\\u00e3o mais seguros porque a amea\\u00e7a de uma arma nuclear foi reduzida\\\", afirmou.  As san\\u00e7\\u00f5es custaram ao Ir\\u00e3 mais de US$ 160 bilh\\u00f5es (R$ 646 bilh\\u00f5es) em rendimentos de petr\\u00f3leo desde 2012. O pa\\u00eds tem a quarta maior reserva de petr\\u00f3leo do mundo e a volta do produto ao mercado internacional deve reduzir ainda mais seus pre\\u00e7os.  O diretor-geral da AIEA Yukiya Amano disse que \\u00e9 \\\"um dia importante para a comunidade internacional\\\".  Pelo Twitter, o presidente iraniano Hassan Rouhani parabenizou a na\\u00e7\\u00e3o e disse \\\"agradecer a Deus por essa b\\u00ean\\u00e7\\u00e3o\\\". Escrevendo em farsi, ele disse que o an\\u00fancio se trata de uma \\\"vit\\u00f3ria gloriosa\\\" para o pa\\u00eds e que \\\"humildemente\\\" cumpriu o que prometeu ao assumir o cargo.  O governo iraniano sempre afirmou que seu programa nuclear era pac\\u00edfico, mas opositores do acordo - como alguns republicanos americanos e o governo israelense - disseram que ele n\\u00e3o fazia o suficiente para garantir que o pa\\u00eds n\\u00e3o conseguiria desenvolver uma bomba nuclear.  Leia tamb\\u00e9m: Rainha da Jord\\u00e2nia rebate charge de 'Charlie Hebdo' sobre menino s\\u00edrio afogado  Cr\\u00edticos afirmam que o fim das san\\u00e7\\u00f5es significar\\u00e1 que o Ir\\u00e3 ter\\u00e1 mais dinheiro - e consequentemente armas - para fornecer aos grupos armados que financia na regi\\u00e3o, como as mil\\u00edcias xiitas no Iraque e o Hezbollah, grupo liban\\u00eas que vem tamb\\u00e9m dando apoio ao aliado iraniano na S\\u00edria, Bashar Al-Assad.  Horas antes do an\\u00fancio deste s\\u00e1bado, o governo do Ir\\u00e3 libertou o jornalista do Washington Post Jason Rezaian e outros tr\\u00eas prisioneiros americanos em uma troca com os Estados Unidos.  Rezaian, de 39 anos, havia sido preso por acusa\\u00e7\\u00f5es como espionagem no \\u00faltimo m\\u00eas de novembro.  Os Estados Unidos afirmaram ter oferecido clem\\u00eancia a sete iranianos presos no pa\\u00eds por viola\\u00e7\\u00f5es da san\\u00e7\\u00e3o. Um quinto americano, Matthew Trevithick, tamb\\u00e9m foi libertado no s\\u00e1bado.  O acordo, assinado em julho com o chamado grupo P5+1 (formado por Estados Unidos, Gr\\u00e3-Bretanha, Fran\\u00e7a, China e R\\u00fassia mais a Alemanha) estabelece que:  Leia tamb\\u00e9m: A saudita negra com brev\\u00ea de piloto que se tornou s\\u00edmbolo na luta por direitos civis    Pre\\u00e7os do petr\\u00f3leo devem baixar ainda mais com volta do produto iraniano ao mercado  Em troca:  No entanto, san\\u00e7\\u00f5es n\\u00e3o relacionadas ao programa nuclear - envolvendo den\\u00fancias de apoio a extremistas e abusos de direitos humanos no Ir\\u00e3, por exemplo - n\\u00e3o ser\\u00e3o afetadas e podem continuar em pr\\u00e1tica.\",\n          \"O presidente Michel Temer afirmou nesta ter\\u00e7a-feira (1\\u00ba) que Portugal pode ser \\\"a voz do Brasil\\\" na Europa para que o acordo de livre com\\u00e9rcio entre o Mercosul e a Uni\\u00e3o Europeia seja finalmente assinado.  Segundo integrantes do governo brasileiro, o acordo \\u00e9 uma \\\"prioridade\\\", mas ainda h\\u00e1 resist\\u00eancias protecionistas por parte de alguns pa\\u00edses europeus. No Minist\\u00e9rio das Rela\\u00e7\\u00f5es Exteriores, comandado por Jos\\u00e9 Serra (PSDB), a expectativa \\u00e9 de que o tratado seja firmado em at\\u00e9 dois anos.  \\\"H\\u00e1 um tempo que tentamos formalizar esse acordo. E eu estava falando com o chanceler Jos\\u00e9 Serra que Portugal poderia ser a voz do Brasil perante a Uni\\u00e3o Europeia para formalizar o mais r\\u00e1pido poss\\u00edvel esse acordo entre Mercosul e Uni\\u00e3o Europeia\\\", disse Temer ap\\u00f3s a visita oficial do primeiro-ministro portugu\\u00eas, Ant\\u00f3nio Costa, a Bras\\u00edlia.  O presidente disse ainda que o governo espanhol acenou recentemente que \\\"ficaram facilitadas as negocia\\u00e7\\u00f5es\\\" para fechar o acordo.  Em r\\u00e1pida declara\\u00e7\\u00e3o \\u00e0 imprensa no Pal\\u00e1cio do Planalto, Temer afirmou que a rela\\u00e7\\u00e3o entre Brasil e Portugal \\\"n\\u00e3o ficou apenas nas palavras\\\", mas \\\"foi para a execu\\u00e7\\u00e3o\\\", com a assinatura de cinco acordos, tr\\u00eas deles de coopera\\u00e7\\u00e3o em ci\\u00eancia e tecnologia.  Os investimentos de empresas portuguesas na infraestrutura do Brasil, por exemplo, outro tema tratado na reuni\\u00e3o entre Temer e Costa, n\\u00e3o \\u00e9 novidade. O pa\\u00eds europeu j\\u00e1 tem 600 empresas instaladas em territ\\u00f3rio brasileiro, mas pretende expandir em \\\"novas oportunidades\\\" apontadas pelo governo do peemedebista.  Temer disse ainda que espera que Portugal \\\"encomende logo uma nova formanada de avi\\u00f5es da Embraer\\\". O governo portugu\\u00eas havia mostrado interesse em algumas aeronaves.  J\\u00e1 o primeiro-ministro portugu\\u00eas comemorou que as tratativas entre os pa\\u00edses avan\\u00e7ou al\\u00e9m da importa\\u00e7\\u00e3o e exporta\\u00e7\\u00e3o de petr\\u00f3leo e carne. \\\"Falamos de coopera\\u00e7\\u00e3o t\\u00e9cnica e cient\\u00edfica do mais alto n\\u00edvel\\\", declarou.  O BRASIL NO MUNDO\",\n          \"Com 32 times, a NFL, a liga de futebol norte-americano, \\u00e9 uma das competi\\u00e7\\u00f5es mais duras, equilibradas e lucrativas do mundo. A partir dos eventos marcantes deste final de semana, esses 32 clubes, liderados por empres\\u00e1rios bilion\\u00e1rios, com elencos numerosos, t\\u00eam um oponente em comum: o presidente dos Estados Unidos, Donald Trump.  Os EUA testemunharam no domingo (24) uma onda de protestos em suas gigantescas arenas, espalhadas de Leste a Oeste. Na verdade, at\\u00e9 mesmo Londres, onde jogaram Baltimore Ravens e Jacksonville Jaguars, foi palco para o crescente movimento entre os atletas, agora impulsionados tamb\\u00e9m por coment\\u00e1rios explosivos de Trump.  Na sexta, durante com\\u00edcio no estado de Alabama, o presidente pediu a demiss\\u00e3o de atletas que se manifestassem durante a execu\\u00e7\\u00e3o do hino nacional em cerimonial pr\\u00e9-jogo, com linguajar impr\\u00f3prio.  \\\"Quando algu\\u00e9m desrespeita nossa bandeira, voc\\u00eas n\\u00e3o amariam se os propriet\\u00e1rios da NFL ordenassem a retirada desse filho da puta de campo?\\\", questionou.  Pois tr\\u00eas donos de clube realmente foram a campo neste final de semana. Mas tomaram atitude bem diferente da sugerida. Os ataques de Trump colocaram donos e jogadores lado a lado. Shakid Khan (Jacksonvile Jaguars), Jeffrey Lurie (Philadelphia Eagles) e Daniel Snyder (Washington Redskins) perfilaram com seus atletas, num raro ato de unidade na liga.  Mesmo antigos aliados agora se veem contrariados. Sua campanha contou com doa\\u00e7\\u00f5es de dez propriet\\u00e1rios da NFL. Entre eles, estavam justamente Shakid (US$ 1 milh\\u00e3o) e Snyder (US$ 100 mil).  Segundo a revista \\\"Forbes\\\", o valor m\\u00e9dio de uma franquia da NFL \\u00e9 de US$ 2,5 bilh\\u00f5es (R$ 7,8 bilh\\u00f5es).  Tom Brady, um dos jogadores mais populares da NFL e quem Trump j\\u00e1 chamou de um \\\"amigo\\\" e entusiasta de sua candidatura, disse discordar da vis\\u00e3o do presidente.  \\\"Foi algo que procurou separar as pessoas\\\", afirmou o marido da modelo brasileira Gisele B\\u00fcndchen. \\\"Qualquer um tem o direito de fazer o que quiser. Se voc\\u00ea n\\u00e3o concorda, tudo bem. Pode manifestar sua disc\\u00f3rdia. Mas de modo pac\\u00edfico, respeitoso.\\\"  A liga, como institui\\u00e7\\u00e3o, tamb\\u00e9m saiu em ofensiva. O porta-voz da NFL, Joe Lockhart, disse nesta segunda (25) que nenhum atleta ser\\u00e1 punido. Nem mesmo aqueles que tenham ferido as regras da liga, como os jogadores de Pittsburgh Steelers, Seattle Seahawks e Tennessee Titans, que se recusaram a ir a campo para escutar o hino.  \\\"Os atletas t\\u00eam o direito de se expressarem. Foi um dia importante para a liga\\\", disse Lockhart, que j\\u00e1 foi o secret\\u00e1rio de imprensa da presid\\u00eancia de Bill Clinton (1993-2001).  PROTESTOS  Diversos clubes da NFL deram demonstra\\u00e7\\u00e3o de solidariedade antes dos jogos de domingo a jogadores t\\u00eam realizado protestos. Eles t\\u00eam se ajoelhado em campo, juntando os bra\\u00e7os ou mesmo ficando fora de campo durante o hino, em desafio ao apelo do presidente dos EUA..  Repetindo um gesto iniciado na temporada passada por Colin Kaepernick, \\u00e0 \\u00e9poca quarterback do San Francisco 49ers, v\\u00e1rios jogadores da NFL passaram a se apoiar em um joelho durante a execu\\u00e7\\u00e3o do hino, uma forma de chamar aten\\u00e7\\u00e3o ao que os esportistas veem como um padr\\u00e3o de racismo no tratamento dado pela pol\\u00edcia dos EUA a norte-americanos negros.    Em Detroit, v\\u00e1rios integrantes do Lions se ajoelharam e o cantor Rico Lavelle se apoiou em um joelho e ergueu um punho fechado no final de sua interpreta\\u00e7\\u00e3o do hino nacional dos EUA.  Na Filad\\u00e9lfia, policiais se uniram aos jogadores do Eagles e do New York Giants e ao propriet\\u00e1rio do Eagles, Jeffrey Lurie, juntando os bra\\u00e7os durante o hino como sinal de solidariedade.  Embora alguns norte-americanos simpatizem com os manifestantes, outros veem a recusa em permanecer de p\\u00e9 como um desrespeito pela bandeira e pelos membros das For\\u00e7as Armadas que se sacrificaram ou morreram na defesa do pa\\u00eds.  A controv\\u00e9rsia pode agradar a base conservadora de Trump no momento em que o presidente republicano se v\\u00ea \\u00e0s voltas com as amea\\u00e7as nucleares da Coreia do Norte, uma investiga\\u00e7\\u00e3o sobre a suposta interfer\\u00eancia da R\\u00fassia na elei\\u00e7\\u00e3o de 2016 e uma batalha para aprovar um reforma de sa\\u00fade no Congresso.  Mas a postura de Trump pareceu ter convencido jogadores, times e a liga a afirmarem o que veem como um direito de expressar suas convic\\u00e7\\u00f5es pol\\u00edticas livremente.  A NBA TAMB\\u00c9M Trump tirou o final de semana para entrar em controv\\u00e9rsia com atletas americanos em geral: al\\u00e9m da ofensa a membros da NFL, usou suas redes sociais para tamb\\u00e9m bater de frente com o armador Stephen Curry, um dos astros da NBA, a liga de basquete norte-americana.  Durante coletiva de reapresenta\\u00e7\\u00e3o na sexta-feira, Curry, eleito o melhor jogador da liga em 2014 e 2015, afirmou que se recusaria a visitar \\u00e0 Casa Branca durante o mandato de Trump.  Uma das tradi\\u00e7\\u00f5es da liga de basquete \\u00e9 que seu campe\\u00e3o v\\u00e1 \\u00e0 sede do governo para uma celebra\\u00e7\\u00e3o e foto oficial. Em resposta, o presidente disse que visitar a Casa Branca deveria ser uma \\\"honra\\\" e que teria cancelado o convite aos Warriors.  Rival de Curry em quadra, contra quem jogou as \\u00faltimas tr\\u00eas finais da liga, o ala LeBron James, do Cleveland Cavaliers, rebateu o presidente. Nesta segunda, na reapresenta\\u00e7\\u00e3o de sua equipe, manteve a linha ofensiva, classificando o presidente como um \\\"vagabundo\\\".  James tamb\\u00e9m falou sobre a import\\u00e2ncia de os atletas se pronunciarem politicamente: \\\"\\u00c9 o povo que manda no pa\\u00eds, e, n\\u00e3o, um indiv\\u00edduo. Muito menos ele\\\".  T\\u00e9cnico do San Antonio Spurs e da sele\\u00e7\\u00e3o norte-americana, Gregg Popovich afirmou que hoje os \\\"Estados Unidos passam vergonha no mundo\\\".\"\n        ],\n        \"semantic_type\": \"\",\n        \"description\": \"\"\n      }\n    },\n    {\n      \"column\": \"date\",\n      \"properties\": {\n        \"dtype\": \"object\",\n        \"num_unique_values\": 987,\n        \"samples\": [\n          \"2016-10-28\",\n          \"2017-03-13\",\n          \"2015-12-12\"\n        ],\n        \"semantic_type\": \"\",\n        \"description\": \"\"\n      }\n    },\n    {\n      \"column\": \"category\",\n      \"properties\": {\n        \"dtype\": \"category\",\n        \"num_unique_values\": 6,\n        \"samples\": [\n          \"mundo\",\n          \"cotidiano\",\n          \"colunas\"\n        ],\n        \"semantic_type\": \"\",\n        \"description\": \"\"\n      }\n    },\n    {\n      \"column\": \"subcategory\",\n      \"properties\": {\n        \"dtype\": \"category\",\n        \"num_unique_values\": 227,\n        \"samples\": [\n          \"carlosheitorcony\",\n          \"raquellandim\",\n          \"vladimirsafatle\"\n        ],\n        \"semantic_type\": \"\",\n        \"description\": \"\"\n      }\n    },\n    {\n      \"column\": \"link\",\n      \"properties\": {\n        \"dtype\": \"string\",\n        \"num_unique_values\": 90000,\n        \"samples\": [\n          \"http://www1.folha.uol.com.br/mundo/2016/01/1730395-o-que-o-ira-tem-a-ganhar-com-fim-de-sancoes-internacionais.shtml\",\n          \"http://www1.folha.uol.com.br/mercado/2016/11/1828463-temer-quer-que-portugal-seja-voz-do-brasil-para-acordo-com-ue.shtml\",\n          \"http://www1.folha.uol.com.br/esporte/2017/09/1921545-nfl-defende-jogadores-criticados-por-trump-apos-protestos-contra-racismo.shtml\"\n        ],\n        \"semantic_type\": \"\",\n        \"description\": \"\"\n      }\n    }\n  ]\n}"
            }
          },
          "metadata": {},
          "execution_count": 2
        }
      ]
    },
    {
      "cell_type": "code",
      "source": [
        "teste.head()"
      ],
      "metadata": {
        "colab": {
          "base_uri": "https://localhost:8080/",
          "height": 206
        },
        "id": "XG9M3FOFFLe4",
        "outputId": "32117789-b155-422e-8fec-acfba562abd4"
      },
      "execution_count": null,
      "outputs": [
        {
          "output_type": "execute_result",
          "data": {
            "text/plain": [
              "                                               title  \\\n",
              "0                                     Grandes irmãos   \n",
              "1  Haddad congela orçamento e suspende emendas de...   \n",
              "2  Proposta de reforma da Fifa tem a divulgação d...   \n",
              "3  Mercado incipiente, internet das coisas conect...   \n",
              "4  Mortes: Psicanalista, estudou o autismo em cri...   \n",
              "\n",
              "                                                text        date   category  \\\n",
              "0  RIO DE JANEIRO - O Brasil, cada vez menos famí...  2017-03-06    colunas   \n",
              "1  O prefeito de São Paulo, Fernando Haddad (PT),...  2016-08-10    colunas   \n",
              "2  A Fifa divulgou, nesta quinta (10), um relatór...  2015-10-09    esporte   \n",
              "3  Bueiros, coleiras, aparelhos hospitalares, ele...  2016-11-09    mercado   \n",
              "4  Toda vez que o grupo de amigos de Silvana Rabe...  2017-02-07  cotidiano   \n",
              "\n",
              "     subcategory                                               link  \n",
              "0      ruycastro  http://www1.folha.uol.com.br/colunas/ruycastro...  \n",
              "1  monicabergamo  http://www1.folha.uol.com.br/colunas/monicaber...  \n",
              "2            NaN  http://www1.folha.uol.com.br/esporte/2015/09/1...  \n",
              "3            NaN  http://www1.folha.uol.com.br/mercado/2016/09/1...  \n",
              "4            NaN  http://www1.folha.uol.com.br/cotidiano/2017/07...  "
            ],
            "text/html": [
              "\n",
              "  <div id=\"df-aad91b6b-2e01-45d3-adda-1c097bce1e97\" class=\"colab-df-container\">\n",
              "    <div>\n",
              "<style scoped>\n",
              "    .dataframe tbody tr th:only-of-type {\n",
              "        vertical-align: middle;\n",
              "    }\n",
              "\n",
              "    .dataframe tbody tr th {\n",
              "        vertical-align: top;\n",
              "    }\n",
              "\n",
              "    .dataframe thead th {\n",
              "        text-align: right;\n",
              "    }\n",
              "</style>\n",
              "<table border=\"1\" class=\"dataframe\">\n",
              "  <thead>\n",
              "    <tr style=\"text-align: right;\">\n",
              "      <th></th>\n",
              "      <th>title</th>\n",
              "      <th>text</th>\n",
              "      <th>date</th>\n",
              "      <th>category</th>\n",
              "      <th>subcategory</th>\n",
              "      <th>link</th>\n",
              "    </tr>\n",
              "  </thead>\n",
              "  <tbody>\n",
              "    <tr>\n",
              "      <th>0</th>\n",
              "      <td>Grandes irmãos</td>\n",
              "      <td>RIO DE JANEIRO - O Brasil, cada vez menos famí...</td>\n",
              "      <td>2017-03-06</td>\n",
              "      <td>colunas</td>\n",
              "      <td>ruycastro</td>\n",
              "      <td>http://www1.folha.uol.com.br/colunas/ruycastro...</td>\n",
              "    </tr>\n",
              "    <tr>\n",
              "      <th>1</th>\n",
              "      <td>Haddad congela orçamento e suspende emendas de...</td>\n",
              "      <td>O prefeito de São Paulo, Fernando Haddad (PT),...</td>\n",
              "      <td>2016-08-10</td>\n",
              "      <td>colunas</td>\n",
              "      <td>monicabergamo</td>\n",
              "      <td>http://www1.folha.uol.com.br/colunas/monicaber...</td>\n",
              "    </tr>\n",
              "    <tr>\n",
              "      <th>2</th>\n",
              "      <td>Proposta de reforma da Fifa tem a divulgação d...</td>\n",
              "      <td>A Fifa divulgou, nesta quinta (10), um relatór...</td>\n",
              "      <td>2015-10-09</td>\n",
              "      <td>esporte</td>\n",
              "      <td>NaN</td>\n",
              "      <td>http://www1.folha.uol.com.br/esporte/2015/09/1...</td>\n",
              "    </tr>\n",
              "    <tr>\n",
              "      <th>3</th>\n",
              "      <td>Mercado incipiente, internet das coisas conect...</td>\n",
              "      <td>Bueiros, coleiras, aparelhos hospitalares, ele...</td>\n",
              "      <td>2016-11-09</td>\n",
              "      <td>mercado</td>\n",
              "      <td>NaN</td>\n",
              "      <td>http://www1.folha.uol.com.br/mercado/2016/09/1...</td>\n",
              "    </tr>\n",
              "    <tr>\n",
              "      <th>4</th>\n",
              "      <td>Mortes: Psicanalista, estudou o autismo em cri...</td>\n",
              "      <td>Toda vez que o grupo de amigos de Silvana Rabe...</td>\n",
              "      <td>2017-02-07</td>\n",
              "      <td>cotidiano</td>\n",
              "      <td>NaN</td>\n",
              "      <td>http://www1.folha.uol.com.br/cotidiano/2017/07...</td>\n",
              "    </tr>\n",
              "  </tbody>\n",
              "</table>\n",
              "</div>\n",
              "    <div class=\"colab-df-buttons\">\n",
              "\n",
              "  <div class=\"colab-df-container\">\n",
              "    <button class=\"colab-df-convert\" onclick=\"convertToInteractive('df-aad91b6b-2e01-45d3-adda-1c097bce1e97')\"\n",
              "            title=\"Convert this dataframe to an interactive table.\"\n",
              "            style=\"display:none;\">\n",
              "\n",
              "  <svg xmlns=\"http://www.w3.org/2000/svg\" height=\"24px\" viewBox=\"0 -960 960 960\">\n",
              "    <path d=\"M120-120v-720h720v720H120Zm60-500h600v-160H180v160Zm220 220h160v-160H400v160Zm0 220h160v-160H400v160ZM180-400h160v-160H180v160Zm440 0h160v-160H620v160ZM180-180h160v-160H180v160Zm440 0h160v-160H620v160Z\"/>\n",
              "  </svg>\n",
              "    </button>\n",
              "\n",
              "  <style>\n",
              "    .colab-df-container {\n",
              "      display:flex;\n",
              "      gap: 12px;\n",
              "    }\n",
              "\n",
              "    .colab-df-convert {\n",
              "      background-color: #E8F0FE;\n",
              "      border: none;\n",
              "      border-radius: 50%;\n",
              "      cursor: pointer;\n",
              "      display: none;\n",
              "      fill: #1967D2;\n",
              "      height: 32px;\n",
              "      padding: 0 0 0 0;\n",
              "      width: 32px;\n",
              "    }\n",
              "\n",
              "    .colab-df-convert:hover {\n",
              "      background-color: #E2EBFA;\n",
              "      box-shadow: 0px 1px 2px rgba(60, 64, 67, 0.3), 0px 1px 3px 1px rgba(60, 64, 67, 0.15);\n",
              "      fill: #174EA6;\n",
              "    }\n",
              "\n",
              "    .colab-df-buttons div {\n",
              "      margin-bottom: 4px;\n",
              "    }\n",
              "\n",
              "    [theme=dark] .colab-df-convert {\n",
              "      background-color: #3B4455;\n",
              "      fill: #D2E3FC;\n",
              "    }\n",
              "\n",
              "    [theme=dark] .colab-df-convert:hover {\n",
              "      background-color: #434B5C;\n",
              "      box-shadow: 0px 1px 3px 1px rgba(0, 0, 0, 0.15);\n",
              "      filter: drop-shadow(0px 1px 2px rgba(0, 0, 0, 0.3));\n",
              "      fill: #FFFFFF;\n",
              "    }\n",
              "  </style>\n",
              "\n",
              "    <script>\n",
              "      const buttonEl =\n",
              "        document.querySelector('#df-aad91b6b-2e01-45d3-adda-1c097bce1e97 button.colab-df-convert');\n",
              "      buttonEl.style.display =\n",
              "        google.colab.kernel.accessAllowed ? 'block' : 'none';\n",
              "\n",
              "      async function convertToInteractive(key) {\n",
              "        const element = document.querySelector('#df-aad91b6b-2e01-45d3-adda-1c097bce1e97');\n",
              "        const dataTable =\n",
              "          await google.colab.kernel.invokeFunction('convertToInteractive',\n",
              "                                                    [key], {});\n",
              "        if (!dataTable) return;\n",
              "\n",
              "        const docLinkHtml = 'Like what you see? Visit the ' +\n",
              "          '<a target=\"_blank\" href=https://colab.research.google.com/notebooks/data_table.ipynb>data table notebook</a>'\n",
              "          + ' to learn more about interactive tables.';\n",
              "        element.innerHTML = '';\n",
              "        dataTable['output_type'] = 'display_data';\n",
              "        await google.colab.output.renderOutput(dataTable, element);\n",
              "        const docLink = document.createElement('div');\n",
              "        docLink.innerHTML = docLinkHtml;\n",
              "        element.appendChild(docLink);\n",
              "      }\n",
              "    </script>\n",
              "  </div>\n",
              "\n",
              "\n",
              "<div id=\"df-15229aa9-aef5-46cb-aab2-a5cf5842f75a\">\n",
              "  <button class=\"colab-df-quickchart\" onclick=\"quickchart('df-15229aa9-aef5-46cb-aab2-a5cf5842f75a')\"\n",
              "            title=\"Suggest charts\"\n",
              "            style=\"display:none;\">\n",
              "\n",
              "<svg xmlns=\"http://www.w3.org/2000/svg\" height=\"24px\"viewBox=\"0 0 24 24\"\n",
              "     width=\"24px\">\n",
              "    <g>\n",
              "        <path d=\"M19 3H5c-1.1 0-2 .9-2 2v14c0 1.1.9 2 2 2h14c1.1 0 2-.9 2-2V5c0-1.1-.9-2-2-2zM9 17H7v-7h2v7zm4 0h-2V7h2v10zm4 0h-2v-4h2v4z\"/>\n",
              "    </g>\n",
              "</svg>\n",
              "  </button>\n",
              "\n",
              "<style>\n",
              "  .colab-df-quickchart {\n",
              "      --bg-color: #E8F0FE;\n",
              "      --fill-color: #1967D2;\n",
              "      --hover-bg-color: #E2EBFA;\n",
              "      --hover-fill-color: #174EA6;\n",
              "      --disabled-fill-color: #AAA;\n",
              "      --disabled-bg-color: #DDD;\n",
              "  }\n",
              "\n",
              "  [theme=dark] .colab-df-quickchart {\n",
              "      --bg-color: #3B4455;\n",
              "      --fill-color: #D2E3FC;\n",
              "      --hover-bg-color: #434B5C;\n",
              "      --hover-fill-color: #FFFFFF;\n",
              "      --disabled-bg-color: #3B4455;\n",
              "      --disabled-fill-color: #666;\n",
              "  }\n",
              "\n",
              "  .colab-df-quickchart {\n",
              "    background-color: var(--bg-color);\n",
              "    border: none;\n",
              "    border-radius: 50%;\n",
              "    cursor: pointer;\n",
              "    display: none;\n",
              "    fill: var(--fill-color);\n",
              "    height: 32px;\n",
              "    padding: 0;\n",
              "    width: 32px;\n",
              "  }\n",
              "\n",
              "  .colab-df-quickchart:hover {\n",
              "    background-color: var(--hover-bg-color);\n",
              "    box-shadow: 0 1px 2px rgba(60, 64, 67, 0.3), 0 1px 3px 1px rgba(60, 64, 67, 0.15);\n",
              "    fill: var(--button-hover-fill-color);\n",
              "  }\n",
              "\n",
              "  .colab-df-quickchart-complete:disabled,\n",
              "  .colab-df-quickchart-complete:disabled:hover {\n",
              "    background-color: var(--disabled-bg-color);\n",
              "    fill: var(--disabled-fill-color);\n",
              "    box-shadow: none;\n",
              "  }\n",
              "\n",
              "  .colab-df-spinner {\n",
              "    border: 2px solid var(--fill-color);\n",
              "    border-color: transparent;\n",
              "    border-bottom-color: var(--fill-color);\n",
              "    animation:\n",
              "      spin 1s steps(1) infinite;\n",
              "  }\n",
              "\n",
              "  @keyframes spin {\n",
              "    0% {\n",
              "      border-color: transparent;\n",
              "      border-bottom-color: var(--fill-color);\n",
              "      border-left-color: var(--fill-color);\n",
              "    }\n",
              "    20% {\n",
              "      border-color: transparent;\n",
              "      border-left-color: var(--fill-color);\n",
              "      border-top-color: var(--fill-color);\n",
              "    }\n",
              "    30% {\n",
              "      border-color: transparent;\n",
              "      border-left-color: var(--fill-color);\n",
              "      border-top-color: var(--fill-color);\n",
              "      border-right-color: var(--fill-color);\n",
              "    }\n",
              "    40% {\n",
              "      border-color: transparent;\n",
              "      border-right-color: var(--fill-color);\n",
              "      border-top-color: var(--fill-color);\n",
              "    }\n",
              "    60% {\n",
              "      border-color: transparent;\n",
              "      border-right-color: var(--fill-color);\n",
              "    }\n",
              "    80% {\n",
              "      border-color: transparent;\n",
              "      border-right-color: var(--fill-color);\n",
              "      border-bottom-color: var(--fill-color);\n",
              "    }\n",
              "    90% {\n",
              "      border-color: transparent;\n",
              "      border-bottom-color: var(--fill-color);\n",
              "    }\n",
              "  }\n",
              "</style>\n",
              "\n",
              "  <script>\n",
              "    async function quickchart(key) {\n",
              "      const quickchartButtonEl =\n",
              "        document.querySelector('#' + key + ' button');\n",
              "      quickchartButtonEl.disabled = true;  // To prevent multiple clicks.\n",
              "      quickchartButtonEl.classList.add('colab-df-spinner');\n",
              "      try {\n",
              "        const charts = await google.colab.kernel.invokeFunction(\n",
              "            'suggestCharts', [key], {});\n",
              "      } catch (error) {\n",
              "        console.error('Error during call to suggestCharts:', error);\n",
              "      }\n",
              "      quickchartButtonEl.classList.remove('colab-df-spinner');\n",
              "      quickchartButtonEl.classList.add('colab-df-quickchart-complete');\n",
              "    }\n",
              "    (() => {\n",
              "      let quickchartButtonEl =\n",
              "        document.querySelector('#df-15229aa9-aef5-46cb-aab2-a5cf5842f75a button');\n",
              "      quickchartButtonEl.style.display =\n",
              "        google.colab.kernel.accessAllowed ? 'block' : 'none';\n",
              "    })();\n",
              "  </script>\n",
              "</div>\n",
              "\n",
              "    </div>\n",
              "  </div>\n"
            ],
            "application/vnd.google.colaboratory.intrinsic+json": {
              "type": "dataframe",
              "variable_name": "teste",
              "summary": "{\n  \"name\": \"teste\",\n  \"rows\": 20513,\n  \"fields\": [\n    {\n      \"column\": \"title\",\n      \"properties\": {\n        \"dtype\": \"string\",\n        \"num_unique_values\": 20513,\n        \"samples\": [\n          \"Partido da presidente sul-coreana pede que ela abandone o cargo em abril\",\n          \"Ofendido, presidente turco n\\u00e3o participa de funeral de Ali\",\n          \"Servidores do Itamaraty votar\\u00e3o sobre greve por atraso em aux\\u00edlio-moradia\"\n        ],\n        \"semantic_type\": \"\",\n        \"description\": \"\"\n      }\n    },\n    {\n      \"column\": \"text\",\n      \"properties\": {\n        \"dtype\": \"string\",\n        \"num_unique_values\": 20513,\n        \"samples\": [\n          \"O partido do governo pediu nesta quinta-feira (1\\u00ba) \\u00e0 presidente da Coreia do Sul, Park Geun-Hye, afetada por um esc\\u00e2ndalo de corrup\\u00e7\\u00e3o, que aceite a ideia de deixar o cargo em abril para a convoca\\u00e7\\u00e3o de elei\\u00e7\\u00f5es antecipadas em junho.  Os 128 deputados do Saenuri, partido da presidente, aprovaram por unanimidade a proposta de dar uma semana de prazo a Park: ela deve aceitar ou oferta ou expor-se a um humilhante processo de destitui\\u00e7\\u00e3o.  \\\"Todos os parlamentares do partido aprovaram o calend\\u00e1rio por unanimidade\\\", declarou Chung Jin-Suk, l\\u00edder da bancada do Saenuri, citado pela ag\\u00eancia sul-coreana Yonhap.  De acordo com o congressista, o calend\\u00e1rio \\u00e9 o mais apropriado para assegurar uma transfer\\u00eancia de poder adequada e dar tempo aos diferentes partidos para preparar a elei\\u00e7\\u00e3o presidencial, que seria antecipada em seis meses em rela\\u00e7\\u00e3o ao inicialmente previsto.  Park Geun-hye viu sua popularidade desabar em um m\\u00eas com as revela\\u00e7\\u00f5es sobre as investiga\\u00e7\\u00f5es do Minist\\u00e9rio P\\u00fablico a respeito de sua ex-confidente Choi Soon-sil, detida por ter utilizado a rela\\u00e7\\u00e3o com a presidente para extorquir grandes empresas sul-coreanas. A presidente \\u00e9 suspeita de \\\"coniv\\u00eancia\\\".  Desde que o esc\\u00e2ndalo veio \\u00e0 tona, manifesta\\u00e7\\u00f5es re\\u00fanem multid\\u00f5es a cada fim de semana em todo o pa\\u00eds para pedir a ren\\u00fancia da presidente.\",\n          \"O presidente turco, Recep Tayyip Erdogan, que devia assistir ao funeral do boxeador Muhammad Ali, decidiu encurtar sua estada em Louisville ap\\u00f3s ser ofendido pela recep\\u00e7\\u00e3o dos organizadores, informou a imprensa turca.  Erdogan n\\u00e3o conseguiu fazer parte da lista de oradores da cerim\\u00f4nia que acontece nesta sexta-feira (10).  O presidente turco, acompanhado de seu genro, Berat Albayrak, que \\u00e9 ministro da Energia, compareceu na v\\u00e9spera ao vel\\u00f3rio e depois decidiu encurtar repentinamente sua visita, que deveria durar at\\u00e9 a noite desta sexta.  Segundo o jornal Hurriyet Daily News, que cita fontes do gabinete do presidente, Erdogan sentiu-se particularmente ofendido por n\\u00e3o ter podido colocar sobre o caix\\u00e3o do boxeador a Kiwsa, uma pe\\u00e7a de tecido adornada com versos do Cor\\u00e3o, que tamb\\u00e9m recobre a Kaaba, a constru\\u00e7\\u00e3o c\\u00fabica situada no centro da Grande Mesquita de Meca.    Muhammed Ali \\u00e9 venerado em todo o mundo isl\\u00e2mico por ter se convertido ao Isl\\u00e3 em 1964 e por ter defendido os valores pac\\u00edficos e universais desta religi\\u00e3o ao longo de sua vida.  FUNERAL  Uma prociss\\u00e3o que come\\u00e7ou \\u00e0s 10h (hor\\u00e1rio de Bras\\u00edlia) e que ter\\u00e1 30 km de percurso reunir\\u00e1 nas cal\\u00e7adas das ruas milhares de pessoas an\\u00f4nimas, provenientes de lugares t\\u00e3o distantes quanto \\u00c1frica ou \\u00c1sia.  Elas ver\\u00e3o a passagem de um carro f\\u00fanebre com o corpo de Ali, morto na sexta-feira passada, aos 74 anos. Na \\u00faltima quinta-feira, aconteceu uma ora\\u00e7\\u00e3o mu\\u00e7ulmana para o in\\u00edcio do funeral.  Veja o v\\u00eddeo  O ex-presidente Bill Clinton ser\\u00e1 um dos oradores, assim como o comediante Billy Cristal.  A comitiva f\\u00fanebre se dirigir\\u00e1 posteriormente ao cemit\\u00e9rio Cave Hill.  O enterro, na presen\\u00e7a dos filhos de Ali, ser\\u00e1 feita em absoluta intimidade. O ator Will Smith e o ex-campe\\u00e3o mundial de boxe Lennox Lewis carregar\\u00e3o o caix\\u00e3o juntamente com outras seis pessoas.  Will Smith encarnou Muhammad Ali no filme de Michael Mann \\\"Ali\\\" (2001), um papel que lhe valeu uma indica\\u00e7\\u00e3o ao Oscar de melhor ator.\",\n          \"A partir da 0h desta sexta-feira (10), diplomatas, oficiais e assistentes de chancelaria decidir\\u00e3o, por meio de uma vota\\u00e7\\u00e3o online, se entram em greve por causa de atrasos no pagamento do aux\\u00edlio-moradia para quem est\\u00e1 servindo em postos no exterior.  Segundo o Sinditamaraty (Sindicato Nacional dos Servidores do Minist\\u00e9rio das Rela\\u00e7\\u00f5es Exteriores), alguns funcion\\u00e1rios est\\u00e3o sem receber o benef\\u00edcio h\\u00e1 tr\\u00eas meses. Outro motivo de protesto \\u00e9 a falta de cumprimento da compensa\\u00e7\\u00e3o de horas sobre plant\\u00f5es consulares -algo que vem ocorrendo com frequ\\u00eancia, segundo o sindicato, em postos como o consulado em Atlanta (EUA) e a embaixada em Londres.  A sugest\\u00e3o feita pelo sindicato \\u00e9 a realiza\\u00e7\\u00e3o de manifesta\\u00e7\\u00f5es di\\u00e1rias -com a ades\\u00e3o de postos de uma determinada regi\\u00e3o por dias da semana\\u2013 at\\u00e9 a pr\\u00f3xima assembleia, quando seria votado um indicativo de greve.  Se os servidores, contudo, decidirem pela greve na vota\\u00e7\\u00e3o, a ideia \\u00e9 que se d\\u00ea um prazo at\\u00e9 6 de maio para o Itamaraty atender as reivindica\\u00e7\\u00f5es. Outra possibilidade s\\u00e3o paralisa\\u00e7\\u00f5es de um dia: em 15 e 22 de abril.  \\\"O problema todo \\u00e9 que o ministro n\\u00e3o v\\u00ea solu\\u00e7\\u00e3o a curto prazo\\\", disse a presidente do Sinditamaraty, Sandra Nepomuceno dos Santos, que se reuniu na \\u00faltima quarta (8) com o chanceler Mauro Vieira. \\\"Mas as pessoas est\\u00e3o fazendo press\\u00e3o, querem ajuizar a\\u00e7\\u00f5es coletivas para que seja garantido o direito delas.\\\"  O sindicato tem hoje cerca de 1.260 afiliados, pouco mais de um ter\\u00e7o do n\\u00famero total de servidores do minist\\u00e9rio. Menos de 200 deles s\\u00e3o diplomatas -representando apenas 12% desse grupo de funcion\\u00e1rios.  O Sinditamaraty, contudo, tem esperan\\u00e7a de que a mobiliza\\u00e7\\u00e3o envolva tamb\\u00e9m os diplomatas, j\\u00e1 que a ades\\u00e3o entre esse grupo mais do que triplicou nos \\u00faltimos seis meses, diante dos problemas enfrentados pelos cortes no or\\u00e7amento da pasta. A participa\\u00e7\\u00e3o do or\\u00e7amento do minist\\u00e9rio no total do Executivo, que j\\u00e1 era pequena, caiu quase \\u00e0 metade em 2014 em rela\\u00e7\\u00e3o a 2003 \\u2013de 0,5% para 0,27%.  A vota\\u00e7\\u00e3o termina \\u00e0 0h de s\\u00e1bado (11).\"\n        ],\n        \"semantic_type\": \"\",\n        \"description\": \"\"\n      }\n    },\n    {\n      \"column\": \"date\",\n      \"properties\": {\n        \"dtype\": \"object\",\n        \"num_unique_values\": 987,\n        \"samples\": [\n          \"2017-03-09\",\n          \"2017-02-26\",\n          \"2017-06-19\"\n        ],\n        \"semantic_type\": \"\",\n        \"description\": \"\"\n      }\n    },\n    {\n      \"column\": \"category\",\n      \"properties\": {\n        \"dtype\": \"category\",\n        \"num_unique_values\": 6,\n        \"samples\": [\n          \"colunas\",\n          \"esporte\",\n          \"ilustrada\"\n        ],\n        \"semantic_type\": \"\",\n        \"description\": \"\"\n      }\n    },\n    {\n      \"column\": \"subcategory\",\n      \"properties\": {\n        \"dtype\": \"category\",\n        \"num_unique_values\": 209,\n        \"samples\": [\n          \"oscarvilhenavieira\",\n          \"gustavopatu\",\n          \"paulkrugman\"\n        ],\n        \"semantic_type\": \"\",\n        \"description\": \"\"\n      }\n    },\n    {\n      \"column\": \"link\",\n      \"properties\": {\n        \"dtype\": \"string\",\n        \"num_unique_values\": 20513,\n        \"samples\": [\n          \"http://www1.folha.uol.com.br/mundo/2016/12/1837401-partido-da-presidente-sul-coreana-pede-que-ela-abandone-o-cargo-em-abril.shtml\",\n          \"http://www1.folha.uol.com.br/esporte/2016/06/1780263-ofendido-presidente-turco-nao-participara-de-funeral-de-ali.shtml\",\n          \"http://www1.folha.uol.com.br/mundo/2015/04/1614600-servidores-do-itamaraty-votarao-sobre-greve-por-atraso-em-auxilio-moradia.shtml\"\n        ],\n        \"semantic_type\": \"\",\n        \"description\": \"\"\n      }\n    }\n  ]\n}"
            }
          },
          "metadata": {},
          "execution_count": 3
        }
      ]
    },
    {
      "cell_type": "markdown",
      "source": [
        "### Um pequeno exemplo de como o CountVectorize funciona.\n",
        "- O CountVectorizer é uma ferramenta usada para transformar um corpus de documentos de texto em uma matriz de contagem de palavras.\n",
        "- Tokenização:\n",
        "O texto é dividido em tokens (geralmente palavras). Por exemplo, a frase \"O gato está no tapete\" seria dividida em [\"O\", \"gato\", \"está\", \"no\", \"tapete\"].\n",
        "- Construção do vocabulário:\n",
        "O CountVectorizer constrói um vocabulário de todas as palavras únicas encontradas no corpus de texto. Por exemplo, se tivermos dois documentos [\"O gato está no tapete\", \"O cachorro está no jardim\"], o vocabulário seria [\"O\", \"gato\", \"está\", \"no\", \"tapete\", \"cachorro\", \"jardim\"].\n",
        "- Contagem de palavras:\n",
        "Para cada documento, o CountVectorizer conta quantas vezes cada palavra do vocabulário aparece. Esses contadores são armazenados em uma matriz esparsa, onde as linhas representam documentos e as colunas representam palavras do vocabulário"
      ],
      "metadata": {
        "id": "FyjFSw-KJZhk"
      }
    },
    {
      "cell_type": "code",
      "source": [
        "from sklearn.feature_extraction.text import CountVectorizer\n",
        "texto = [\n",
        "    'tenha um bom dia',\n",
        "    'tenha um péssimo dia',\n",
        "    'tenha um ótimo dia'\n",
        "]\n",
        "\n",
        "vetorizador = CountVectorizer()\n",
        "vetorizador.fit(texto)"
      ],
      "metadata": {
        "colab": {
          "base_uri": "https://localhost:8080/",
          "height": 75
        },
        "id": "MzZhnELdGRYn",
        "outputId": "799f6b8f-9c3a-42b5-d3ae-cc270cda5097"
      },
      "execution_count": null,
      "outputs": [
        {
          "output_type": "execute_result",
          "data": {
            "text/plain": [
              "CountVectorizer()"
            ],
            "text/html": [
              "<style>#sk-container-id-1 {color: black;background-color: white;}#sk-container-id-1 pre{padding: 0;}#sk-container-id-1 div.sk-toggleable {background-color: white;}#sk-container-id-1 label.sk-toggleable__label {cursor: pointer;display: block;width: 100%;margin-bottom: 0;padding: 0.3em;box-sizing: border-box;text-align: center;}#sk-container-id-1 label.sk-toggleable__label-arrow:before {content: \"▸\";float: left;margin-right: 0.25em;color: #696969;}#sk-container-id-1 label.sk-toggleable__label-arrow:hover:before {color: black;}#sk-container-id-1 div.sk-estimator:hover label.sk-toggleable__label-arrow:before {color: black;}#sk-container-id-1 div.sk-toggleable__content {max-height: 0;max-width: 0;overflow: hidden;text-align: left;background-color: #f0f8ff;}#sk-container-id-1 div.sk-toggleable__content pre {margin: 0.2em;color: black;border-radius: 0.25em;background-color: #f0f8ff;}#sk-container-id-1 input.sk-toggleable__control:checked~div.sk-toggleable__content {max-height: 200px;max-width: 100%;overflow: auto;}#sk-container-id-1 input.sk-toggleable__control:checked~label.sk-toggleable__label-arrow:before {content: \"▾\";}#sk-container-id-1 div.sk-estimator input.sk-toggleable__control:checked~label.sk-toggleable__label {background-color: #d4ebff;}#sk-container-id-1 div.sk-label input.sk-toggleable__control:checked~label.sk-toggleable__label {background-color: #d4ebff;}#sk-container-id-1 input.sk-hidden--visually {border: 0;clip: rect(1px 1px 1px 1px);clip: rect(1px, 1px, 1px, 1px);height: 1px;margin: -1px;overflow: hidden;padding: 0;position: absolute;width: 1px;}#sk-container-id-1 div.sk-estimator {font-family: monospace;background-color: #f0f8ff;border: 1px dotted black;border-radius: 0.25em;box-sizing: border-box;margin-bottom: 0.5em;}#sk-container-id-1 div.sk-estimator:hover {background-color: #d4ebff;}#sk-container-id-1 div.sk-parallel-item::after {content: \"\";width: 100%;border-bottom: 1px solid gray;flex-grow: 1;}#sk-container-id-1 div.sk-label:hover label.sk-toggleable__label {background-color: #d4ebff;}#sk-container-id-1 div.sk-serial::before {content: \"\";position: absolute;border-left: 1px solid gray;box-sizing: border-box;top: 0;bottom: 0;left: 50%;z-index: 0;}#sk-container-id-1 div.sk-serial {display: flex;flex-direction: column;align-items: center;background-color: white;padding-right: 0.2em;padding-left: 0.2em;position: relative;}#sk-container-id-1 div.sk-item {position: relative;z-index: 1;}#sk-container-id-1 div.sk-parallel {display: flex;align-items: stretch;justify-content: center;background-color: white;position: relative;}#sk-container-id-1 div.sk-item::before, #sk-container-id-1 div.sk-parallel-item::before {content: \"\";position: absolute;border-left: 1px solid gray;box-sizing: border-box;top: 0;bottom: 0;left: 50%;z-index: -1;}#sk-container-id-1 div.sk-parallel-item {display: flex;flex-direction: column;z-index: 1;position: relative;background-color: white;}#sk-container-id-1 div.sk-parallel-item:first-child::after {align-self: flex-end;width: 50%;}#sk-container-id-1 div.sk-parallel-item:last-child::after {align-self: flex-start;width: 50%;}#sk-container-id-1 div.sk-parallel-item:only-child::after {width: 0;}#sk-container-id-1 div.sk-dashed-wrapped {border: 1px dashed gray;margin: 0 0.4em 0.5em 0.4em;box-sizing: border-box;padding-bottom: 0.4em;background-color: white;}#sk-container-id-1 div.sk-label label {font-family: monospace;font-weight: bold;display: inline-block;line-height: 1.2em;}#sk-container-id-1 div.sk-label-container {text-align: center;}#sk-container-id-1 div.sk-container {/* jupyter's `normalize.less` sets `[hidden] { display: none; }` but bootstrap.min.css set `[hidden] { display: none !important; }` so we also need the `!important` here to be able to override the default hidden behavior on the sphinx rendered scikit-learn.org. See: https://github.com/scikit-learn/scikit-learn/issues/21755 */display: inline-block !important;position: relative;}#sk-container-id-1 div.sk-text-repr-fallback {display: none;}</style><div id=\"sk-container-id-1\" class=\"sk-top-container\"><div class=\"sk-text-repr-fallback\"><pre>CountVectorizer()</pre><b>In a Jupyter environment, please rerun this cell to show the HTML representation or trust the notebook. <br />On GitHub, the HTML representation is unable to render, please try loading this page with nbviewer.org.</b></div><div class=\"sk-container\" hidden><div class=\"sk-item\"><div class=\"sk-estimator sk-toggleable\"><input class=\"sk-toggleable__control sk-hidden--visually\" id=\"sk-estimator-id-1\" type=\"checkbox\" checked><label for=\"sk-estimator-id-1\" class=\"sk-toggleable__label sk-toggleable__label-arrow\">CountVectorizer</label><div class=\"sk-toggleable__content\"><pre>CountVectorizer()</pre></div></div></div></div></div>"
            ]
          },
          "metadata": {},
          "execution_count": 4
        }
      ]
    },
    {
      "cell_type": "code",
      "source": [
        "print(vetorizador.vocabulary_)"
      ],
      "metadata": {
        "colab": {
          "base_uri": "https://localhost:8080/"
        },
        "id": "fBxTO-PyGRMH",
        "outputId": "779d1cde-15cb-466e-e0ac-a2c22d5e162c"
      },
      "execution_count": null,
      "outputs": [
        {
          "output_type": "stream",
          "name": "stdout",
          "text": [
            "{'tenha': 3, 'um': 4, 'bom': 0, 'dia': 1, 'péssimo': 2, 'ótimo': 5}\n"
          ]
        }
      ]
    },
    {
      "cell_type": "code",
      "source": [
        "vetor_bom = vetorizador.transform(['bom'])\n",
        "print(vetor_bom.toarray())"
      ],
      "metadata": {
        "colab": {
          "base_uri": "https://localhost:8080/"
        },
        "id": "7V85tM4JIwa-",
        "outputId": "bd3e9b2a-7a10-405c-f1c0-f8cca57887f0"
      },
      "execution_count": null,
      "outputs": [
        {
          "output_type": "stream",
          "name": "stdout",
          "text": [
            "[[1 0 0 0 0 0]]\n"
          ]
        }
      ]
    },
    {
      "cell_type": "code",
      "source": [
        "vetor_otimo = vetorizador.transform(['ótimo'])\n",
        "print(vetor_otimo.toarray())"
      ],
      "metadata": {
        "colab": {
          "base_uri": "https://localhost:8080/"
        },
        "id": "TF86jAv3JA5o",
        "outputId": "32fc4afa-9a9b-4705-b139-b5a8f81ed05c"
      },
      "execution_count": null,
      "outputs": [
        {
          "output_type": "stream",
          "name": "stdout",
          "text": [
            "[[0 0 0 0 0 1]]\n"
          ]
        }
      ]
    },
    {
      "cell_type": "markdown",
      "source": [
        "http://nilc.icmc.usp.br/embeddings\n",
        "- Os modelos de embeddings do NILC (Núcleo Interinstitucional de Linguística Computacional) da Universidade de São Paulo são representações vetoriais de palavras treinadas em grandes corpora de texto em português. Esses embeddings, como Word2Vec, GloVe e FastText, são usados para capturar relações semânticas entre palavras em um espaço vetorial contínuo.\n",
        "\n",
        " **- Word2Vec:** Este modelo aprende representações vetoriais de palavras usando um modelo neural superficial. Existem duas arquiteturas principais:\n",
        "\n",
        " **- CBOW** (Continuous Bag of Words): Prediz a palavra central a partir de um conjunto de palavras de contexto.\n",
        "\n",
        " **- Skip-gram:** Prediz palavras de contexto a partir de uma palavra central"
      ],
      "metadata": {
        "id": "Ojvr4lBi8kch"
      }
    },
    {
      "cell_type": "code",
      "source": [
        "!unzip \"/content/drive/MyDrive/Alura/ML_Avançada/NLP/cbow_s300.zip\""
      ],
      "metadata": {
        "colab": {
          "base_uri": "https://localhost:8080/"
        },
        "id": "wJt6LIXQL_2X",
        "outputId": "c0c08274-8062-401c-d27f-78dbc621bbf3"
      },
      "execution_count": null,
      "outputs": [
        {
          "output_type": "stream",
          "name": "stdout",
          "text": [
            "Archive:  /content/drive/MyDrive/Alura/ML_Avançada/NLP/cbow_s300.zip\n",
            "  inflating: cbow_s300.txt           \n"
          ]
        }
      ]
    },
    {
      "cell_type": "markdown",
      "source": [
        "http://nilc.icmc.usp.br/embeddings"
      ],
      "metadata": {
        "id": "s_85F9afWqao"
      }
    },
    {
      "cell_type": "code",
      "source": [
        "with open('cbow_s300.txt') as f:\n",
        "  for linha in range(10):\n",
        "    print(next(f))"
      ],
      "metadata": {
        "colab": {
          "base_uri": "https://localhost:8080/"
        },
        "id": "P5Hm62EaQVt0",
        "outputId": "a069e0b4-63ba-4caa-d660-f170a93bc7a9"
      },
      "execution_count": null,
      "outputs": [
        {
          "output_type": "stream",
          "name": "stdout",
          "text": [
            "929606 300\n",
            "\n",
            "</s> -0.001667 -0.000158 -0.000026 0.001300 -0.000796 0.001527 0.000046 0.000584 0.000449 -0.000100 0.000353 0.001251 0.001069 0.000506 0.000574 0.000838 -0.000930 -0.001220 0.000317 0.001315 -0.001120 0.001373 -0.000040 -0.001580 0.000421 -0.000667 -0.001556 -0.000746 0.001604 0.001157 -0.000027 0.000354 0.000358 -0.000527 -0.000573 -0.001512 -0.001557 -0.001637 0.001617 -0.001511 -0.001022 -0.001426 0.001086 -0.001033 0.000593 0.000724 0.000627 -0.000450 -0.001140 0.000333 0.000524 0.001541 0.000284 0.000617 -0.000807 -0.000088 -0.000364 0.001126 -0.001230 -0.001138 -0.001280 0.001330 0.001257 0.000576 0.000764 0.000684 0.001008 -0.000215 -0.000629 -0.001228 -0.001557 -0.000311 -0.000246 0.000045 0.001136 -0.000645 -0.000549 0.001099 0.000858 -0.000886 0.000553 0.000303 0.001433 0.000732 0.001321 -0.000894 -0.000700 -0.000661 -0.001484 -0.000950 -0.001556 -0.000809 0.000348 -0.000068 0.000724 -0.000569 -0.000161 -0.001628 -0.001437 -0.000259 -0.000296 -0.001571 0.000149 0.000847 0.000613 0.000802 0.001507 0.001015 0.000377 0.000255 -0.000458 -0.000777 -0.001561 0.001601 -0.001520 -0.001210 0.000106 0.000714 0.000392 0.001311 -0.001192 -0.000090 -0.001097 0.000424 -0.000954 -0.001272 -0.001178 0.000036 -0.000181 0.000331 -0.001453 -0.001488 -0.001033 -0.000377 0.000257 -0.001418 0.001109 0.000722 0.000936 -0.000113 0.001215 -0.000263 0.000652 0.001190 -0.000258 0.001391 0.001213 0.000783 -0.001202 0.000470 -0.000879 0.000688 -0.001163 -0.001105 0.001497 0.001304 -0.001322 -0.001501 0.001377 0.001439 0.000884 0.000484 0.001239 -0.001578 0.000981 -0.000318 -0.001180 -0.001375 -0.001491 0.001057 -0.001028 0.000893 0.001028 0.000772 0.001636 -0.000331 -0.000247 -0.001006 -0.000329 0.000837 0.000605 -0.000959 0.001410 0.000488 0.001167 -0.000293 -0.001188 -0.000001 0.001135 0.001141 0.001504 0.000198 -0.001060 0.001551 -0.000003 -0.001474 -0.000391 -0.000880 0.000433 -0.000976 -0.001417 0.000563 -0.001188 0.000593 0.001584 -0.001602 -0.000439 -0.001148 -0.001256 0.001185 -0.000738 0.001543 -0.000846 -0.001029 -0.000641 -0.001587 0.001439 -0.001251 0.000942 -0.001414 -0.001106 0.001087 -0.000027 0.000757 -0.000159 -0.001014 -0.000891 0.000024 -0.000238 0.000157 -0.001067 0.000902 -0.001050 -0.000428 -0.001606 -0.000988 0.001391 0.001165 -0.000113 -0.001000 -0.000055 -0.001369 0.000684 0.000715 0.001407 0.000613 0.001389 0.001315 -0.000130 -0.001044 0.000175 -0.000035 0.000959 -0.000345 0.001209 -0.001251 -0.001219 0.001231 -0.000996 -0.001388 0.001038 0.001336 -0.001066 -0.000881 -0.001066 -0.001466 -0.000274 0.000201 0.000401 0.000132 0.000588 0.000589 -0.000128 0.001073 0.001197 0.000109 0.000770 0.001221 0.000996 -0.001174 0.000135 -0.001134 -0.001385 -0.000311 -0.001631 -0.000564 0.001162 -0.000322 -0.000469 0.001312 -0.001402 0.000239 0.000184 0.001300 0.000021 -0.001065 0.000047 -0.000301 0.001336 0.000332\n",
            "\n",
            ", -0.061483 -0.094368 -0.008557 -0.034702 0.021108 -0.011873 -0.041133 -0.095925 0.034668 -0.085286 0.076174 0.003314 0.019222 -0.038695 -0.008963 0.053399 0.162935 0.050372 -0.020163 -0.027230 0.061531 0.060840 0.074610 -0.056173 0.007621 -0.055220 0.018008 0.026096 0.033154 -0.082612 -0.081761 0.164978 -0.034423 0.003094 -0.018217 -0.087445 -0.074446 -0.000142 0.004218 0.036585 0.016095 -0.129141 -0.119698 -0.053717 0.005053 -0.114520 -0.017219 0.023693 -0.024115 0.053125 0.024658 -0.037689 0.012078 0.112701 0.028037 0.047618 -0.024196 0.050112 -0.073095 -0.090859 -0.030613 -0.109599 0.037756 0.063827 0.022537 -0.029640 -0.016311 0.021875 0.064882 0.039002 -0.082970 -0.043166 0.013695 -0.043153 -0.082203 -0.020087 -0.100360 0.007033 -0.074208 -0.067789 -0.024897 -0.020358 0.041731 0.101332 0.020217 -0.032473 0.087827 -0.033611 -0.150526 -0.016615 0.021147 -0.025058 0.097833 0.065067 0.051287 -0.079191 0.089563 -0.008436 -0.038352 0.019787 -0.058452 -0.009696 -0.051077 -0.112245 0.024886 -0.015172 -0.129670 0.068672 0.068483 0.009049 0.007055 -0.032763 0.001527 0.054264 0.029924 -0.023482 0.047470 0.008044 0.014534 0.071155 0.016700 -0.027491 -0.155782 0.039370 0.116605 -0.001262 -0.026638 -0.067078 0.078015 -0.066153 -0.039303 0.009535 -0.055698 -0.022250 0.046948 0.053810 0.038096 0.032157 -0.075257 0.008125 -0.034598 -0.020667 -0.003153 0.032491 -0.031064 0.030744 -0.049023 -0.046149 0.000792 0.010385 -0.057119 -0.122554 0.003210 -0.054363 -0.100899 0.069873 -0.009758 0.055455 0.049243 0.008346 -0.016087 0.093572 0.024125 0.058736 0.037243 -0.007478 0.032175 -0.054205 0.008798 0.032326 0.028384 -0.032259 -0.041842 -0.058281 -0.025145 0.011097 0.023598 -0.033376 0.026204 0.032505 -0.009283 0.041076 0.055565 -0.081757 -0.010077 0.058251 -0.014379 -0.040951 0.006938 -0.004179 0.052006 -0.063725 0.035674 -0.066554 0.030910 -0.004032 0.077445 0.029495 -0.064931 0.040263 -0.055423 -0.021571 0.086767 -0.003583 0.073308 -0.043991 0.022503 -0.028692 -0.063626 -0.048238 0.013439 -0.043673 -0.101352 -0.004321 0.125507 0.088486 0.042756 -0.014497 -0.053445 0.021800 0.038406 -0.034023 -0.074428 -0.132825 0.082152 -0.068497 0.004738 0.047527 -0.073890 0.051089 -0.055886 -0.047786 0.040247 -0.053966 -0.015752 0.099451 0.008218 -0.010716 -0.031540 0.036168 0.054244 0.051809 0.035158 0.043006 -0.027902 0.000130 0.103397 -0.114831 -0.036648 -0.036143 0.024432 0.084740 0.001801 0.044475 -0.035746 -0.024109 0.051210 -0.025769 0.016073 -0.000351 -0.029183 -0.075292 0.042163 0.025010 -0.041439 -0.059192 0.026617 -0.040852 0.034697 0.014691 -0.057382 0.046141 0.070360 0.045274 0.065880 0.011023 -0.031292 -0.015784 -0.023421 -0.042788 0.019669 0.035010 0.036188 -0.058060 -0.093562 0.030321 -0.054753 0.097162 0.001134 0.018939 -0.150218 -0.009928 0.051118 0.105212 -0.055051 -0.047959 -0.136800 -0.003198 0.068969 -0.022456\n",
            "\n",
            "de -0.232068 0.066729 0.103946 -0.072608 0.126237 -0.004782 -0.025139 -0.141489 -0.069438 -0.071078 0.175772 -0.017257 0.094824 0.011020 0.029226 -0.010670 0.144973 0.105333 -0.088273 -0.070952 0.054747 -0.048955 -0.047809 -0.030763 -0.052293 -0.003596 0.078465 0.144430 0.129697 -0.078427 -0.025080 0.212887 0.119806 0.101703 -0.142488 -0.031272 -0.026594 -0.109429 -0.154688 -0.121492 -0.103781 -0.177948 -0.125544 -0.120136 0.031658 0.054160 0.060493 -0.115676 0.132511 -0.001668 -0.125569 -0.124120 0.029025 0.006200 -0.007915 0.058489 0.122710 0.004660 -0.082200 0.123740 0.052747 -0.065657 0.154747 0.155071 0.003547 -0.154675 -0.035110 0.119117 0.080579 0.044262 0.048753 0.054975 -0.064624 -0.046866 0.028242 0.144197 0.029916 -0.024569 0.195781 -0.028608 -0.008233 -0.032542 0.012042 0.011934 -0.068173 0.037028 0.018363 -0.038244 -0.091176 -0.019795 0.051640 -0.008025 -0.025825 -0.001686 -0.069845 -0.039987 0.066244 0.088229 -0.171358 -0.030783 0.082344 0.059267 0.000550 -0.216285 -0.201356 -0.131063 -0.033069 -0.057126 -0.127576 -0.099251 -0.044669 0.035363 -0.119503 -0.090019 -0.006226 -0.000546 0.020731 0.016140 -0.007438 0.032885 -0.161048 0.105681 -0.115705 -0.078013 0.102293 -0.107958 -0.025926 -0.067986 0.017502 -0.054865 -0.007930 -0.006999 -0.000949 -0.026097 0.106295 0.115368 -0.033742 -0.046025 0.009641 -0.065890 0.198822 0.078333 0.062547 0.044947 -0.098424 0.140951 0.109045 -0.004204 -0.174950 0.034234 0.040793 -0.210289 0.104861 0.083616 -0.042511 -0.031439 -0.113108 0.000401 -0.171665 0.097890 0.008065 0.080684 -0.009576 -0.042125 0.177337 -0.005585 -0.004165 0.069755 -0.100323 -0.023289 0.039458 -0.089292 0.069543 -0.009576 0.011562 -0.076654 0.009681 -0.018808 -0.047881 0.026709 -0.021200 -0.032544 0.100362 0.037157 0.005169 -0.001280 -0.064330 -0.049024 -0.002354 0.004443 0.049129 0.026813 0.034249 0.068827 -0.038583 -0.116914 -0.107378 0.046983 0.038218 -0.082186 -0.124208 0.066872 -0.081745 -0.016516 0.016110 0.046844 0.176223 0.083604 -0.086893 -0.114739 -0.159588 0.007700 0.004887 0.006024 -0.020026 0.045816 0.033604 0.054474 0.089348 -0.024353 0.104835 0.084334 0.052662 -0.041422 -0.027877 0.002816 0.150068 -0.052310 0.017154 -0.152326 0.067753 -0.082644 0.119430 -0.012345 0.082965 -0.005791 -0.082770 -0.030068 -0.037331 -0.075347 0.035060 -0.092023 -0.001051 0.012675 0.128757 -0.048579 -0.078527 -0.134126 -0.060009 0.096834 -0.045947 0.132404 -0.030576 -0.006618 -0.088179 -0.124597 -0.095311 -0.086943 0.007010 0.059925 -0.077005 -0.035458 -0.017957 0.081104 0.060141 0.152996 0.083737 -0.025909 0.005420 -0.006300 -0.075839 -0.012399 -0.001624 0.039090 -0.040755 -0.013051 -0.072733 -0.048062 -0.082573 -0.013851 -0.120222 0.011452 -0.083538 0.015996 -0.110800 0.012405 0.045823 0.026705 -0.040789 0.064309 0.007381 -0.037854 0.076050 0.104702 0.010307 -0.103478 0.085227 0.064233 -0.015908 -0.047998\n",
            "\n",
            ". 0.027867 0.077901 -0.054738 -0.095938 -0.010536 0.015269 -0.005752 -0.048440 -0.104021 0.054583 0.050108 0.054979 0.071112 -0.056665 -0.140868 0.203626 0.211330 0.137270 -0.038069 -0.108607 0.060027 0.052436 0.126758 -0.078212 0.008864 -0.028087 0.029884 0.114899 -0.058657 -0.166441 -0.188866 0.294844 -0.147703 -0.095883 -0.104021 -0.097608 -0.172317 0.035795 -0.019025 0.057503 -0.030564 -0.125182 -0.257359 -0.106566 -0.002708 -0.035769 -0.072053 -0.005640 0.016920 0.155101 -0.226088 -0.070904 -0.110280 -0.075773 -0.190123 0.197397 -0.108603 0.155954 0.096544 -0.183301 0.008154 -0.195997 0.035284 -0.025561 0.159142 -0.141005 0.140643 -0.160588 0.140709 0.059974 -0.012396 -0.074953 -0.038325 -0.165941 -0.226005 -0.043738 0.052905 0.085072 -0.165731 0.016894 -0.136569 0.088165 -0.032044 0.022789 0.051207 0.015907 0.093662 0.037576 -0.286139 -0.107587 0.165001 0.095293 0.181427 0.038072 0.078180 -0.116599 0.138464 0.138386 0.020201 -0.028087 0.038829 -0.040074 -0.044944 -0.179895 0.035044 0.090347 -0.036088 0.154828 0.090421 0.172175 -0.127294 0.060227 0.164694 0.141367 0.049326 -0.136940 0.060633 -0.089581 -0.069639 0.043680 0.141455 -0.060588 -0.118859 0.181506 -0.051302 0.165763 0.151366 -0.191232 -0.103888 -0.077344 -0.016534 0.073607 -0.008464 0.216368 0.038251 0.002552 -0.112613 -0.049596 0.018040 -0.032907 -0.131335 -0.049530 0.057485 0.129446 -0.017884 0.075667 -0.061577 -0.015305 0.007649 0.116636 -0.132568 -0.244250 -0.048748 0.003139 -0.123311 0.018462 0.126955 0.079116 -0.067653 0.019126 0.044182 0.037610 0.199809 -0.118487 0.011276 -0.061652 -0.034426 -0.120148 -0.171490 0.009182 0.182921 -0.165212 0.149898 0.062080 -0.129040 0.051808 -0.075070 -0.068688 0.018707 -0.008050 0.108429 -0.111089 0.021230 -0.125982 0.077740 0.140251 -0.051900 0.036107 0.019580 -0.084050 0.065747 0.015718 -0.016900 -0.026964 0.126565 -0.087491 0.069504 0.108362 -0.006355 0.118521 -0.002510 0.060457 0.082848 0.000294 -0.037938 -0.026097 0.084446 0.015568 -0.050540 -0.117080 0.100227 -0.046050 -0.059615 0.086632 0.097266 0.084578 -0.036891 -0.033246 0.021302 -0.149581 -0.006353 -0.035713 -0.177163 -0.016629 -0.028634 -0.147015 -0.017861 0.009931 -0.181849 0.065564 -0.007616 0.094861 0.089787 0.005743 -0.127185 0.093027 -0.107247 -0.019161 -0.201082 -0.008504 0.126500 0.034318 0.011876 0.012696 -0.090981 0.012814 0.038388 -0.274763 -0.123303 -0.073078 0.027702 0.035841 -0.080954 0.091305 0.029009 -0.006000 0.121087 0.016678 -0.070181 -0.080839 -0.016332 -0.081390 -0.059594 0.131390 0.039603 -0.222503 -0.039382 -0.071041 0.267399 -0.010011 -0.077326 -0.044107 0.052901 0.023623 -0.087243 0.011539 -0.006381 -0.074194 -0.041591 -0.061872 -0.098552 -0.094357 -0.062879 -0.150341 -0.087596 0.330078 0.028435 0.087784 0.034434 -0.008122 -0.258485 -0.109828 0.013279 0.043340 0.136803 -0.081573 -0.136733 -0.081884 0.306241 0.093106\n",
            "\n",
            "a -0.019764 -0.096043 -0.010960 0.102012 -0.101848 -0.010257 0.004692 -0.165735 -0.179723 0.067659 0.037108 0.100931 -0.211779 0.163603 -0.042376 -0.021683 -0.014900 0.101581 -0.053583 0.065435 0.126251 0.062320 -0.057445 -0.107130 -0.037044 -0.072958 -0.066655 -0.067962 -0.070879 -0.187941 0.065208 0.102302 -0.024876 0.151433 0.012228 -0.065570 -0.063793 0.015519 0.046230 0.174824 -0.100376 -0.081244 -0.039337 0.017851 0.125168 -0.096404 -0.133070 -0.023451 0.117965 0.005949 0.038928 0.060488 -0.014678 0.024891 -0.001455 0.048539 0.133535 0.084564 0.018362 -0.054294 -0.235691 -0.151528 0.043101 -0.097685 -0.034775 -0.127507 0.010346 -0.010458 0.047631 0.002045 -0.013826 -0.139644 0.128220 -0.020997 -0.057176 0.007458 -0.033133 -0.083235 -0.075585 -0.079414 -0.023531 0.076794 0.051968 0.026857 0.007574 -0.039602 0.027458 -0.146083 0.008662 0.113647 0.007963 0.023413 0.088046 -0.079530 0.027995 -0.017113 -0.056750 0.069447 0.094213 0.123728 0.010051 -0.054795 0.041003 -0.044294 -0.066911 -0.025221 0.059618 0.023494 -0.095354 0.029266 0.047979 0.079102 -0.061757 0.116363 0.011112 0.136784 -0.027020 -0.002793 -0.092629 -0.047217 0.111263 0.102819 0.090932 -0.085343 -0.026490 -0.033315 -0.028970 -0.118673 -0.067360 -0.207183 -0.076011 0.017469 -0.078908 0.031023 0.090820 -0.054443 0.062466 0.065952 -0.028265 0.051329 0.090671 0.106923 0.028011 0.014720 -0.036025 0.099207 -0.013510 -0.147551 -0.077657 -0.099269 0.001171 0.059405 -0.006946 0.123997 0.023131 0.102308 -0.040784 0.027455 -0.181898 0.095958 0.155467 -0.077250 -0.124941 0.058529 0.035851 -0.004447 0.035127 -0.024015 -0.029101 -0.107558 0.055650 -0.017027 0.008997 -0.016504 0.018768 -0.080671 0.029003 0.013937 0.002876 -0.064262 0.001246 0.073494 -0.013986 -0.100303 0.027376 0.030375 -0.177618 0.016413 -0.008711 -0.257308 -0.031904 0.068326 0.038748 0.006762 -0.045245 0.038158 0.093055 -0.069432 -0.140442 -0.030486 -0.097529 0.251017 -0.059000 -0.037363 -0.020030 0.116937 0.018191 -0.005464 0.016485 0.009930 0.007318 -0.131821 -0.005316 -0.063905 0.066936 -0.007235 0.066709 0.153262 -0.087015 -0.196866 0.042973 0.124447 0.034619 -0.021113 0.029881 -0.072679 0.068707 -0.033823 -0.140311 -0.158137 0.215081 -0.020170 -0.062018 -0.038955 0.158768 -0.155656 0.016471 -0.071324 0.069629 -0.070692 0.114725 0.114054 0.154133 -0.143244 -0.082015 -0.070578 0.094558 -0.073491 -0.084676 0.089027 -0.053428 0.034783 0.007488 0.008849 0.137206 -0.061942 -0.155206 -0.022297 -0.054165 0.206418 0.058566 0.033847 0.039555 0.042072 -0.003160 0.350700 -0.067416 -0.089351 0.147734 0.026404 -0.128322 -0.143885 -0.189820 0.162824 -0.038651 -0.045660 0.083507 0.118510 -0.054740 -0.053446 -0.106545 -0.087144 -0.159905 0.006153 0.057539 0.079486 -0.015659 -0.014220 -0.013549 -0.122177 -0.154875 0.319072 -0.251233 0.070468 -0.084041 -0.067580 -0.163386 -0.026553 -0.033245 -0.035199\n",
            "\n",
            "o 0.050016 0.094213 -0.234393 0.057870 -0.255710 -0.099076 0.162541 -0.073166 -0.072231 0.087253 0.154162 -0.021438 0.095246 0.086680 0.027481 0.055959 0.176635 -0.158901 -0.076106 -0.036695 0.115689 -0.039255 -0.116532 -0.143528 0.059030 0.049429 -0.009721 0.204578 -0.020946 -0.254149 -0.167956 0.024087 -0.094412 -0.066287 -0.085987 -0.081115 -0.035314 -0.000736 0.069831 -0.034319 -0.041741 0.007945 0.106777 0.119971 -0.051358 0.152951 -0.109669 0.102599 0.102598 0.044424 -0.088313 0.142374 0.042868 -0.042467 0.199348 -0.234265 -0.044845 -0.109492 0.005783 -0.045873 -0.049017 -0.037446 0.105329 -0.163747 -0.139140 0.153179 -0.117726 -0.113436 0.010813 0.097110 0.074618 0.041083 0.082912 -0.052041 0.009895 0.160828 0.058190 -0.215907 -0.024543 0.042466 -0.011712 0.064930 0.097498 -0.080108 0.019837 -0.059179 0.077248 -0.135312 0.132748 0.069083 0.075949 -0.232743 0.078279 -0.078944 0.116486 0.004099 0.057786 -0.125938 0.068976 0.176170 0.044454 0.085901 0.033849 0.057793 -0.083662 0.061258 -0.037814 0.050392 -0.067302 -0.102103 -0.011153 0.029286 0.032976 0.003400 0.061664 0.076337 -0.097293 0.026432 -0.059397 -0.160978 0.069399 0.307550 0.069981 -0.122410 0.003086 0.027841 0.134213 -0.018279 -0.025608 -0.156602 0.062460 -0.051757 0.030337 -0.042270 0.007516 0.055478 0.075345 0.112685 -0.047181 0.001009 0.031433 -0.134699 -0.034702 -0.082685 -0.182748 -0.097813 0.053774 -0.067876 -0.090774 -0.035145 0.080364 -0.242563 0.024905 -0.012293 0.110051 0.103592 0.138403 -0.035121 0.037955 -0.028042 0.005687 0.042462 0.045434 0.127590 -0.049950 0.079609 -0.152268 -0.102837 -0.083840 -0.132681 -0.073176 0.031672 0.104991 0.082840 0.142188 -0.047643 0.054661 -0.112325 0.006551 0.079335 0.011705 -0.042121 0.086597 0.088994 0.079949 -0.002677 0.106816 -0.055035 0.068153 -0.167192 0.009149 -0.028594 -0.039560 0.001607 -0.122615 0.106024 0.107250 0.050540 -0.043291 0.061397 0.001380 0.054964 0.040893 -0.045046 0.002312 0.032035 -0.026698 -0.042064 0.144622 0.076241 0.024255 -0.086833 0.098275 -0.083894 0.086363 -0.004560 -0.029056 0.126784 0.071785 -0.025692 0.000966 0.100620 0.030299 -0.163968 0.042070 -0.198341 0.099603 -0.113758 0.124685 -0.069966 -0.165131 -0.134782 -0.020419 -0.112747 0.123515 -0.045274 0.167949 -0.109681 -0.146224 0.075453 0.054352 0.023153 -0.062161 -0.059457 -0.124327 0.041855 0.205124 -0.083616 -0.062827 0.017066 0.025000 0.079311 0.018874 -0.055492 -0.129246 0.099183 -0.022749 -0.079510 -0.130005 0.012160 0.060842 0.018816 -0.180103 0.057191 0.018971 0.216519 -0.003726 0.155861 0.112271 0.091379 -0.073707 -0.059254 0.011068 -0.005690 -0.098677 -0.082454 0.105838 0.042144 0.100894 0.096960 -0.228625 0.064737 0.022971 -0.001549 -0.105277 0.149519 -0.055187 0.201671 0.098550 0.056229 -0.107189 -0.005223 -0.077126 0.020865 -0.098107 0.064205 -0.174567 0.196321 0.233813 0.038634\n",
            "\n",
            "e -0.168088 -0.001531 0.017038 -0.137315 -0.026399 -0.018215 0.026076 0.019779 -0.095212 -0.090352 -0.106060 0.061975 -0.000318 -0.002945 0.119734 0.149804 0.108117 0.064784 0.065574 -0.038343 0.159915 -0.006124 -0.038307 -0.094810 -0.019356 -0.045115 -0.121859 0.028930 0.045017 -0.138268 0.099283 0.128659 0.077656 0.032982 -0.086139 0.051552 -0.077685 -0.066857 -0.045233 -0.185625 0.013728 -0.067088 -0.061796 0.091931 0.007931 -0.033784 -0.026604 0.026487 0.002281 0.000939 -0.043053 -0.082718 -0.101476 0.014253 0.106507 0.059285 -0.034097 0.032848 -0.067852 0.103892 0.020742 -0.049702 0.085734 0.069140 -0.036293 -0.001048 -0.043403 -0.033758 -0.041652 -0.049051 -0.070893 -0.002921 0.096254 -0.046406 -0.016074 0.074894 0.098854 -0.015867 -0.024065 0.048818 -0.058226 -0.031364 0.055631 -0.001012 0.002966 0.017624 0.082472 -0.025849 -0.099736 -0.065253 0.002511 0.026550 -0.046750 0.005665 0.058496 -0.068569 0.110588 -0.003354 -0.133236 -0.140404 0.090284 -0.089065 0.010600 -0.143848 0.023044 0.035726 0.044885 -0.081761 0.020406 0.045142 -0.099682 0.013478 -0.102208 -0.048206 0.040736 0.012733 0.064284 0.052800 0.046179 -0.083605 -0.002064 0.003024 0.078588 -0.075731 -0.038192 -0.010662 -0.062210 -0.060302 0.005740 -0.119290 0.049789 -0.009878 0.033791 0.145393 -0.064118 0.005292 -0.046015 -0.012572 -0.002266 0.018877 -0.114718 0.043831 0.036031 -0.077071 0.079499 0.047130 0.136516 -0.029402 -0.095073 -0.198367 0.077792 -0.092858 -0.115212 0.064883 -0.083748 -0.115535 -0.017903 0.080732 0.088457 0.037072 0.044588 0.042071 0.064027 0.035189 0.071027 -0.028330 0.026847 -0.005846 -0.003655 -0.019447 0.057641 -0.057623 0.032575 -0.009248 0.103035 -0.087592 0.049022 -0.030181 0.055313 0.001550 0.136222 -0.081518 -0.003322 -0.196934 -0.125240 -0.039119 0.082201 -0.036932 -0.030666 0.101376 -0.008224 0.045433 0.055995 -0.108370 0.120019 0.024427 -0.055956 0.076503 -0.063588 -0.091926 -0.047620 0.071838 -0.050062 0.122101 0.011679 0.015549 0.060463 -0.174818 0.006131 -0.035602 -0.039755 0.044683 -0.002324 -0.096353 0.153145 -0.181759 0.059133 0.008242 0.009471 0.004472 -0.005789 0.035746 0.107733 0.019606 0.035323 0.013101 0.078772 0.031495 0.011914 0.035316 0.029965 0.010626 0.024444 -0.036373 0.041982 -0.059195 -0.062521 -0.032445 -0.050086 -0.002740 -0.033702 -0.052157 -0.100889 0.010753 -0.017195 0.076872 -0.114096 -0.134334 0.019812 -0.147168 -0.048026 0.055315 -0.021564 0.092953 -0.070098 -0.009133 -0.021408 -0.043442 -0.059603 -0.026196 -0.046402 -0.024446 0.036482 -0.021195 -0.014285 -0.003113 -0.053620 -0.057722 -0.005912 -0.228597 -0.022520 0.008453 -0.131441 0.074053 0.010990 -0.029988 -0.106588 -0.005512 0.036736 -0.002115 -0.078824 -0.067073 0.034071 -0.037642 0.019106 0.080103 0.068267 -0.052487 -0.070635 0.073949 -0.056421 0.017687 0.011800 -0.014045 0.006226 -0.014210 0.088889 -0.007613 -0.042151 0.091935\n",
            "\n",
            "que 0.105677 -0.012054 -0.134709 -0.013888 -0.080373 -0.084105 0.028820 -0.039461 -0.011410 0.033408 -0.031719 0.198935 0.047353 -0.090613 -0.098891 -0.010202 0.144315 0.151674 0.016502 -0.133896 0.031100 -0.007432 -0.059600 0.059022 -0.038658 0.167877 0.082268 0.217249 -0.072088 0.076910 0.079216 -0.037108 0.014821 -0.078732 -0.035230 0.024507 -0.126809 -0.017172 0.040998 -0.043692 -0.149663 -0.049520 0.024513 -0.063125 0.058306 -0.012108 -0.119330 0.034781 -0.102405 0.088640 -0.272843 -0.059915 -0.108119 -0.004685 0.184494 0.029357 -0.012836 0.087409 -0.093633 0.141491 -0.051050 -0.072004 -0.164353 -0.078488 -0.075351 -0.029836 -0.011346 -0.081588 0.032113 -0.120232 -0.028536 0.010188 0.169394 -0.077409 -0.026955 0.083380 0.010644 0.026978 0.131446 -0.055521 -0.142428 -0.164762 0.016372 -0.254786 -0.015511 -0.044090 -0.091434 0.042059 -0.182369 -0.057621 -0.113482 -0.031757 0.036860 0.035760 -0.084302 -0.244284 0.014317 -0.110019 0.076959 -0.003242 0.058425 -0.068168 -0.150191 -0.054872 0.067636 -0.130009 0.033544 -0.028672 -0.029417 -0.003639 0.008028 0.067533 0.015459 0.057868 -0.095344 0.023596 0.005216 -0.068982 0.110498 -0.045724 0.067068 -0.103614 -0.010749 0.079515 -0.160577 -0.037640 -0.090058 0.194754 -0.137685 0.048330 0.023402 -0.080694 -0.076719 0.081176 0.145217 -0.312484 -0.158713 0.003970 0.017241 0.020559 0.019566 -0.020686 0.027909 -0.088033 0.055311 0.114986 0.046477 -0.026289 -0.085503 0.072325 0.033167 -0.027302 0.043202 -0.125175 -0.046430 -0.089749 -0.052517 -0.026923 -0.157140 0.142859 -0.035472 0.053636 -0.015367 -0.041692 0.004743 -0.053162 -0.073490 -0.031711 0.009967 -0.034655 0.209237 -0.052801 0.121190 -0.048079 0.203458 0.037113 -0.095015 0.143972 0.046959 -0.014909 0.169301 -0.034984 0.006088 -0.180444 -0.098740 -0.082224 0.042493 -0.048264 0.034078 -0.155237 0.049812 0.108571 -0.103458 0.015055 -0.005921 -0.020380 -0.059664 0.063496 0.120677 0.028720 0.010933 -0.034094 -0.033195 0.065065 -0.150067 -0.127015 -0.115948 -0.168308 -0.079605 0.112220 -0.024935 0.008233 -0.050985 -0.047235 -0.041944 0.099358 -0.094031 0.008722 -0.044243 0.091927 0.029639 0.053425 -0.020329 -0.007264 0.029055 -0.027748 0.021123 0.023926 -0.068259 -0.034626 0.010976 -0.027882 0.074465 0.017960 -0.142224 0.010472 -0.005171 0.001003 0.031482 0.048073 0.122005 -0.012546 -0.127375 0.137744 -0.043389 -0.067031 -0.028339 -0.102349 -0.001278 -0.075125 -0.209901 0.022713 0.123317 -0.005108 0.206613 -0.119748 0.148568 0.189863 -0.005551 0.042991 0.024824 0.095960 0.049202 -0.115647 -0.075263 -0.101255 0.047671 0.006936 -0.147872 -0.048649 0.152138 0.090100 -0.054797 0.180955 -0.016752 -0.090723 -0.126502 0.137744 0.065590 -0.095213 -0.141592 -0.081258 0.061414 0.138765 -0.047507 0.155577 -0.004058 -0.054305 -0.064755 -0.155780 0.019290 0.092772 -0.113740 0.062508 -0.108115 -0.104516 0.233178 0.085033 -0.063993 0.107476\n",
            "\n",
            "do -0.180377 0.215497 -0.243985 -0.111583 -0.213779 -0.101028 -0.000539 -0.101256 -0.070914 0.038753 0.046168 -0.014838 0.180611 0.000883 0.060867 0.085324 0.226791 -0.021134 -0.137997 -0.202197 0.148571 -0.050565 -0.078147 -0.128638 -0.060884 0.050100 0.018876 0.214215 0.115665 -0.095654 -0.142162 0.120025 -0.097131 0.072397 -0.038019 0.105100 0.071983 -0.160280 -0.051489 -0.098811 -0.117858 -0.034939 -0.009614 0.107021 -0.047199 -0.005264 -0.000139 0.071706 0.161239 -0.161907 -0.337947 0.006058 0.022506 -0.037415 0.171261 -0.062566 -0.062829 -0.086872 0.049601 0.208633 -0.010851 0.096788 0.242130 -0.103836 -0.078473 -0.008937 -0.192728 0.135349 -0.090459 0.275743 0.134895 0.051969 -0.132400 0.040473 -0.095963 0.027610 0.029590 -0.188700 0.164033 0.032661 -0.109406 0.180492 0.147311 0.025806 -0.079043 -0.050046 0.065651 -0.066955 0.037583 -0.031008 0.012122 -0.225802 0.106807 0.067123 0.035571 -0.204494 -0.004813 -0.022719 -0.267100 0.241056 0.115854 0.094971 -0.032575 0.045279 0.030343 -0.103868 0.013372 0.008258 0.027818 -0.051606 0.060680 0.094947 -0.025672 -0.044170 -0.007713 -0.008499 -0.111320 0.112186 -0.091970 -0.085167 0.001894 0.156088 -0.067075 -0.027825 0.093561 0.070251 0.049796 -0.161722 -0.051384 -0.124694 -0.016951 -0.141747 0.002894 -0.133038 -0.015664 0.080839 -0.090980 0.084050 0.089413 0.021215 0.043560 -0.075679 -0.068300 -0.025250 -0.157061 0.022866 0.055717 -0.019705 0.036159 0.183264 0.073571 -0.227341 -0.020978 0.064482 0.075304 0.010691 -0.068159 0.110613 0.047416 -0.029155 -0.043249 -0.074944 0.011065 -0.047526 0.018594 0.114240 -0.265600 0.007173 -0.118795 -0.109128 0.000016 -0.025266 -0.101829 0.167882 0.163892 -0.112688 -0.195755 -0.162868 0.114179 0.149630 0.075342 0.024940 0.099575 0.154626 0.069327 0.046685 0.046306 -0.138379 0.070196 -0.071198 0.028745 0.052231 -0.034552 -0.065006 0.070413 -0.061854 0.102099 0.063467 -0.002194 0.041076 -0.095035 0.138216 0.123084 -0.022177 0.178009 0.171209 0.193143 -0.170747 0.013212 0.020312 -0.129422 0.079598 -0.068529 -0.147807 0.047131 -0.137531 0.091482 0.030125 0.145402 -0.080191 0.025542 0.178609 0.118927 -0.206678 0.094064 -0.042739 -0.084631 -0.076197 0.253984 -0.273463 -0.026424 0.022400 0.012012 0.061563 0.131845 0.000155 -0.068048 -0.138741 -0.137770 0.143289 -0.017924 -0.111125 -0.055598 -0.012842 0.040329 0.034049 0.148260 -0.121714 -0.091318 0.030290 0.127014 0.037068 -0.070445 -0.136299 -0.232076 -0.028718 0.111683 -0.116630 -0.077730 0.033543 -0.032343 0.091454 0.094135 0.163275 0.123356 0.155053 0.137251 0.054886 0.086155 0.132626 -0.112011 0.103465 -0.085405 -0.075092 0.038307 0.075783 0.028715 0.020250 0.078956 0.012173 -0.058316 0.084967 -0.099896 -0.090466 -0.126150 0.144591 0.025099 0.059846 0.102206 0.092871 -0.004201 -0.062104 0.143311 -0.046741 0.010705 -0.065122 -0.074470 0.072302 0.144289 0.067299\n",
            "\n"
          ]
        }
      ]
    },
    {
      "cell_type": "markdown",
      "source": [
        "##Utilizando o modelo Continous Bag of Words treinado pelo NILC"
      ],
      "metadata": {
        "id": "DuBJ-PEcrbSh"
      }
    },
    {
      "cell_type": "code",
      "source": [
        "from gensim.models import KeyedVectors\n",
        "\n",
        "modelo = KeyedVectors.load_word2vec_format('cbow_s300.txt')"
      ],
      "metadata": {
        "id": "eDXBQJ5FQ5EL"
      },
      "execution_count": null,
      "outputs": []
    },
    {
      "cell_type": "markdown",
      "source": [
        "###Conferindo palavras similares"
      ],
      "metadata": {
        "id": "N2ag2e6brmqR"
      }
    },
    {
      "cell_type": "code",
      "source": [
        "modelo.most_similar(\"china\")"
      ],
      "metadata": {
        "colab": {
          "base_uri": "https://localhost:8080/"
        },
        "id": "29mmRKcyWJW7",
        "outputId": "94bf90a8-78ea-49ca-edf9-787b9848fc76"
      },
      "execution_count": null,
      "outputs": [
        {
          "output_type": "execute_result",
          "data": {
            "text/plain": [
              "[('rússia', 0.7320705056190491),\n",
              " ('índia', 0.7241616249084473),\n",
              " ('tailândia', 0.701935887336731),\n",
              " ('indonésia', 0.6860769987106323),\n",
              " ('turquia', 0.6741335988044739),\n",
              " ('malásia', 0.6665689945220947),\n",
              " ('mongólia', 0.6593616008758545),\n",
              " ('manchúria', 0.658184826374054),\n",
              " ('urss', 0.6581669449806213),\n",
              " ('grã-bretanha', 0.6568097472190857)]"
            ]
          },
          "metadata": {},
          "execution_count": 11
        }
      ]
    },
    {
      "cell_type": "code",
      "source": [
        "modelo.most_similar('alemanha')"
      ],
      "metadata": {
        "colab": {
          "base_uri": "https://localhost:8080/"
        },
        "id": "LeMwBAPRWPCQ",
        "outputId": "aca69e87-7790-4c19-f2e8-93e0bdfb2628"
      },
      "execution_count": null,
      "outputs": [
        {
          "output_type": "execute_result",
          "data": {
            "text/plain": [
              "[('bélgica', 0.7396209239959717),\n",
              " ('ale-manha', 0.7230488061904907),\n",
              " ('itália', 0.7135661244392395),\n",
              " ('finlândia', 0.7134818434715271),\n",
              " ('frança', 0.6954975724220276),\n",
              " ('áustria', 0.6904557943344116),\n",
              " ('dinamarca', 0.6875619292259216),\n",
              " ('suécia', 0.6848707795143127),\n",
              " ('holanda', 0.6763719320297241),\n",
              " ('rússia', 0.6680962443351746)]"
            ]
          },
          "metadata": {},
          "execution_count": 12
        }
      ]
    },
    {
      "cell_type": "code",
      "source": [
        "modelo.most_similar(positive = ['brasil', 'argentina'])"
      ],
      "metadata": {
        "colab": {
          "base_uri": "https://localhost:8080/"
        },
        "id": "2DZxc5F_XBRP",
        "outputId": "1f7c098b-cd09-45a2-e25d-f9452b22af33"
      },
      "execution_count": null,
      "outputs": [
        {
          "output_type": "execute_result",
          "data": {
            "text/plain": [
              "[('chile', 0.6781662702560425),\n",
              " ('peru', 0.634803295135498),\n",
              " ('venezuela', 0.6273865699768066),\n",
              " ('equador', 0.6037014126777649),\n",
              " ('bolívia', 0.6017141342163086),\n",
              " ('haiti', 0.5993806719779968),\n",
              " ('méxico', 0.596230685710907),\n",
              " ('paraguai', 0.5957703590393066),\n",
              " ('uruguai', 0.590367317199707),\n",
              " ('japão', 0.5893509387969971)]"
            ]
          },
          "metadata": {},
          "execution_count": 13
        }
      ]
    },
    {
      "cell_type": "code",
      "source": [
        "modelo.most_similar(positive = ['nuvens', 'estrela'], negative = ['nuvem'])"
      ],
      "metadata": {
        "colab": {
          "base_uri": "https://localhost:8080/"
        },
        "id": "FQRsIpyhZ9cc",
        "outputId": "f21d7265-246b-4c08-f062-56e0bd464385"
      },
      "execution_count": null,
      "outputs": [
        {
          "output_type": "execute_result",
          "data": {
            "text/plain": [
              "[('estrelas', 0.5497430562973022),\n",
              " ('plêiades', 0.3791979253292084),\n",
              " ('colinas', 0.3746805489063263),\n",
              " ('trovoadas', 0.373703271150589),\n",
              " ('sombras', 0.37341946363449097),\n",
              " ('pombas', 0.3726757764816284),\n",
              " ('corredoras', 0.3640727400779724),\n",
              " ('cigarras', 0.36065396666526794),\n",
              " ('galáxias', 0.35754913091659546),\n",
              " ('luas', 0.3575345277786255)]"
            ]
          },
          "metadata": {},
          "execution_count": 14
        }
      ]
    },
    {
      "cell_type": "code",
      "source": [
        "modelo.most_similar(positive = ['professor', 'mulher'], negative = ['homem'])"
      ],
      "metadata": {
        "colab": {
          "base_uri": "https://localhost:8080/"
        },
        "id": "dGAXg7L2d1V-",
        "outputId": "290da915-a773-44f2-d3c0-7d7af1a374a3"
      },
      "execution_count": null,
      "outputs": [
        {
          "output_type": "execute_result",
          "data": {
            "text/plain": [
              "[('professora', 0.6192208528518677),\n",
              " ('aluna', 0.5449554324150085),\n",
              " ('esposa', 0.4978230893611908),\n",
              " ('ex-aluna', 0.4884248673915863),\n",
              " ('namorada', 0.4737858772277832),\n",
              " ('enfermeira', 0.4728144407272339),\n",
              " ('filha', 0.467373788356781),\n",
              " ('irmã', 0.4584590792655945),\n",
              " ('ex-namorada', 0.45824769139289856),\n",
              " ('ex-professora', 0.45104706287384033)]"
            ]
          },
          "metadata": {},
          "execution_count": 15
        }
      ]
    },
    {
      "cell_type": "markdown",
      "source": [
        "###Vetorização de texto"
      ],
      "metadata": {
        "id": "RoIILjv7pRzq"
      }
    },
    {
      "cell_type": "code",
      "source": [
        "treino.title.loc[12]"
      ],
      "metadata": {
        "colab": {
          "base_uri": "https://localhost:8080/",
          "height": 35
        },
        "id": "-AC6LP4xpRpj",
        "outputId": "69189ebf-0ed5-4f1d-b689-7aca0d6b1994"
      },
      "execution_count": null,
      "outputs": [
        {
          "output_type": "execute_result",
          "data": {
            "text/plain": [
              "\"Daniel Craig será stormtrooper em novo 'Star Wars', diz ator\""
            ],
            "application/vnd.google.colaboratory.intrinsic+json": {
              "type": "string"
            }
          },
          "metadata": {},
          "execution_count": 16
        }
      ]
    },
    {
      "cell_type": "markdown",
      "source": [
        "##Função para retornar caracteres alfa numéricos sem pontuações e em minúsculo"
      ],
      "metadata": {
        "id": "OzcdJ183rsxF"
      }
    },
    {
      "cell_type": "code",
      "source": [
        "\n",
        "import nltk\n",
        "import string\n",
        "nltk.download('punkt')\n",
        "\n",
        "def tokenizador(texto):\n",
        "  texto = texto.lower()\n",
        "  lista_alfanumerico = []\n",
        "  for token_valido in nltk.word_tokenize(texto):\n",
        "    if token_valido in string.punctuation: continue\n",
        "    lista_alfanumerico.append(token_valido)\n",
        "\n",
        "  return lista_alfanumerico"
      ],
      "metadata": {
        "colab": {
          "base_uri": "https://localhost:8080/"
        },
        "id": "k90R2WivpZ0f",
        "outputId": "bcc19c22-def2-47a4-b7b2-476086041ba5"
      },
      "execution_count": null,
      "outputs": [
        {
          "output_type": "stream",
          "name": "stderr",
          "text": [
            "[nltk_data] Downloading package punkt to /root/nltk_data...\n",
            "[nltk_data]   Unzipping tokenizers/punkt.zip.\n"
          ]
        }
      ]
    },
    {
      "cell_type": "code",
      "source": [
        "#Testando\n",
        "tokenizador(\"Texto Exemplo! 1331%\")"
      ],
      "metadata": {
        "colab": {
          "base_uri": "https://localhost:8080/"
        },
        "id": "XGyYCVRFrFc7",
        "outputId": "f325604b-e022-494e-9c1a-9994936482b3"
      },
      "execution_count": null,
      "outputs": [
        {
          "output_type": "execute_result",
          "data": {
            "text/plain": [
              "['texto', 'exemplo', '1331']"
            ]
          },
          "metadata": {},
          "execution_count": 18
        }
      ]
    },
    {
      "cell_type": "markdown",
      "source": [
        "Função que calcula a soma dos vetores de palavras, incluindo um tratamento especial para números.\n",
        "- Se a palavra não for encontrada no modelo, verifica-se se é um número.\n",
        "- Se for um número, converte-o em uma sequência de zeros de mesmo comprimento.\n",
        "- Tenta obter o vetor para essa sequência de zeros.\n",
        "- Se isso falhar, usa o vetor da palavra unknown."
      ],
      "metadata": {
        "id": "q4oRKKBbr6fM"
      }
    },
    {
      "cell_type": "code",
      "source": [
        "import numpy as np\n",
        "\n",
        "def combinacao_vetores_por_soma(palavras_numeros):\n",
        "  vetor_resultante = np.zeros(300)\n",
        "  for pn in palavras_numeros:\n",
        "    try:\n",
        "      vetor_resultante += modelo.get_vector(pn)\n",
        "    except KeyError:\n",
        "      if pn.isnumeric():\n",
        "        pn = '0'*len(pn)\n",
        "        vetor_resultante += modelo.get_vector(pn)\n",
        "      else:\n",
        "        vetor_resultante += modelo.get_vector('unknown')\n",
        "    return vetor_resultante"
      ],
      "metadata": {
        "id": "o3koLC2VrlpP"
      },
      "execution_count": null,
      "outputs": []
    },
    {
      "cell_type": "code",
      "source": [
        "palavras_numeros = tokenizador(\"texto exemplojkk1254\")\n",
        "vetor_texto = combinacao_vetores_por_soma(palavras_numeros)\n",
        "print(len(vetor_texto))\n",
        "print(vetor_texto)"
      ],
      "metadata": {
        "colab": {
          "base_uri": "https://localhost:8080/"
        },
        "id": "Ao5ZNWt7sxk5",
        "outputId": "2c2b8fd5-3f91-4039-94c4-0b218841f7be"
      },
      "execution_count": null,
      "outputs": [
        {
          "output_type": "stream",
          "name": "stdout",
          "text": [
            "300\n",
            "[ 5.03359996e-02  2.15844005e-01 -8.99100006e-02  3.39899987e-01\n",
            "  4.27290015e-02  3.87139991e-02  4.02019992e-02  2.03725994e-01\n",
            "  3.60199995e-02 -2.90690009e-02  3.12569998e-02  6.63449988e-02\n",
            " -1.51703998e-01 -8.04930031e-02  8.07970017e-02  5.49050011e-02\n",
            " -2.48120993e-01  9.28120017e-02  1.02821000e-01  1.23888001e-01\n",
            " -1.70099005e-01 -1.07051998e-01 -1.46831006e-01 -6.40729964e-02\n",
            "  1.89805001e-01 -1.40533000e-01 -1.21820003e-01  9.12839994e-02\n",
            " -4.23519984e-02  1.64030001e-01  1.63265005e-01 -1.55397996e-01\n",
            " -3.76500003e-02 -1.26919998e-02  6.84309974e-02  1.71388000e-01\n",
            "  1.52168006e-01  2.57512987e-01  3.97850014e-02  3.28593999e-01\n",
            "  2.22309995e-02  1.12200005e-03  1.84438005e-01  4.06600013e-02\n",
            " -1.59680005e-02  1.88660007e-02  1.87436998e-01  1.31270006e-01\n",
            " -3.12339999e-02  8.15469995e-02  1.65878996e-01  7.43720010e-02\n",
            " -2.46252000e-01  5.77020012e-02 -1.18805997e-01 -4.27320004e-02\n",
            "  2.31829993e-02  3.61465991e-01 -8.57269987e-02 -3.94923002e-01\n",
            " -2.18176007e-01 -5.00289984e-02 -1.16391003e-01 -1.93129003e-01\n",
            "  1.66762993e-01 -1.09457999e-01  1.18698999e-01 -5.43950014e-02\n",
            " -1.39479995e-01 -3.73059995e-02 -2.29899995e-02 -2.56148010e-01\n",
            "  6.40799990e-03  7.72370026e-02 -9.27229971e-02  1.26441002e-01\n",
            " -1.46458998e-01 -2.26119995e-01  9.77879986e-02 -2.66449992e-02\n",
            "  1.79539993e-02 -1.99734002e-01  1.98742002e-01  1.77311003e-01\n",
            "  7.35990033e-02 -1.82909995e-01 -1.09938003e-01  6.70700008e-03\n",
            " -1.58346996e-01 -2.67688990e-01 -3.24108988e-01  8.06149989e-02\n",
            "  9.87100005e-02  1.73276007e-01 -2.39331007e-01 -2.01497003e-01\n",
            "  3.20400000e-02  3.24878007e-01  5.98950014e-02 -2.17375994e-01\n",
            "  8.84720013e-02 -1.79561004e-01  1.02700002e-03 -1.17329001e-01\n",
            " -7.91000028e-04  4.27850001e-02 -1.41718999e-01  1.05474003e-01\n",
            "  7.73139969e-02  6.08600006e-02  1.52326003e-01  2.38859996e-01\n",
            "  5.92369996e-02 -2.11250000e-02  3.10399989e-03 -1.44800007e-01\n",
            " -3.47965986e-01 -8.23210031e-02 -3.61960009e-02  1.82549000e-01\n",
            "  2.14469999e-01 -1.55451998e-01  3.70140001e-02 -1.80239994e-02\n",
            " -7.98000023e-03 -3.71562004e-01 -6.95900023e-02  3.66079994e-02\n",
            " -3.67010012e-02  3.92203987e-01 -8.98739994e-02 -2.07072005e-01\n",
            " -1.08981997e-01  9.61119980e-02 -1.95930004e-02 -2.99367011e-01\n",
            "  2.96855003e-01 -9.12939981e-02  5.94710000e-02  1.11351997e-01\n",
            " -5.33719994e-02  1.91718996e-01 -1.14150001e-02  2.62246013e-01\n",
            "  1.26424998e-01 -2.39533007e-01  6.94390014e-02  6.73419982e-02\n",
            "  3.39410007e-02 -3.22699989e-03 -4.63249981e-02  2.64555007e-01\n",
            "  2.41302997e-01 -1.82243004e-01 -5.18940017e-02 -2.23609999e-01\n",
            "  2.68830005e-02  7.78120011e-02 -1.70801997e-01 -1.54928997e-01\n",
            "  4.48380001e-02  5.10950014e-02 -5.62500022e-03 -1.43407002e-01\n",
            " -7.07980022e-02  6.81800023e-03  1.88466996e-01  2.66389996e-02\n",
            " -1.47973999e-01  8.09099991e-03 -2.03785002e-01 -7.25959986e-02\n",
            " -2.77369991e-02 -2.16096997e-01 -2.66003013e-01 -5.53600006e-02\n",
            "  1.55625001e-01 -1.26715004e-01  6.18400015e-02 -3.49479988e-02\n",
            "  1.40509997e-02 -2.92369992e-01  6.98129982e-02  2.39819996e-02\n",
            " -3.06299999e-02 -1.33903995e-01 -5.44020012e-02 -1.13913998e-01\n",
            " -2.87699997e-01  2.25061998e-01  7.76730031e-02 -7.28370026e-02\n",
            " -2.84070000e-02 -9.15409997e-02  7.12890029e-02  1.48890004e-01\n",
            " -2.70933986e-01 -4.17519987e-01  1.08716004e-01  8.53909999e-02\n",
            "  2.04126000e-01 -2.09892005e-01 -9.50430036e-02  2.02319995e-02\n",
            " -1.40835002e-01  4.38980013e-02 -5.24379984e-02 -3.86950001e-02\n",
            " -1.49678007e-01  6.70029968e-02  4.90689985e-02 -9.52799991e-03\n",
            "  1.72820002e-01  6.52180016e-02  5.98939992e-02  3.76300002e-03\n",
            "  1.24728002e-01 -2.26675004e-01 -2.83935010e-01 -2.88000010e-04\n",
            " -3.14540006e-02  9.60090011e-02  3.42659988e-02  2.17109993e-02\n",
            "  1.77956000e-01 -1.87344998e-01  7.95290023e-02 -2.80029997e-02\n",
            " -1.92901000e-01 -4.61440012e-02 -1.67741001e-01 -1.38910003e-02\n",
            "  5.06320000e-02 -6.25170022e-02 -1.28103003e-01 -3.37933987e-01\n",
            " -1.95214003e-01  2.52999994e-03  1.01485997e-01 -1.91136003e-01\n",
            "  3.92520018e-02  1.79759994e-01  8.87199957e-03 -1.80420000e-02\n",
            "  1.60530999e-01 -2.47428998e-01 -2.31420007e-02 -1.52343005e-01\n",
            "  2.99099996e-03  1.89518005e-01 -1.58723995e-01  1.09153003e-01\n",
            " -6.09590001e-02 -1.34150004e-02  1.38871998e-01  9.36710015e-02\n",
            "  3.10979009e-01 -1.73005998e-01  1.24371998e-01 -2.42921993e-01\n",
            " -5.60939983e-02  5.20749986e-02  3.05720009e-02 -1.49687007e-01\n",
            " -1.21252000e-01 -6.99620023e-02  2.37087995e-01 -2.54549999e-02\n",
            "  1.07685000e-01 -2.86282986e-01  1.21719996e-02  1.10812999e-01\n",
            " -5.34520000e-02  1.61807999e-01  3.07379998e-02 -1.98042005e-01\n",
            "  6.20000006e-04  1.17251001e-01 -3.23299989e-02 -5.07500023e-03\n",
            "  3.77873987e-01 -2.25399993e-02 -1.75911993e-01  1.45184994e-01\n",
            "  2.97886997e-01 -7.89730027e-02  1.79141998e-01 -3.87962013e-01\n",
            " -3.11560005e-01 -1.36080995e-01  2.92510986e-01 -1.25860004e-02\n",
            " -1.84129998e-02  4.99100015e-02 -8.75609964e-02  3.43389988e-01\n",
            "  2.06161007e-01 -2.03694999e-01 -1.85818002e-01  1.86635002e-01]\n"
          ]
        }
      ]
    },
    {
      "cell_type": "markdown",
      "source": [
        "A função matriz_vetores está configurada para transformar uma lista de textos em uma matriz de vetores, onde cada linha representa a soma dos vetores das palavras do texto correspondente.\n",
        "- O que a função faz:\n",
        "- Inicializa uma matriz de zeros com dimensões baseadas no número de textos (x) e no tamanho dos vetores (y = 300).\n",
        "- Itera sobre cada texto, tokeniza o texto e calcula a soma dos vetores das palavras.\n",
        "- Preenche a matriz com os vetores resultantes."
      ],
      "metadata": {
        "id": "jScI-MKxsVqm"
      }
    },
    {
      "cell_type": "code",
      "source": [
        "def matriz_vetores(textos):\n",
        "  x = len(textos)\n",
        "  y = 300\n",
        "  matriz = np.zeros((x, y))\n",
        "  for i in range(x):\n",
        "    palavras_numeros = tokenizador(textos.iloc[i])\n",
        "    matriz[i] = combinacao_vetores_por_soma(palavras_numeros)\n",
        "  return matriz\n",
        "\n",
        "matriz_vetores_treino = matriz_vetores(treino.title)\n",
        "matriz_vetores_teste = matriz_vetores(teste.title)\n",
        "print(matriz_vetores_treino.shape)\n",
        "print(matriz_vetores_teste.shape)"
      ],
      "metadata": {
        "colab": {
          "base_uri": "https://localhost:8080/"
        },
        "id": "ZuWuBKTwtDxg",
        "outputId": "f8d81e72-9145-4bee-9406-77a23437d53d"
      },
      "execution_count": null,
      "outputs": [
        {
          "output_type": "stream",
          "name": "stdout",
          "text": [
            "(90000, 300)\n",
            "(20513, 300)\n"
          ]
        }
      ]
    },
    {
      "cell_type": "markdown",
      "source": [
        "##Treinando modelo Logistic Regression"
      ],
      "metadata": {
        "id": "i2IkJiuUswo_"
      }
    },
    {
      "cell_type": "code",
      "source": [
        "from sklearn.linear_model import LogisticRegression\n",
        "\n",
        "LR = LogisticRegression(max_iter = 200)\n",
        "LR.fit(matriz_vetores_treino, treino.category)"
      ],
      "metadata": {
        "colab": {
          "base_uri": "https://localhost:8080/",
          "height": 75
        },
        "id": "LFX58wRpyXoV",
        "outputId": "7d3fb9e6-f296-42ab-9e6a-87c370af047d"
      },
      "execution_count": null,
      "outputs": [
        {
          "output_type": "execute_result",
          "data": {
            "text/plain": [
              "LogisticRegression(max_iter=200)"
            ],
            "text/html": [
              "<style>#sk-container-id-2 {color: black;background-color: white;}#sk-container-id-2 pre{padding: 0;}#sk-container-id-2 div.sk-toggleable {background-color: white;}#sk-container-id-2 label.sk-toggleable__label {cursor: pointer;display: block;width: 100%;margin-bottom: 0;padding: 0.3em;box-sizing: border-box;text-align: center;}#sk-container-id-2 label.sk-toggleable__label-arrow:before {content: \"▸\";float: left;margin-right: 0.25em;color: #696969;}#sk-container-id-2 label.sk-toggleable__label-arrow:hover:before {color: black;}#sk-container-id-2 div.sk-estimator:hover label.sk-toggleable__label-arrow:before {color: black;}#sk-container-id-2 div.sk-toggleable__content {max-height: 0;max-width: 0;overflow: hidden;text-align: left;background-color: #f0f8ff;}#sk-container-id-2 div.sk-toggleable__content pre {margin: 0.2em;color: black;border-radius: 0.25em;background-color: #f0f8ff;}#sk-container-id-2 input.sk-toggleable__control:checked~div.sk-toggleable__content {max-height: 200px;max-width: 100%;overflow: auto;}#sk-container-id-2 input.sk-toggleable__control:checked~label.sk-toggleable__label-arrow:before {content: \"▾\";}#sk-container-id-2 div.sk-estimator input.sk-toggleable__control:checked~label.sk-toggleable__label {background-color: #d4ebff;}#sk-container-id-2 div.sk-label input.sk-toggleable__control:checked~label.sk-toggleable__label {background-color: #d4ebff;}#sk-container-id-2 input.sk-hidden--visually {border: 0;clip: rect(1px 1px 1px 1px);clip: rect(1px, 1px, 1px, 1px);height: 1px;margin: -1px;overflow: hidden;padding: 0;position: absolute;width: 1px;}#sk-container-id-2 div.sk-estimator {font-family: monospace;background-color: #f0f8ff;border: 1px dotted black;border-radius: 0.25em;box-sizing: border-box;margin-bottom: 0.5em;}#sk-container-id-2 div.sk-estimator:hover {background-color: #d4ebff;}#sk-container-id-2 div.sk-parallel-item::after {content: \"\";width: 100%;border-bottom: 1px solid gray;flex-grow: 1;}#sk-container-id-2 div.sk-label:hover label.sk-toggleable__label {background-color: #d4ebff;}#sk-container-id-2 div.sk-serial::before {content: \"\";position: absolute;border-left: 1px solid gray;box-sizing: border-box;top: 0;bottom: 0;left: 50%;z-index: 0;}#sk-container-id-2 div.sk-serial {display: flex;flex-direction: column;align-items: center;background-color: white;padding-right: 0.2em;padding-left: 0.2em;position: relative;}#sk-container-id-2 div.sk-item {position: relative;z-index: 1;}#sk-container-id-2 div.sk-parallel {display: flex;align-items: stretch;justify-content: center;background-color: white;position: relative;}#sk-container-id-2 div.sk-item::before, #sk-container-id-2 div.sk-parallel-item::before {content: \"\";position: absolute;border-left: 1px solid gray;box-sizing: border-box;top: 0;bottom: 0;left: 50%;z-index: -1;}#sk-container-id-2 div.sk-parallel-item {display: flex;flex-direction: column;z-index: 1;position: relative;background-color: white;}#sk-container-id-2 div.sk-parallel-item:first-child::after {align-self: flex-end;width: 50%;}#sk-container-id-2 div.sk-parallel-item:last-child::after {align-self: flex-start;width: 50%;}#sk-container-id-2 div.sk-parallel-item:only-child::after {width: 0;}#sk-container-id-2 div.sk-dashed-wrapped {border: 1px dashed gray;margin: 0 0.4em 0.5em 0.4em;box-sizing: border-box;padding-bottom: 0.4em;background-color: white;}#sk-container-id-2 div.sk-label label {font-family: monospace;font-weight: bold;display: inline-block;line-height: 1.2em;}#sk-container-id-2 div.sk-label-container {text-align: center;}#sk-container-id-2 div.sk-container {/* jupyter's `normalize.less` sets `[hidden] { display: none; }` but bootstrap.min.css set `[hidden] { display: none !important; }` so we also need the `!important` here to be able to override the default hidden behavior on the sphinx rendered scikit-learn.org. See: https://github.com/scikit-learn/scikit-learn/issues/21755 */display: inline-block !important;position: relative;}#sk-container-id-2 div.sk-text-repr-fallback {display: none;}</style><div id=\"sk-container-id-2\" class=\"sk-top-container\"><div class=\"sk-text-repr-fallback\"><pre>LogisticRegression(max_iter=200)</pre><b>In a Jupyter environment, please rerun this cell to show the HTML representation or trust the notebook. <br />On GitHub, the HTML representation is unable to render, please try loading this page with nbviewer.org.</b></div><div class=\"sk-container\" hidden><div class=\"sk-item\"><div class=\"sk-estimator sk-toggleable\"><input class=\"sk-toggleable__control sk-hidden--visually\" id=\"sk-estimator-id-2\" type=\"checkbox\" checked><label for=\"sk-estimator-id-2\" class=\"sk-toggleable__label sk-toggleable__label-arrow\">LogisticRegression</label><div class=\"sk-toggleable__content\"><pre>LogisticRegression(max_iter=200)</pre></div></div></div></div></div>"
            ]
          },
          "metadata": {},
          "execution_count": 22
        }
      ]
    },
    {
      "cell_type": "code",
      "source": [
        "LR.score(matriz_vetores_teste, teste.category)"
      ],
      "metadata": {
        "colab": {
          "base_uri": "https://localhost:8080/"
        },
        "id": "hN3-FWWz0WIl",
        "outputId": "e5819430-00aa-44e3-f889-4e950b6a4f13"
      },
      "execution_count": null,
      "outputs": [
        {
          "output_type": "execute_result",
          "data": {
            "text/plain": [
              "0.5353190659581729"
            ]
          },
          "metadata": {},
          "execution_count": 23
        }
      ]
    },
    {
      "cell_type": "code",
      "source": [
        "teste.category.unique()"
      ],
      "metadata": {
        "colab": {
          "base_uri": "https://localhost:8080/"
        },
        "id": "1jf4ovjS1vda",
        "outputId": "aa54af1a-2199-4764-836d-c7f1e1e56d46"
      },
      "execution_count": null,
      "outputs": [
        {
          "output_type": "execute_result",
          "data": {
            "text/plain": [
              "array(['colunas', 'esporte', 'mercado', 'cotidiano', 'mundo', 'ilustrada'],\n",
              "      dtype=object)"
            ]
          },
          "metadata": {},
          "execution_count": 24
        }
      ]
    },
    {
      "cell_type": "markdown",
      "source": [
        "##Acurácia do modelo com o Continous Bag of Words"
      ],
      "metadata": {
        "id": "KkqO9f8Ht0Eb"
      }
    },
    {
      "cell_type": "code",
      "source": [
        "from sklearn.metrics import classification_report\n",
        "\n",
        "label_prevista = LR.predict(matriz_vetores_teste)\n",
        "cr = classification_report(teste.category, label_prevista)\n",
        "print(cr)"
      ],
      "metadata": {
        "colab": {
          "base_uri": "https://localhost:8080/"
        },
        "id": "0zF-vRo_11RI",
        "outputId": "d090f6f8-4270-4f74-bd01-66962acdf60a"
      },
      "execution_count": null,
      "outputs": [
        {
          "output_type": "stream",
          "name": "stdout",
          "text": [
            "              precision    recall  f1-score   support\n",
            "\n",
            "     colunas       0.69      0.47      0.56      6103\n",
            "   cotidiano       0.33      0.49      0.39      1698\n",
            "     esporte       0.69      0.63      0.66      4663\n",
            "   ilustrada       0.04      0.66      0.07       131\n",
            "     mercado       0.70      0.55      0.62      5867\n",
            "       mundo       0.40      0.50      0.45      2051\n",
            "\n",
            "    accuracy                           0.54     20513\n",
            "   macro avg       0.47      0.55      0.46     20513\n",
            "weighted avg       0.63      0.54      0.57     20513\n",
            "\n"
          ]
        }
      ]
    },
    {
      "cell_type": "code",
      "source": [
        "from sklearn.dummy import DummyClassifier\n",
        "\n",
        "DC = DummyClassifier()\n",
        "DC.fit(matriz_vetores_treino, treino.category)\n",
        "label_prevista_dc = DC.predict(matriz_vetores_teste)\n",
        "\n",
        "cr_dummy = classification_report(teste.category, label_prevista_dc)\n",
        "print(cr_dummy)"
      ],
      "metadata": {
        "colab": {
          "base_uri": "https://localhost:8080/"
        },
        "id": "UbmhH9Vm3YO7",
        "outputId": "82203a66-472b-479e-c2da-80cf381503b2"
      },
      "execution_count": null,
      "outputs": [
        {
          "output_type": "stream",
          "name": "stderr",
          "text": [
            "/usr/local/lib/python3.10/dist-packages/sklearn/metrics/_classification.py:1344: UndefinedMetricWarning: Precision and F-score are ill-defined and being set to 0.0 in labels with no predicted samples. Use `zero_division` parameter to control this behavior.\n",
            "  _warn_prf(average, modifier, msg_start, len(result))\n"
          ]
        },
        {
          "output_type": "stream",
          "name": "stdout",
          "text": [
            "              precision    recall  f1-score   support\n",
            "\n",
            "     colunas       0.30      1.00      0.46      6103\n",
            "   cotidiano       0.00      0.00      0.00      1698\n",
            "     esporte       0.00      0.00      0.00      4663\n",
            "   ilustrada       0.00      0.00      0.00       131\n",
            "     mercado       0.00      0.00      0.00      5867\n",
            "       mundo       0.00      0.00      0.00      2051\n",
            "\n",
            "    accuracy                           0.30     20513\n",
            "   macro avg       0.05      0.17      0.08     20513\n",
            "weighted avg       0.09      0.30      0.14     20513\n",
            "\n"
          ]
        },
        {
          "output_type": "stream",
          "name": "stderr",
          "text": [
            "/usr/local/lib/python3.10/dist-packages/sklearn/metrics/_classification.py:1344: UndefinedMetricWarning: Precision and F-score are ill-defined and being set to 0.0 in labels with no predicted samples. Use `zero_division` parameter to control this behavior.\n",
            "  _warn_prf(average, modifier, msg_start, len(result))\n",
            "/usr/local/lib/python3.10/dist-packages/sklearn/metrics/_classification.py:1344: UndefinedMetricWarning: Precision and F-score are ill-defined and being set to 0.0 in labels with no predicted samples. Use `zero_division` parameter to control this behavior.\n",
            "  _warn_prf(average, modifier, msg_start, len(result))\n"
          ]
        }
      ]
    },
    {
      "cell_type": "markdown",
      "source": [
        "##Modelo SkipGram treinado pelo NILC\n",
        "http://nilc.icmc.usp.br/embeddings"
      ],
      "metadata": {
        "id": "j7GCtALW8m3E"
      }
    },
    {
      "cell_type": "code",
      "source": [
        "!unzip \"/content/drive/MyDrive/Alura/ML_Avançada/NLP/skip_s300.zip\""
      ],
      "metadata": {
        "colab": {
          "base_uri": "https://localhost:8080/"
        },
        "id": "v2tdI0ng3Ytl",
        "outputId": "8b18b442-1ec2-4b55-fc3c-6f79a8dc5284"
      },
      "execution_count": null,
      "outputs": [
        {
          "output_type": "stream",
          "name": "stdout",
          "text": [
            "Archive:  /content/drive/MyDrive/Alura/ML_Avançada/NLP/skip_s300.zip\n",
            "  inflating: skip_s300.txt           \n"
          ]
        }
      ]
    },
    {
      "cell_type": "code",
      "source": [
        "modelo_skipgram = KeyedVectors.load_word2vec_format('skip_s300.txt')"
      ],
      "metadata": {
        "id": "xQA1zyumwcJm"
      },
      "execution_count": null,
      "outputs": []
    },
    {
      "cell_type": "markdown",
      "source": [
        "A função combinacao_vetores_por_soma_skipgram combina vetores de palavras por soma, utilizando um modelo de embeddings Skip-gram. Ela trata palavras conhecidas, palavras desconhecidas e números de uma maneira específica para gerar um vetor resultante."
      ],
      "metadata": {
        "id": "afo_BvTttc4v"
      }
    },
    {
      "cell_type": "code",
      "source": [
        "def combinacao_vetores_por_soma_skipgram(palavras_numeros):\n",
        "  vetor_resultante = np.zeros(300)\n",
        "  for pn in palavras_numeros:\n",
        "    try:\n",
        "      vetor_resultante += modelo_skipgram.get_vector(pn)\n",
        "    except KeyError:\n",
        "      if pn.isnumeric():\n",
        "        pn = '0'*len(pn)\n",
        "        vetor_resultante += modelo_skipgram.get_vector(pn)\n",
        "      else:\n",
        "        vetor_resultante += modelo_skipgram.get_vector('unknown')\n",
        "    return vetor_resultante"
      ],
      "metadata": {
        "id": "1CZQkAIhwiaw"
      },
      "execution_count": null,
      "outputs": []
    },
    {
      "cell_type": "markdown",
      "source": [
        "A função matriz_vetores_skipgram transforma uma série de textos em uma matriz de vetores, onde cada linha da matriz é a soma dos vetores das palavras do texto correspondente. Esta função usa a função combinacao_vetores_por_soma_skipgram para somar os vetores das palavras."
      ],
      "metadata": {
        "id": "JkHIRQLetpZI"
      }
    },
    {
      "cell_type": "code",
      "source": [
        "def matriz_vetores_skipgram(textos):\n",
        "  x = len(textos)\n",
        "  y = 300\n",
        "  matriz = np.zeros((x, y))\n",
        "  for i in range(x):\n",
        "    palavras_numeros = tokenizador(textos.iloc[i])\n",
        "    matriz[i] = combinacao_vetores_por_soma_skipgram(palavras_numeros)\n",
        "  return matriz\n",
        "\n",
        "matriz_vetores_treino_skipgram = matriz_vetores_skipgram(treino.title)\n",
        "matriz_vetores_teste_skipgram = matriz_vetores_skipgram(teste.title)"
      ],
      "metadata": {
        "id": "1qkIjeVDyrbc"
      },
      "execution_count": null,
      "outputs": []
    },
    {
      "cell_type": "markdown",
      "source": [
        "#Acurácia do modelo com o SkipGram"
      ],
      "metadata": {
        "id": "-M_zUBhytulJ"
      }
    },
    {
      "cell_type": "code",
      "source": [
        "LR_skipgram = LogisticRegression(max_iter = 1000)\n",
        "LR_skipgram.fit(matriz_vetores_treino_skipgram, treino.category)\n",
        "label_previsao_skipgram = LR_skipgram.predict(matriz_vetores_teste_skipgram)\n",
        "cr_skipgram = classification_report(teste.category, label_previsao_skipgram)\n",
        "print(cr_skipgram)"
      ],
      "metadata": {
        "colab": {
          "base_uri": "https://localhost:8080/"
        },
        "id": "xyzV4W0e29mP",
        "outputId": "633402f6-83f8-4321-cc75-5f3149d53155"
      },
      "execution_count": null,
      "outputs": [
        {
          "output_type": "stream",
          "name": "stdout",
          "text": [
            "              precision    recall  f1-score   support\n",
            "\n",
            "     colunas       0.70      0.47      0.56      6103\n",
            "   cotidiano       0.34      0.49      0.40      1698\n",
            "     esporte       0.69      0.64      0.66      4663\n",
            "   ilustrada       0.04      0.68      0.08       131\n",
            "     mercado       0.69      0.58      0.63      5867\n",
            "       mundo       0.41      0.50      0.45      2051\n",
            "\n",
            "    accuracy                           0.55     20513\n",
            "   macro avg       0.48      0.56      0.47     20513\n",
            "weighted avg       0.63      0.55      0.58     20513\n",
            "\n"
          ]
        }
      ]
    }
  ]
}